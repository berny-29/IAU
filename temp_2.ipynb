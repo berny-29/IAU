{
 "cells": [
  {
   "cell_type": "markdown",
   "source": [
    "# Fáza 2 - Predspracovanie údajov\n",
    "\n",
    "__Autori:__ Dávid Penťa, Samuel Bernát\n",
    "__Percentuálny podiel práce:__ 50% / 50%\n",
    "\n",
    "V tejto fáze sa od Vás očakáva že realizujte predspracovanie údajov pre strojové učenie. Výsledkom bude upravená dátová sada (csv alebo tsv), kde jedno pozorovanie je opísané jedným riadkom.\n",
    "- scikit-learn vie len numerické dáta, takže treba niečo spraviť s nenumerickými dátami.\n",
    "- Replikovateľnosť predspracovania na trénovacej a testovacej množine dát, aby ste mohli\n",
    "zopakovať predspracovanie viackrát podľa Vašej potreby (iteratívne).\n",
    "\n",
    "Keď sa predspracovaním mohol zmeniť tvar a charakteristiky dát, je možné že treba realizovať EDA opakovane podľa Vašej potreby. Bodovanie znovu (EDA) nebudeme, zmeny ale dokumentujte. Problém s dátami môžete riešiť iteratívne v každej fáze aj vo všetkých fázach podľa potreby."
   ],
   "metadata": {
    "collapsed": false
   }
  },
  {
   "cell_type": "code",
   "execution_count": 103,
   "outputs": [],
   "source": [
    "import statsmodels.api as sm\n",
    "import dateparser as dateparser\n",
    "import matplotlib\n",
    "import matplotlib.pylab as pylab\n",
    "import matplotlib.pyplot as plt\n",
    "import seaborn as sns\n",
    "import pandas as pd\n",
    "import numpy as np\n",
    "import scipy.stats as stats\n",
    "import statsmodels.stats.api as sms\n",
    "from scipy.stats import skew\n",
    "from scipy.stats import kurtosis\n",
    "from scipy.stats import pearsonr\n",
    "import math\n",
    "from matplotlib import pyplot\n",
    "from numpy import exp\n",
    "from numpy.random import randn\n",
    "from sklearn.preprocessing import PowerTransformer\n",
    "from operator import itemgetter\n",
    "from sklearn.svm import SVC\n",
    "from sklearn.preprocessing import RobustScaler\n",
    "from sklearn.preprocessing import StandardScaler\n",
    "from sklearn.model_selection import train_test_split\n",
    "from sklearn.pipeline import make_pipeline\n",
    "\n",
    "from sklearn.preprocessing import MinMaxScaler\n",
    "from sklearn.preprocessing import minmax_scale\n",
    "from sklearn.preprocessing import MaxAbsScaler\n",
    "from sklearn.preprocessing import StandardScaler\n",
    "from sklearn.preprocessing import RobustScaler\n",
    "from sklearn.preprocessing import Normalizer\n",
    "from sklearn.preprocessing import LabelEncoder\n",
    "from sklearn.preprocessing import PowerTransformer\n",
    "from sklearn.pipeline import Pipeline\n",
    "from sklearn.preprocessing import StandardScaler\n",
    "from sklearn.preprocessing import PolynomialFeatures\n",
    "from sklearn.preprocessing import OneHotEncoder\n",
    "from sklearn.linear_model import LinearRegression\n",
    "from sklearn.compose import ColumnTransformer\n",
    "\n",
    "from sklearn.impute import  KNNImputer\n",
    "from sklearn.compose import ColumnTransformer\n",
    "\n",
    "pd.set_option('display.float_format', lambda x: '%.3f' % x)"
   ],
   "metadata": {
    "collapsed": false
   }
  },
  {
   "cell_type": "code",
   "execution_count": 104,
   "outputs": [],
   "source": [
    "measurements_file = \"data/measurements.csv\"\n",
    "measurements_data = pd.read_csv(measurements_file, sep='\\t')\n",
    "\n",
    "stations_file = \"data/stations.csv\"\n",
    "stations_data = pd.read_csv(stations_file, sep='\\t')"
   ],
   "metadata": {
    "collapsed": false
   }
  },
  {
   "cell_type": "markdown",
   "source": [
    "## Integrácia a čistenie dát\n",
    "Transformujte dáta na vhodný formát pre strojové učenie t.j. jedno pozorovanie musí byť opísané jedným riadkom a každý atribút musí byť v numerickom formáte.\n",
    "- Pri riešení chýbajúcich hodnôt (missing values) vyskúšajte rôzne stratégie ako napr.\n",
    "    - odstránenie pozorovaní s chýbajúcimi údajmi\n",
    "    - nahradenie chýbajúcej hodnoty mediánom, priemerom, pomerom (ku korelovanému atribútu), alebo pomocou lineárnej regresie resp. kNN\n",
    "- Podobne postupujte aj pri riešení vychýlených hodnôt (outlier detection):\n",
    "    - odstránenie vychýlených (odľahlých) pozorovaní\n",
    "    - nahradenie vychýlenej hodnoty hraničnými hodnotami rozdelenia (5% resp. 95%)"
   ],
   "metadata": {
    "collapsed": false
   }
  },
  {
   "cell_type": "code",
   "execution_count": 105,
   "outputs": [
    {
     "data": {
      "text/plain": "              QoS                 station code  latitude  longitude  \\\n0            good             Casa Blanca   MX    19.042    -98.119   \n1        building             Mikhaylovka   RU    50.060     43.238   \n2        building  Shahre Jadide Andisheh   IR    35.680     51.019   \n3        building                 Aracaju   BR   -10.911    -37.072   \n4     maintenance                  Parola   IN    20.881     75.119   \n...           ...                     ...  ...       ...        ...   \n1105     building                  Tadmur   SY    34.562     38.284   \n1106      average                  Jizzax   UZ    40.116     67.842   \n1107   acceptable            West Chester   US    39.961    -75.608   \n1108   acceptable               Oktyabrsk   RU    54.481     53.471   \n1109    excellent                 Yakuplu   TR    40.989     28.676   \n\n           revision  \n0    1574812800.000  \n1    1501027200.000  \n2    1370044800.000  \n3    1356739200.000  \n4    1562284800.000  \n...             ...  \n1105 1373414400.000  \n1106 1369872000.000  \n1107 1351987200.000  \n1108 1429315200.000  \n1109 1352505600.000  \n\n[1109 rows x 6 columns]",
      "text/html": "<div>\n<style scoped>\n    .dataframe tbody tr th:only-of-type {\n        vertical-align: middle;\n    }\n\n    .dataframe tbody tr th {\n        vertical-align: top;\n    }\n\n    .dataframe thead th {\n        text-align: right;\n    }\n</style>\n<table border=\"1\" class=\"dataframe\">\n  <thead>\n    <tr style=\"text-align: right;\">\n      <th></th>\n      <th>QoS</th>\n      <th>station</th>\n      <th>code</th>\n      <th>latitude</th>\n      <th>longitude</th>\n      <th>revision</th>\n    </tr>\n  </thead>\n  <tbody>\n    <tr>\n      <th>0</th>\n      <td>good</td>\n      <td>Casa Blanca</td>\n      <td>MX</td>\n      <td>19.042</td>\n      <td>-98.119</td>\n      <td>1574812800.000</td>\n    </tr>\n    <tr>\n      <th>1</th>\n      <td>building</td>\n      <td>Mikhaylovka</td>\n      <td>RU</td>\n      <td>50.060</td>\n      <td>43.238</td>\n      <td>1501027200.000</td>\n    </tr>\n    <tr>\n      <th>2</th>\n      <td>building</td>\n      <td>Shahre Jadide Andisheh</td>\n      <td>IR</td>\n      <td>35.680</td>\n      <td>51.019</td>\n      <td>1370044800.000</td>\n    </tr>\n    <tr>\n      <th>3</th>\n      <td>building</td>\n      <td>Aracaju</td>\n      <td>BR</td>\n      <td>-10.911</td>\n      <td>-37.072</td>\n      <td>1356739200.000</td>\n    </tr>\n    <tr>\n      <th>4</th>\n      <td>maintenance</td>\n      <td>Parola</td>\n      <td>IN</td>\n      <td>20.881</td>\n      <td>75.119</td>\n      <td>1562284800.000</td>\n    </tr>\n    <tr>\n      <th>...</th>\n      <td>...</td>\n      <td>...</td>\n      <td>...</td>\n      <td>...</td>\n      <td>...</td>\n      <td>...</td>\n    </tr>\n    <tr>\n      <th>1105</th>\n      <td>building</td>\n      <td>Tadmur</td>\n      <td>SY</td>\n      <td>34.562</td>\n      <td>38.284</td>\n      <td>1373414400.000</td>\n    </tr>\n    <tr>\n      <th>1106</th>\n      <td>average</td>\n      <td>Jizzax</td>\n      <td>UZ</td>\n      <td>40.116</td>\n      <td>67.842</td>\n      <td>1369872000.000</td>\n    </tr>\n    <tr>\n      <th>1107</th>\n      <td>acceptable</td>\n      <td>West Chester</td>\n      <td>US</td>\n      <td>39.961</td>\n      <td>-75.608</td>\n      <td>1351987200.000</td>\n    </tr>\n    <tr>\n      <th>1108</th>\n      <td>acceptable</td>\n      <td>Oktyabrsk</td>\n      <td>RU</td>\n      <td>54.481</td>\n      <td>53.471</td>\n      <td>1429315200.000</td>\n    </tr>\n    <tr>\n      <th>1109</th>\n      <td>excellent</td>\n      <td>Yakuplu</td>\n      <td>TR</td>\n      <td>40.989</td>\n      <td>28.676</td>\n      <td>1352505600.000</td>\n    </tr>\n  </tbody>\n</table>\n<p>1109 rows × 6 columns</p>\n</div>"
     },
     "execution_count": 105,
     "metadata": {},
     "output_type": "execute_result"
    }
   ],
   "source": [
    "measurements_data.dropna(inplace=True)\n",
    "stations_data.dropna(inplace=True)\n",
    "\n",
    "stations_data[\"QoS\"] = np.where(stations_data[\"QoS\"] == \"accep\", \"acceptable\", stations_data[\"QoS\"])\n",
    "stations_data[\"QoS\"] = np.where(stations_data[\"QoS\"] == \"maitennce\", \"maintenance\", stations_data[\"QoS\"])\n",
    "\n",
    "# stations_data['revision'] = stations_data['revision'].apply(lambda x: pd.Timestamp(x).strftime('%B-%d-%Y'))\n",
    "# stations_data['revision_timestamp'] = stations_data['revision'].apply(lambda x: pd.Timestamp(x).timestamp())\n",
    "stations_data['revision'] = stations_data['revision'].apply(lambda x: pd.Timestamp(x).timestamp())\n",
    "\n",
    "stations_data['latitude'] = stations_data['latitude'].round(5)\n",
    "stations_data['longitude'] = stations_data['longitude'].round(5)\n",
    "\n",
    "stations_data[\"station\"] = np.where(stations_data[\"station\"] == \"T‚Äôaebaek\", \"Taebaek\", stations_data[\"station\"])\n",
    "stations_data[\"station\"] = np.where(stations_data[\"station\"] == \"'Ali Sabieh\", \"Ali Sabieh\", stations_data[\"station\"])\n",
    "stations_data[\"station\"] = np.where(stations_data[\"station\"] == \"Oktyabr‚Äôskiy\", \"Oktyabrsk\", stations_data[\"station\"])\n",
    "stations_data[\"station\"] = np.where(stations_data[\"station\"] == \"Roslavl‚Äô\", \"Roslavl\", stations_data[\"station\"])\n",
    "stations_data[\"station\"] = np.where(stations_data[\"station\"] == \"Dyat‚Äôkovo\", \"Dyatkovo\", stations_data[\"station\"])\n",
    "\n",
    "stations_data"
   ],
   "metadata": {
    "collapsed": false
   }
  },
  {
   "cell_type": "code",
   "execution_count": 106,
   "outputs": [],
   "source": [
    "stations_data = stations_data.groupby(by='station').apply(lambda x: x.loc[x['revision']==x['revision'].max()])"
   ],
   "metadata": {
    "collapsed": false
   }
  },
  {
   "cell_type": "markdown",
   "source": [
    "## Spojenie tabuliek"
   ],
   "metadata": {
    "collapsed": false
   }
  },
  {
   "cell_type": "code",
   "execution_count": 87,
   "outputs": [
    {
     "data": {
      "text/plain": "               QoS       station code  latitude  longitude       revision  \\\n0      maintenance      Aberdeen   GB    57.144     -2.098 1545523200.000   \n1      maintenance      Aberdeen   GB    57.144     -2.098 1545523200.000   \n2      maintenance      Aberdeen   GB    57.144     -2.098 1545523200.000   \n3      maintenance      Aberdeen   GB    57.144     -2.098 1545523200.000   \n4      maintenance      Aberdeen   GB    57.144     -2.098 1545523200.000   \n...            ...           ...  ...       ...        ...            ...   \n11339    excellent  les Escaldes   AD    42.507      1.534 1418947200.000   \n11340    excellent  les Escaldes   AD    42.507      1.534 1418947200.000   \n11341    excellent  les Escaldes   AD    42.507      1.534 1418947200.000   \n11342    excellent  les Escaldes   AD    42.507      1.534 1418947200.000   \n11343    excellent  les Escaldes   AD    42.507      1.534 1418947200.000   \n\n       PM10    CO     Pb  C2H3NO5  ...    O3   TEMP   NOx   SO2    NH3   CH4  \\\n0     8.940 8.154 51.710    1.070  ... 7.592  6.608 7.424 8.528 10.371 8.041   \n1     9.927 7.481 50.207    2.649  ... 7.631  6.164 8.415 8.105  8.641 5.756   \n2     7.709 7.947 30.489    0.466  ... 9.905  7.456 6.882 8.671  7.164 8.022   \n3     8.793 7.957 41.969    0.918  ... 7.433 11.979 9.633 8.683  8.311 8.639   \n4     8.198 7.872 25.720    0.594  ... 5.302  2.991 8.131 9.956  5.980 6.373   \n...     ...   ...    ...      ...  ...   ...    ...   ...   ...    ...   ...   \n11339 8.894 7.757 43.951    1.056  ... 7.899 13.318 7.973 6.952  9.157 6.947   \n11340 7.152 6.648 56.672    0.268  ... 5.927  2.833 8.147 5.883  4.177 6.400   \n11341 8.657 5.704 61.589    0.788  ... 9.562  4.477 6.676 8.315  9.233 7.915   \n11342 6.270 4.976 49.210    0.258  ... 6.137  3.798 8.252 9.356  4.622 6.273   \n11343 7.963 7.160 46.839    0.408  ... 8.079 25.089 8.937 7.074  7.466 8.106   \n\n          PRES  PM2.5  warning  PAHs  \n0     1113.510  8.454    0.000 7.478  \n1     1141.891  8.989    0.000 5.313  \n2     1141.321  8.993    0.000 5.606  \n3     1051.385 10.077    0.000 6.808  \n4     1153.656  9.255    0.000 7.144  \n...        ...    ...      ...   ...  \n11339 1096.632  7.715    1.000 9.123  \n11340 1181.067 10.331    0.000 8.772  \n11341 1077.811  9.005    0.000 8.225  \n11342 1081.732  9.740    1.000 9.263  \n11343 1165.621  9.746    1.000 7.424  \n\n[11344 rows x 22 columns]",
      "text/html": "<div>\n<style scoped>\n    .dataframe tbody tr th:only-of-type {\n        vertical-align: middle;\n    }\n\n    .dataframe tbody tr th {\n        vertical-align: top;\n    }\n\n    .dataframe thead th {\n        text-align: right;\n    }\n</style>\n<table border=\"1\" class=\"dataframe\">\n  <thead>\n    <tr style=\"text-align: right;\">\n      <th></th>\n      <th>QoS</th>\n      <th>station</th>\n      <th>code</th>\n      <th>latitude</th>\n      <th>longitude</th>\n      <th>revision</th>\n      <th>PM10</th>\n      <th>CO</th>\n      <th>Pb</th>\n      <th>C2H3NO5</th>\n      <th>...</th>\n      <th>O3</th>\n      <th>TEMP</th>\n      <th>NOx</th>\n      <th>SO2</th>\n      <th>NH3</th>\n      <th>CH4</th>\n      <th>PRES</th>\n      <th>PM2.5</th>\n      <th>warning</th>\n      <th>PAHs</th>\n    </tr>\n  </thead>\n  <tbody>\n    <tr>\n      <th>0</th>\n      <td>maintenance</td>\n      <td>Aberdeen</td>\n      <td>GB</td>\n      <td>57.144</td>\n      <td>-2.098</td>\n      <td>1545523200.000</td>\n      <td>8.940</td>\n      <td>8.154</td>\n      <td>51.710</td>\n      <td>1.070</td>\n      <td>...</td>\n      <td>7.592</td>\n      <td>6.608</td>\n      <td>7.424</td>\n      <td>8.528</td>\n      <td>10.371</td>\n      <td>8.041</td>\n      <td>1113.510</td>\n      <td>8.454</td>\n      <td>0.000</td>\n      <td>7.478</td>\n    </tr>\n    <tr>\n      <th>1</th>\n      <td>maintenance</td>\n      <td>Aberdeen</td>\n      <td>GB</td>\n      <td>57.144</td>\n      <td>-2.098</td>\n      <td>1545523200.000</td>\n      <td>9.927</td>\n      <td>7.481</td>\n      <td>50.207</td>\n      <td>2.649</td>\n      <td>...</td>\n      <td>7.631</td>\n      <td>6.164</td>\n      <td>8.415</td>\n      <td>8.105</td>\n      <td>8.641</td>\n      <td>5.756</td>\n      <td>1141.891</td>\n      <td>8.989</td>\n      <td>0.000</td>\n      <td>5.313</td>\n    </tr>\n    <tr>\n      <th>2</th>\n      <td>maintenance</td>\n      <td>Aberdeen</td>\n      <td>GB</td>\n      <td>57.144</td>\n      <td>-2.098</td>\n      <td>1545523200.000</td>\n      <td>7.709</td>\n      <td>7.947</td>\n      <td>30.489</td>\n      <td>0.466</td>\n      <td>...</td>\n      <td>9.905</td>\n      <td>7.456</td>\n      <td>6.882</td>\n      <td>8.671</td>\n      <td>7.164</td>\n      <td>8.022</td>\n      <td>1141.321</td>\n      <td>8.993</td>\n      <td>0.000</td>\n      <td>5.606</td>\n    </tr>\n    <tr>\n      <th>3</th>\n      <td>maintenance</td>\n      <td>Aberdeen</td>\n      <td>GB</td>\n      <td>57.144</td>\n      <td>-2.098</td>\n      <td>1545523200.000</td>\n      <td>8.793</td>\n      <td>7.957</td>\n      <td>41.969</td>\n      <td>0.918</td>\n      <td>...</td>\n      <td>7.433</td>\n      <td>11.979</td>\n      <td>9.633</td>\n      <td>8.683</td>\n      <td>8.311</td>\n      <td>8.639</td>\n      <td>1051.385</td>\n      <td>10.077</td>\n      <td>0.000</td>\n      <td>6.808</td>\n    </tr>\n    <tr>\n      <th>4</th>\n      <td>maintenance</td>\n      <td>Aberdeen</td>\n      <td>GB</td>\n      <td>57.144</td>\n      <td>-2.098</td>\n      <td>1545523200.000</td>\n      <td>8.198</td>\n      <td>7.872</td>\n      <td>25.720</td>\n      <td>0.594</td>\n      <td>...</td>\n      <td>5.302</td>\n      <td>2.991</td>\n      <td>8.131</td>\n      <td>9.956</td>\n      <td>5.980</td>\n      <td>6.373</td>\n      <td>1153.656</td>\n      <td>9.255</td>\n      <td>0.000</td>\n      <td>7.144</td>\n    </tr>\n    <tr>\n      <th>...</th>\n      <td>...</td>\n      <td>...</td>\n      <td>...</td>\n      <td>...</td>\n      <td>...</td>\n      <td>...</td>\n      <td>...</td>\n      <td>...</td>\n      <td>...</td>\n      <td>...</td>\n      <td>...</td>\n      <td>...</td>\n      <td>...</td>\n      <td>...</td>\n      <td>...</td>\n      <td>...</td>\n      <td>...</td>\n      <td>...</td>\n      <td>...</td>\n      <td>...</td>\n      <td>...</td>\n    </tr>\n    <tr>\n      <th>11339</th>\n      <td>excellent</td>\n      <td>les Escaldes</td>\n      <td>AD</td>\n      <td>42.507</td>\n      <td>1.534</td>\n      <td>1418947200.000</td>\n      <td>8.894</td>\n      <td>7.757</td>\n      <td>43.951</td>\n      <td>1.056</td>\n      <td>...</td>\n      <td>7.899</td>\n      <td>13.318</td>\n      <td>7.973</td>\n      <td>6.952</td>\n      <td>9.157</td>\n      <td>6.947</td>\n      <td>1096.632</td>\n      <td>7.715</td>\n      <td>1.000</td>\n      <td>9.123</td>\n    </tr>\n    <tr>\n      <th>11340</th>\n      <td>excellent</td>\n      <td>les Escaldes</td>\n      <td>AD</td>\n      <td>42.507</td>\n      <td>1.534</td>\n      <td>1418947200.000</td>\n      <td>7.152</td>\n      <td>6.648</td>\n      <td>56.672</td>\n      <td>0.268</td>\n      <td>...</td>\n      <td>5.927</td>\n      <td>2.833</td>\n      <td>8.147</td>\n      <td>5.883</td>\n      <td>4.177</td>\n      <td>6.400</td>\n      <td>1181.067</td>\n      <td>10.331</td>\n      <td>0.000</td>\n      <td>8.772</td>\n    </tr>\n    <tr>\n      <th>11341</th>\n      <td>excellent</td>\n      <td>les Escaldes</td>\n      <td>AD</td>\n      <td>42.507</td>\n      <td>1.534</td>\n      <td>1418947200.000</td>\n      <td>8.657</td>\n      <td>5.704</td>\n      <td>61.589</td>\n      <td>0.788</td>\n      <td>...</td>\n      <td>9.562</td>\n      <td>4.477</td>\n      <td>6.676</td>\n      <td>8.315</td>\n      <td>9.233</td>\n      <td>7.915</td>\n      <td>1077.811</td>\n      <td>9.005</td>\n      <td>0.000</td>\n      <td>8.225</td>\n    </tr>\n    <tr>\n      <th>11342</th>\n      <td>excellent</td>\n      <td>les Escaldes</td>\n      <td>AD</td>\n      <td>42.507</td>\n      <td>1.534</td>\n      <td>1418947200.000</td>\n      <td>6.270</td>\n      <td>4.976</td>\n      <td>49.210</td>\n      <td>0.258</td>\n      <td>...</td>\n      <td>6.137</td>\n      <td>3.798</td>\n      <td>8.252</td>\n      <td>9.356</td>\n      <td>4.622</td>\n      <td>6.273</td>\n      <td>1081.732</td>\n      <td>9.740</td>\n      <td>1.000</td>\n      <td>9.263</td>\n    </tr>\n    <tr>\n      <th>11343</th>\n      <td>excellent</td>\n      <td>les Escaldes</td>\n      <td>AD</td>\n      <td>42.507</td>\n      <td>1.534</td>\n      <td>1418947200.000</td>\n      <td>7.963</td>\n      <td>7.160</td>\n      <td>46.839</td>\n      <td>0.408</td>\n      <td>...</td>\n      <td>8.079</td>\n      <td>25.089</td>\n      <td>8.937</td>\n      <td>7.074</td>\n      <td>7.466</td>\n      <td>8.106</td>\n      <td>1165.621</td>\n      <td>9.746</td>\n      <td>1.000</td>\n      <td>7.424</td>\n    </tr>\n  </tbody>\n</table>\n<p>11344 rows × 22 columns</p>\n</div>"
     },
     "execution_count": 87,
     "metadata": {},
     "output_type": "execute_result"
    }
   ],
   "source": [
    "df=pd.merge(stations_data, measurements_data, on=['latitude', 'longitude'], how='inner')\n",
    "\n",
    "df"
   ],
   "metadata": {
    "collapsed": false
   }
  },
  {
   "cell_type": "markdown",
   "source": [
    "### Opis každého atribútu numerickým formátom"
   ],
   "metadata": {
    "collapsed": false
   }
  },
  {
   "cell_type": "code",
   "execution_count": 88,
   "outputs": [],
   "source": [
    "df.loc[df.QoS == \"excellent\", \"QoS\"] = \"1\"\n",
    "df.loc[df.QoS == \"good\", \"QoS\"] = \"2\"\n",
    "df.loc[df.QoS == \"average\", \"QoS\"] = \"3\"\n",
    "df.loc[df.QoS == \"acceptable\", \"QoS\"] = \"4\"\n",
    "df.loc[df.QoS == \"building\", \"QoS\"] = \"5\"\n",
    "df.loc[df.QoS == \"maintenance\", \"QoS\"] = \"6\"\n",
    "\n",
    "df[['QoS']] = df[['QoS']].apply(pd.to_numeric)"
   ],
   "metadata": {
    "collapsed": false
   }
  },
  {
   "cell_type": "code",
   "execution_count": 89,
   "outputs": [
    {
     "data": {
      "text/plain": "       QoS  station  code  latitude  longitude       revision  PM10    CO  \\\n0        6        0    37    57.144     -2.098 1545523200.000 8.940 8.154   \n1        6        0    37    57.144     -2.098 1545523200.000 9.927 7.481   \n2        6        0    37    57.144     -2.098 1545523200.000 7.709 7.947   \n3        6        0    37    57.144     -2.098 1545523200.000 8.793 7.957   \n4        6        0    37    57.144     -2.098 1545523200.000 8.198 7.872   \n...    ...      ...   ...       ...        ...            ...   ...   ...   \n11339    1      660     0    42.507      1.534 1418947200.000 8.894 7.757   \n11340    1      660     0    42.507      1.534 1418947200.000 7.152 6.648   \n11341    1      660     0    42.507      1.534 1418947200.000 8.657 5.704   \n11342    1      660     0    42.507      1.534 1418947200.000 6.270 4.976   \n11343    1      660     0    42.507      1.534 1418947200.000 7.963 7.160   \n\n          Pb  C2H3NO5  ...    O3   TEMP   NOx   SO2    NH3   CH4     PRES  \\\n0     51.710    1.070  ... 7.592  6.608 7.424 8.528 10.371 8.041 1113.510   \n1     50.207    2.649  ... 7.631  6.164 8.415 8.105  8.641 5.756 1141.891   \n2     30.489    0.466  ... 9.905  7.456 6.882 8.671  7.164 8.022 1141.321   \n3     41.969    0.918  ... 7.433 11.979 9.633 8.683  8.311 8.639 1051.385   \n4     25.720    0.594  ... 5.302  2.991 8.131 9.956  5.980 6.373 1153.656   \n...      ...      ...  ...   ...    ...   ...   ...    ...   ...      ...   \n11339 43.951    1.056  ... 7.899 13.318 7.973 6.952  9.157 6.947 1096.632   \n11340 56.672    0.268  ... 5.927  2.833 8.147 5.883  4.177 6.400 1181.067   \n11341 61.589    0.788  ... 9.562  4.477 6.676 8.315  9.233 7.915 1077.811   \n11342 49.210    0.258  ... 6.137  3.798 8.252 9.356  4.622 6.273 1081.732   \n11343 46.839    0.408  ... 8.079 25.089 8.937 7.074  7.466 8.106 1165.621   \n\n       PM2.5  warning  PAHs  \n0      8.454    0.000 7.478  \n1      8.989    0.000 5.313  \n2      8.993    0.000 5.606  \n3     10.077    0.000 6.808  \n4      9.255    0.000 7.144  \n...      ...      ...   ...  \n11339  7.715    1.000 9.123  \n11340 10.331    0.000 8.772  \n11341  9.005    0.000 8.225  \n11342  9.740    1.000 9.263  \n11343  9.746    1.000 7.424  \n\n[11344 rows x 22 columns]",
      "text/html": "<div>\n<style scoped>\n    .dataframe tbody tr th:only-of-type {\n        vertical-align: middle;\n    }\n\n    .dataframe tbody tr th {\n        vertical-align: top;\n    }\n\n    .dataframe thead th {\n        text-align: right;\n    }\n</style>\n<table border=\"1\" class=\"dataframe\">\n  <thead>\n    <tr style=\"text-align: right;\">\n      <th></th>\n      <th>QoS</th>\n      <th>station</th>\n      <th>code</th>\n      <th>latitude</th>\n      <th>longitude</th>\n      <th>revision</th>\n      <th>PM10</th>\n      <th>CO</th>\n      <th>Pb</th>\n      <th>C2H3NO5</th>\n      <th>...</th>\n      <th>O3</th>\n      <th>TEMP</th>\n      <th>NOx</th>\n      <th>SO2</th>\n      <th>NH3</th>\n      <th>CH4</th>\n      <th>PRES</th>\n      <th>PM2.5</th>\n      <th>warning</th>\n      <th>PAHs</th>\n    </tr>\n  </thead>\n  <tbody>\n    <tr>\n      <th>0</th>\n      <td>6</td>\n      <td>0</td>\n      <td>37</td>\n      <td>57.144</td>\n      <td>-2.098</td>\n      <td>1545523200.000</td>\n      <td>8.940</td>\n      <td>8.154</td>\n      <td>51.710</td>\n      <td>1.070</td>\n      <td>...</td>\n      <td>7.592</td>\n      <td>6.608</td>\n      <td>7.424</td>\n      <td>8.528</td>\n      <td>10.371</td>\n      <td>8.041</td>\n      <td>1113.510</td>\n      <td>8.454</td>\n      <td>0.000</td>\n      <td>7.478</td>\n    </tr>\n    <tr>\n      <th>1</th>\n      <td>6</td>\n      <td>0</td>\n      <td>37</td>\n      <td>57.144</td>\n      <td>-2.098</td>\n      <td>1545523200.000</td>\n      <td>9.927</td>\n      <td>7.481</td>\n      <td>50.207</td>\n      <td>2.649</td>\n      <td>...</td>\n      <td>7.631</td>\n      <td>6.164</td>\n      <td>8.415</td>\n      <td>8.105</td>\n      <td>8.641</td>\n      <td>5.756</td>\n      <td>1141.891</td>\n      <td>8.989</td>\n      <td>0.000</td>\n      <td>5.313</td>\n    </tr>\n    <tr>\n      <th>2</th>\n      <td>6</td>\n      <td>0</td>\n      <td>37</td>\n      <td>57.144</td>\n      <td>-2.098</td>\n      <td>1545523200.000</td>\n      <td>7.709</td>\n      <td>7.947</td>\n      <td>30.489</td>\n      <td>0.466</td>\n      <td>...</td>\n      <td>9.905</td>\n      <td>7.456</td>\n      <td>6.882</td>\n      <td>8.671</td>\n      <td>7.164</td>\n      <td>8.022</td>\n      <td>1141.321</td>\n      <td>8.993</td>\n      <td>0.000</td>\n      <td>5.606</td>\n    </tr>\n    <tr>\n      <th>3</th>\n      <td>6</td>\n      <td>0</td>\n      <td>37</td>\n      <td>57.144</td>\n      <td>-2.098</td>\n      <td>1545523200.000</td>\n      <td>8.793</td>\n      <td>7.957</td>\n      <td>41.969</td>\n      <td>0.918</td>\n      <td>...</td>\n      <td>7.433</td>\n      <td>11.979</td>\n      <td>9.633</td>\n      <td>8.683</td>\n      <td>8.311</td>\n      <td>8.639</td>\n      <td>1051.385</td>\n      <td>10.077</td>\n      <td>0.000</td>\n      <td>6.808</td>\n    </tr>\n    <tr>\n      <th>4</th>\n      <td>6</td>\n      <td>0</td>\n      <td>37</td>\n      <td>57.144</td>\n      <td>-2.098</td>\n      <td>1545523200.000</td>\n      <td>8.198</td>\n      <td>7.872</td>\n      <td>25.720</td>\n      <td>0.594</td>\n      <td>...</td>\n      <td>5.302</td>\n      <td>2.991</td>\n      <td>8.131</td>\n      <td>9.956</td>\n      <td>5.980</td>\n      <td>6.373</td>\n      <td>1153.656</td>\n      <td>9.255</td>\n      <td>0.000</td>\n      <td>7.144</td>\n    </tr>\n    <tr>\n      <th>...</th>\n      <td>...</td>\n      <td>...</td>\n      <td>...</td>\n      <td>...</td>\n      <td>...</td>\n      <td>...</td>\n      <td>...</td>\n      <td>...</td>\n      <td>...</td>\n      <td>...</td>\n      <td>...</td>\n      <td>...</td>\n      <td>...</td>\n      <td>...</td>\n      <td>...</td>\n      <td>...</td>\n      <td>...</td>\n      <td>...</td>\n      <td>...</td>\n      <td>...</td>\n      <td>...</td>\n    </tr>\n    <tr>\n      <th>11339</th>\n      <td>1</td>\n      <td>660</td>\n      <td>0</td>\n      <td>42.507</td>\n      <td>1.534</td>\n      <td>1418947200.000</td>\n      <td>8.894</td>\n      <td>7.757</td>\n      <td>43.951</td>\n      <td>1.056</td>\n      <td>...</td>\n      <td>7.899</td>\n      <td>13.318</td>\n      <td>7.973</td>\n      <td>6.952</td>\n      <td>9.157</td>\n      <td>6.947</td>\n      <td>1096.632</td>\n      <td>7.715</td>\n      <td>1.000</td>\n      <td>9.123</td>\n    </tr>\n    <tr>\n      <th>11340</th>\n      <td>1</td>\n      <td>660</td>\n      <td>0</td>\n      <td>42.507</td>\n      <td>1.534</td>\n      <td>1418947200.000</td>\n      <td>7.152</td>\n      <td>6.648</td>\n      <td>56.672</td>\n      <td>0.268</td>\n      <td>...</td>\n      <td>5.927</td>\n      <td>2.833</td>\n      <td>8.147</td>\n      <td>5.883</td>\n      <td>4.177</td>\n      <td>6.400</td>\n      <td>1181.067</td>\n      <td>10.331</td>\n      <td>0.000</td>\n      <td>8.772</td>\n    </tr>\n    <tr>\n      <th>11341</th>\n      <td>1</td>\n      <td>660</td>\n      <td>0</td>\n      <td>42.507</td>\n      <td>1.534</td>\n      <td>1418947200.000</td>\n      <td>8.657</td>\n      <td>5.704</td>\n      <td>61.589</td>\n      <td>0.788</td>\n      <td>...</td>\n      <td>9.562</td>\n      <td>4.477</td>\n      <td>6.676</td>\n      <td>8.315</td>\n      <td>9.233</td>\n      <td>7.915</td>\n      <td>1077.811</td>\n      <td>9.005</td>\n      <td>0.000</td>\n      <td>8.225</td>\n    </tr>\n    <tr>\n      <th>11342</th>\n      <td>1</td>\n      <td>660</td>\n      <td>0</td>\n      <td>42.507</td>\n      <td>1.534</td>\n      <td>1418947200.000</td>\n      <td>6.270</td>\n      <td>4.976</td>\n      <td>49.210</td>\n      <td>0.258</td>\n      <td>...</td>\n      <td>6.137</td>\n      <td>3.798</td>\n      <td>8.252</td>\n      <td>9.356</td>\n      <td>4.622</td>\n      <td>6.273</td>\n      <td>1081.732</td>\n      <td>9.740</td>\n      <td>1.000</td>\n      <td>9.263</td>\n    </tr>\n    <tr>\n      <th>11343</th>\n      <td>1</td>\n      <td>660</td>\n      <td>0</td>\n      <td>42.507</td>\n      <td>1.534</td>\n      <td>1418947200.000</td>\n      <td>7.963</td>\n      <td>7.160</td>\n      <td>46.839</td>\n      <td>0.408</td>\n      <td>...</td>\n      <td>8.079</td>\n      <td>25.089</td>\n      <td>8.937</td>\n      <td>7.074</td>\n      <td>7.466</td>\n      <td>8.106</td>\n      <td>1165.621</td>\n      <td>9.746</td>\n      <td>1.000</td>\n      <td>7.424</td>\n    </tr>\n  </tbody>\n</table>\n<p>11344 rows × 22 columns</p>\n</div>"
     },
     "execution_count": 89,
     "metadata": {},
     "output_type": "execute_result"
    }
   ],
   "source": [
    "le = LabelEncoder()\n",
    "le.fit(df['station'])\n",
    "df['station'] = le.transform(df['station'])\n",
    "\n",
    "le.fit(df['code'])\n",
    "df['code'] = le.transform(df['code'])\n",
    "\n",
    "df"
   ],
   "metadata": {
    "collapsed": false
   }
  },
  {
   "cell_type": "markdown",
   "source": [
    "### Uloženie upravenej dátovej sady do .csv súboru"
   ],
   "metadata": {
    "collapsed": false
   }
  },
  {
   "cell_type": "code",
   "execution_count": 90,
   "outputs": [],
   "source": [
    "# output = df[['station_ID', 'code_ID', 'QoS_ID', 'warning', 'latitude', 'longitude', 'revision','PAHs', 'PM10', 'CO', 'Pb', 'C2H3NO5', 'CFCs', 'H2CO', 'O3', 'TEMP', 'NOx', 'SO2', 'NH3', 'CH4', 'PRES', 'PM2.5']]\n",
    "#\n",
    "# output.to_csv('output.csv', index=False)"
   ],
   "metadata": {
    "collapsed": false
   }
  },
  {
   "cell_type": "markdown",
   "source": [
    "### Power Transformer"
   ],
   "metadata": {
    "collapsed": false
   }
  },
  {
   "cell_type": "code",
   "execution_count": 91,
   "outputs": [],
   "source": [
    "def power_transform(column_name):\n",
    "\n",
    "    sns.histplot(data=df, hue='warning', x=column_name, fill=True, kde=True)\n",
    "    plt.show()\n",
    "\n",
    "    data = df[column_name].values\n",
    "    data = data.reshape((len(data),1))\n",
    "\n",
    "\n",
    "    data_trans = PowerTransformer(method='yeo-johnson', standardize=True).fit_transform(data)\n",
    "    df[column_name] = data_trans\n",
    "\n",
    "    sns.histplot(data=df, hue='warning', x=column_name, fill=True, kde=True)\n",
    "    plt.show()\n",
    "\n",
    "def transform(column_name):\n",
    "\n",
    "    sns.histplot(data=df, hue='warning', x=column_name, fill=True, kde=True)\n",
    "    plt.show()\n",
    "\n",
    "    data = df[column_name].values\n",
    "    data = data.reshape((len(data),1))\n",
    "\n",
    "    power = StandardScaler()\n",
    "    data_trans = power.fit_transform(data)\n",
    "    df[column_name] = data_trans\n",
    "\n",
    "    sns.histplot(data=df, hue='warning', x=column_name, fill=True, kde=True)\n",
    "    plt.show()"
   ],
   "metadata": {
    "collapsed": false
   }
  },
  {
   "cell_type": "code",
   "execution_count": 92,
   "outputs": [],
   "source": [
    "# power_transform('C2H3NO5')\n",
    "#\n",
    "# variables_arr = ['PAHs', 'PM10', 'CO', 'Pb', 'C2H3NO5', 'CFCs', 'H2CO', 'O3', 'TEMP', 'NOx', 'SO2', 'NH3', 'CH4', 'PRES', 'PM2.5']\n",
    "#\n",
    "# for i in variables_arr:\n",
    "#     print(i)\n",
    "#     transform(i)\n",
    "\n",
    "#\n",
    "# def power(data):\n",
    "#     variables_arr = ['PAHs', 'PM10', 'CO', 'Pb', 'C2H3NO5', 'CFCs', 'H2CO', 'O3', 'TEMP', 'NOx', 'SO2', 'NH3', 'CH4', 'PRES', 'PM2.5']\n",
    "#\n",
    "#     for i in variables_arr:\n",
    "#         # print(i)\n",
    "#         # transform(i)\n",
    "#         if abs(data[i].skew()) > 1.5:\n",
    "#             power_transform(i)"
   ],
   "metadata": {
    "collapsed": false
   }
  },
  {
   "cell_type": "markdown",
   "source": [
    "### Zoradenie podla p a zaroven r"
   ],
   "metadata": {
    "collapsed": false
   }
  },
  {
   "cell_type": "code",
   "execution_count": 93,
   "outputs": [
    {
     "name": "stdout",
     "output_type": "stream",
     "text": [
      "1       PAHs 0.63745 0.00000\n",
      "2       PM10 0.38176 0.00000\n",
      "3        NH3 0.33896 0.00000\n",
      "4        CH4 0.33534 0.00000\n",
      "5    C2H3NO5 0.11375 0.00000\n",
      "6      PM2.5 0.02611 0.00542\n",
      "7       H2CO 0.01939 0.03889\n"
     ]
    }
   ],
   "source": [
    "arr = []\n",
    "\n",
    "for i in list(df.columns.values):\n",
    "    if i != 'QoS' and i != 'station' and i != 'code':\n",
    "        (r, p) = pearsonr(df['warning'], df[i])\n",
    "        if p < 0.05 and i != 'warning':\n",
    "            arr.append([i, abs(r), p])\n",
    "\n",
    "arr = sorted(arr, key=itemgetter(1))\n",
    "a = []\n",
    "for i in range(len(arr)):\n",
    "    a.append([i + 1, arr[len(arr) - i - 1][0], arr[len(arr) - i - 1][1], arr[len(arr) - i - 1][2]])\n",
    "\n",
    "for row in a:\n",
    "    print(\"{: >0} {: >10} {:.5f} {:.5f}\".format(*row))"
   ],
   "metadata": {
    "collapsed": false
   }
  },
  {
   "cell_type": "code",
   "execution_count": 94,
   "outputs": [],
   "source": [
    "def transforming_pipe(X):\n",
    "    column_names = ['QoS', 'station', 'code', 'latitude', 'longitude', 'revision', 'PAHs', 'PM10', 'CO', 'Pb', 'C2H3NO5', 'CFCs', 'H2CO', 'O3', 'TEMP', 'NOx', 'SO2', 'NH3', 'CH4', 'PRES', 'PM2.5']\n",
    "    variables = ['PAHs', 'PM10', 'CO', 'Pb', 'C2H3NO5', 'CFCs', 'H2CO', 'O3', 'TEMP', 'NOx', 'SO2', 'NH3', 'CH4', 'PRES', 'PM2.5']\n",
    "    passthroughs = ['QoS', 'station', 'code', 'latitude', 'longitude', 'revision']\n",
    "\n",
    "# , y = None\n",
    "    # if y is not None:\n",
    "    #     X['warning'] = y\n",
    "    #     passthroughs.insert(0, 'warning')\n",
    "    #     column_names.insert(0, 'warning')\n",
    "\n",
    "    pipe_vars = make_pipeline(\n",
    "                           # KNNImputer(n_neighbors=5, weights='uniform', metric='nan_euclidean'),\n",
    "                           PowerTransformer(method='yeo-johnson', standardize=True),\n",
    "                           Normalizer(),\n",
    "                           StandardScaler())\n",
    "    ct = ColumnTransformer([('passthrough', 'passthrough', passthroughs), ('num_transformer', pipe_vars, variables)])\n",
    "\n",
    "    pipeline = Pipeline([('column_transformer', ct)])\n",
    "\n",
    "    pipeline.fit(X)\n",
    "    transformed_df = pd.DataFrame(pipeline.transform(X), columns=column_names).copy()\n",
    "\n",
    "    return transformed_df"
   ],
   "metadata": {
    "collapsed": false
   }
  },
  {
   "cell_type": "code",
   "execution_count": 95,
   "outputs": [],
   "source": [
    "def clean_and_merge(station_data, measurement_data):\n",
    "\n",
    "    # TODO: add KNN - Nan\n",
    "\n",
    "    measurement_data.dropna(inplace=True)\n",
    "    station_data.dropna(inplace=True)\n",
    "\n",
    "    station_data[\"QoS\"] = np.where(station_data[\"QoS\"] == \"accep\", \"acceptable\", station_data[\"QoS\"])\n",
    "    station_data[\"QoS\"] = np.where(station_data[\"QoS\"] == \"maitennce\", \"maintenance\", station_data[\"QoS\"])\n",
    "    station_data['revision'] = station_data['revision'].apply(lambda x: pd.Timestamp(x).timestamp())\n",
    "    station_data['latitude'] = station_data['latitude'].round(5)\n",
    "    station_data['longitude'] = station_data['longitude'].round(5)\n",
    "    station_data[\"station\"] = np.where(station_data[\"station\"] == \"T‚Äôaebaek\", \"Taebaek\", station_data[\"station\"])\n",
    "    station_data[\"station\"] = np.where(station_data[\"station\"] == \"'Ali Sabieh\", \"Ali Sabieh\", station_data[\"station\"])\n",
    "    station_data[\"station\"] = np.where(station_data[\"station\"] == \"Oktyabr‚Äôskiy\", \"Oktyabrsk\", station_data[\"station\"])\n",
    "    station_data[\"station\"] = np.where(station_data[\"station\"] == \"Roslavl‚Äô\", \"Roslavl\", station_data[\"station\"])\n",
    "    station_data[\"station\"] = np.where(station_data[\"station\"] == \"Dyat‚Äôkovo\", \"Dyatkovo\", station_data[\"station\"])\n",
    "\n",
    "    station_data = station_data.groupby(by='station').apply(lambda x: x.loc[x['revision']==x['revision'].max()])\n",
    "\n",
    "    station_data.loc[station_data.QoS == \"excellent\", \"QoS\"] = \"1\"\n",
    "    station_data.loc[station_data.QoS == \"good\", \"QoS\"] = \"2\"\n",
    "    station_data.loc[station_data.QoS == \"average\", \"QoS\"] = \"3\"\n",
    "    station_data.loc[station_data.QoS == \"acceptable\", \"QoS\"] = \"4\"\n",
    "    station_data.loc[station_data.QoS == \"building\", \"QoS\"] = \"5\"\n",
    "    station_data.loc[station_data.QoS == \"maintenance\", \"QoS\"] = \"6\"\n",
    "    station_data[['QoS']] = station_data[['QoS']].apply(pd.to_numeric)\n",
    "\n",
    "    le = LabelEncoder()\n",
    "    le.fit(station_data['station'])\n",
    "    station_data['station'] = le.transform(station_data['station'])\n",
    "\n",
    "    le.fit(station_data['code'])\n",
    "    station_data['code'] = le.transform(station_data['code'])\n",
    "\n",
    "    merged_data = pd.merge(station_data, measurement_data, on=['latitude', 'longitude'], how='inner')\n",
    "\n",
    "    return merged_data"
   ],
   "metadata": {
    "collapsed": false
   }
  },
  {
   "cell_type": "code",
   "execution_count": 96,
   "outputs": [],
   "source": [
    "def chose_informative_attributes_for_ml(X, y):\n",
    "    info_attributes = []\n",
    "    for column_name in list(X.columns.values):\n",
    "        (r, p) = pearsonr(y, X[column_name])\n",
    "        if p < 0.05:\n",
    "            info_attributes.append([column_name, abs(r), p])\n",
    "\n",
    "    array = sorted(info_attributes, key=itemgetter(1))\n",
    "\n",
    "    sorted_info_attributes = []\n",
    "    for i in range(len(array)):\n",
    "        sorted_info_attributes.append([i + 1, array[len(array) - i - 1][0], array[len(array) - i - 1][1], array[len(array) - i - 1][2]])\n",
    "\n",
    "    for row in sorted_info_attributes:\n",
    "        print(\"{: >0} {: >10} {:.5f} {:.5f}\".format(*row))\n",
    "\n"
   ],
   "metadata": {
    "collapsed": false
   }
  },
  {
   "cell_type": "code",
   "execution_count": 97,
   "outputs": [
    {
     "name": "stdout",
     "output_type": "stream",
     "text": [
      "1       PAHs 0.66587 0.00000\n",
      "2       PM10 0.40445 0.00000\n",
      "3    C2H3NO5 0.37714 0.00000\n",
      "4        NH3 0.34200 0.00000\n",
      "5        CH4 0.32998 0.00000\n",
      "6      PM2.5 0.03169 0.00074\n",
      "7         O3 0.02062 0.02806\n",
      "8       H2CO 0.01971 0.03583\n"
     ]
    }
   ],
   "source": [
    "measurements_data2 = pd.read_csv(measurements_file, sep='\\t')\n",
    "stations_data2 = pd.read_csv(stations_file, sep='\\t')\n",
    "\n",
    "df3 = clean_and_merge(stations_data2, measurements_data2)\n",
    "\n",
    "column_names = ['QoS', 'station', 'code', 'latitude', 'longitude', 'revision', 'PAHs', 'PM10', 'CO', 'Pb', 'C2H3NO5', 'CFCs', 'H2CO', 'O3', 'TEMP', 'NOx', 'SO2', 'NH3', 'CH4', 'PRES', 'PM2.5']\n",
    "\n",
    "X = df3[column_names]\n",
    "y = df3['warning']\n",
    "\n",
    "X_train, X_test, y_train, y_test = train_test_split(X, y)\n",
    "\n",
    "d = transforming_pipe(X)\n",
    "chose_informative_attributes_for_ml(d, y)"
   ],
   "metadata": {
    "collapsed": false
   }
  },
  {
   "cell_type": "code",
   "execution_count": 98,
   "outputs": [],
   "source": [
    "# def all_displots(data):\n",
    "#     for column_name in list(data.columns.values):\n",
    "#         sns.displot(data[column_name], bins=20, kde=True)"
   ],
   "metadata": {
    "collapsed": false
   }
  },
  {
   "cell_type": "code",
   "execution_count": 99,
   "outputs": [],
   "source": [
    "# all_displots(d)"
   ],
   "metadata": {
    "collapsed": false
   }
  },
  {
   "cell_type": "code",
   "execution_count": 100,
   "outputs": [
    {
     "data": {
      "text/plain": "        QoS  station   code  latitude  longitude       revision   PAHs   PM10  \\\n0     6.000    0.000 37.000    57.144     -2.098 1545523200.000 -0.272  0.413   \n1     6.000    0.000 37.000    57.144     -2.098 1545523200.000 -1.904  1.428   \n2     6.000    0.000 37.000    57.144     -2.098 1545523200.000 -1.747 -0.510   \n3     6.000    0.000 37.000    57.144     -2.098 1545523200.000 -0.785  0.398   \n4     6.000    0.000 37.000    57.144     -2.098 1545523200.000 -0.492 -0.058   \n...     ...      ...    ...       ...        ...            ...    ...    ...   \n11339 1.000  660.000  0.000    42.507      1.534 1418947200.000  0.882  0.577   \n11340 1.000  660.000  0.000    42.507      1.534 1418947200.000  0.388 -0.672   \n11341 1.000  660.000  0.000    42.507      1.534 1418947200.000  0.123  0.261   \n11342 1.000  660.000  0.000    42.507      1.534 1418947200.000  0.589 -1.086   \n11343 1.000  660.000  0.000    42.507      1.534 1418947200.000 -0.508 -0.340   \n\n          CO     Pb  ...   CFCs   H2CO     O3   TEMP    NOx    SO2    NH3  \\\n0      0.354  0.734  ...  2.867 -1.047 -0.082 -0.808 -0.329  0.712  1.624   \n1     -0.391  0.857  ...  0.464 -1.240 -0.094 -1.177  0.852  0.428  0.997   \n2      0.224 -1.267  ... -1.194 -0.927  1.494 -1.036 -1.202  1.207 -0.080   \n3      0.212 -0.014  ... -0.408 -0.571 -0.207 -0.385  2.267  1.091  0.693   \n4      0.097 -1.390  ...  1.361 -0.784 -1.307 -1.270  0.381  2.305 -0.755   \n...      ...    ...  ...    ...    ...    ...    ...    ...    ...    ...   \n11339 -0.033  0.217  ...  2.350 -0.611  0.095 -0.275  0.298 -1.212  1.536   \n11340 -1.052  1.094  ... -0.835 -0.248 -0.868 -1.143  0.354 -1.751 -1.610   \n11341 -2.209  1.672  ...  0.222 -0.274  0.993 -1.133 -1.168  0.572  1.156   \n11342 -2.400  0.490  ...  0.644 -0.187 -0.706 -0.968  0.416  1.359 -1.266   \n11343 -0.965  0.595  ... -1.081  0.005  0.245  1.532  1.838 -1.099  0.170   \n\n         CH4   PRES  PM2.5  \n0      0.568 -0.248 -0.492  \n1     -0.974  0.485 -0.086  \n2      0.805  0.481 -0.084  \n3      1.131 -1.985  1.031  \n4     -0.389  0.660  0.170  \n...      ...    ...    ...  \n11339 -0.032 -0.935 -1.696  \n11340 -0.334  1.149  1.000  \n11341  0.566 -1.127 -0.054  \n11342 -0.375 -0.831  0.492  \n11343  1.011  1.397  0.900  \n\n[11344 rows x 21 columns]",
      "text/html": "<div>\n<style scoped>\n    .dataframe tbody tr th:only-of-type {\n        vertical-align: middle;\n    }\n\n    .dataframe tbody tr th {\n        vertical-align: top;\n    }\n\n    .dataframe thead th {\n        text-align: right;\n    }\n</style>\n<table border=\"1\" class=\"dataframe\">\n  <thead>\n    <tr style=\"text-align: right;\">\n      <th></th>\n      <th>QoS</th>\n      <th>station</th>\n      <th>code</th>\n      <th>latitude</th>\n      <th>longitude</th>\n      <th>revision</th>\n      <th>PAHs</th>\n      <th>PM10</th>\n      <th>CO</th>\n      <th>Pb</th>\n      <th>...</th>\n      <th>CFCs</th>\n      <th>H2CO</th>\n      <th>O3</th>\n      <th>TEMP</th>\n      <th>NOx</th>\n      <th>SO2</th>\n      <th>NH3</th>\n      <th>CH4</th>\n      <th>PRES</th>\n      <th>PM2.5</th>\n    </tr>\n  </thead>\n  <tbody>\n    <tr>\n      <th>0</th>\n      <td>6.000</td>\n      <td>0.000</td>\n      <td>37.000</td>\n      <td>57.144</td>\n      <td>-2.098</td>\n      <td>1545523200.000</td>\n      <td>-0.272</td>\n      <td>0.413</td>\n      <td>0.354</td>\n      <td>0.734</td>\n      <td>...</td>\n      <td>2.867</td>\n      <td>-1.047</td>\n      <td>-0.082</td>\n      <td>-0.808</td>\n      <td>-0.329</td>\n      <td>0.712</td>\n      <td>1.624</td>\n      <td>0.568</td>\n      <td>-0.248</td>\n      <td>-0.492</td>\n    </tr>\n    <tr>\n      <th>1</th>\n      <td>6.000</td>\n      <td>0.000</td>\n      <td>37.000</td>\n      <td>57.144</td>\n      <td>-2.098</td>\n      <td>1545523200.000</td>\n      <td>-1.904</td>\n      <td>1.428</td>\n      <td>-0.391</td>\n      <td>0.857</td>\n      <td>...</td>\n      <td>0.464</td>\n      <td>-1.240</td>\n      <td>-0.094</td>\n      <td>-1.177</td>\n      <td>0.852</td>\n      <td>0.428</td>\n      <td>0.997</td>\n      <td>-0.974</td>\n      <td>0.485</td>\n      <td>-0.086</td>\n    </tr>\n    <tr>\n      <th>2</th>\n      <td>6.000</td>\n      <td>0.000</td>\n      <td>37.000</td>\n      <td>57.144</td>\n      <td>-2.098</td>\n      <td>1545523200.000</td>\n      <td>-1.747</td>\n      <td>-0.510</td>\n      <td>0.224</td>\n      <td>-1.267</td>\n      <td>...</td>\n      <td>-1.194</td>\n      <td>-0.927</td>\n      <td>1.494</td>\n      <td>-1.036</td>\n      <td>-1.202</td>\n      <td>1.207</td>\n      <td>-0.080</td>\n      <td>0.805</td>\n      <td>0.481</td>\n      <td>-0.084</td>\n    </tr>\n    <tr>\n      <th>3</th>\n      <td>6.000</td>\n      <td>0.000</td>\n      <td>37.000</td>\n      <td>57.144</td>\n      <td>-2.098</td>\n      <td>1545523200.000</td>\n      <td>-0.785</td>\n      <td>0.398</td>\n      <td>0.212</td>\n      <td>-0.014</td>\n      <td>...</td>\n      <td>-0.408</td>\n      <td>-0.571</td>\n      <td>-0.207</td>\n      <td>-0.385</td>\n      <td>2.267</td>\n      <td>1.091</td>\n      <td>0.693</td>\n      <td>1.131</td>\n      <td>-1.985</td>\n      <td>1.031</td>\n    </tr>\n    <tr>\n      <th>4</th>\n      <td>6.000</td>\n      <td>0.000</td>\n      <td>37.000</td>\n      <td>57.144</td>\n      <td>-2.098</td>\n      <td>1545523200.000</td>\n      <td>-0.492</td>\n      <td>-0.058</td>\n      <td>0.097</td>\n      <td>-1.390</td>\n      <td>...</td>\n      <td>1.361</td>\n      <td>-0.784</td>\n      <td>-1.307</td>\n      <td>-1.270</td>\n      <td>0.381</td>\n      <td>2.305</td>\n      <td>-0.755</td>\n      <td>-0.389</td>\n      <td>0.660</td>\n      <td>0.170</td>\n    </tr>\n    <tr>\n      <th>...</th>\n      <td>...</td>\n      <td>...</td>\n      <td>...</td>\n      <td>...</td>\n      <td>...</td>\n      <td>...</td>\n      <td>...</td>\n      <td>...</td>\n      <td>...</td>\n      <td>...</td>\n      <td>...</td>\n      <td>...</td>\n      <td>...</td>\n      <td>...</td>\n      <td>...</td>\n      <td>...</td>\n      <td>...</td>\n      <td>...</td>\n      <td>...</td>\n      <td>...</td>\n      <td>...</td>\n    </tr>\n    <tr>\n      <th>11339</th>\n      <td>1.000</td>\n      <td>660.000</td>\n      <td>0.000</td>\n      <td>42.507</td>\n      <td>1.534</td>\n      <td>1418947200.000</td>\n      <td>0.882</td>\n      <td>0.577</td>\n      <td>-0.033</td>\n      <td>0.217</td>\n      <td>...</td>\n      <td>2.350</td>\n      <td>-0.611</td>\n      <td>0.095</td>\n      <td>-0.275</td>\n      <td>0.298</td>\n      <td>-1.212</td>\n      <td>1.536</td>\n      <td>-0.032</td>\n      <td>-0.935</td>\n      <td>-1.696</td>\n    </tr>\n    <tr>\n      <th>11340</th>\n      <td>1.000</td>\n      <td>660.000</td>\n      <td>0.000</td>\n      <td>42.507</td>\n      <td>1.534</td>\n      <td>1418947200.000</td>\n      <td>0.388</td>\n      <td>-0.672</td>\n      <td>-1.052</td>\n      <td>1.094</td>\n      <td>...</td>\n      <td>-0.835</td>\n      <td>-0.248</td>\n      <td>-0.868</td>\n      <td>-1.143</td>\n      <td>0.354</td>\n      <td>-1.751</td>\n      <td>-1.610</td>\n      <td>-0.334</td>\n      <td>1.149</td>\n      <td>1.000</td>\n    </tr>\n    <tr>\n      <th>11341</th>\n      <td>1.000</td>\n      <td>660.000</td>\n      <td>0.000</td>\n      <td>42.507</td>\n      <td>1.534</td>\n      <td>1418947200.000</td>\n      <td>0.123</td>\n      <td>0.261</td>\n      <td>-2.209</td>\n      <td>1.672</td>\n      <td>...</td>\n      <td>0.222</td>\n      <td>-0.274</td>\n      <td>0.993</td>\n      <td>-1.133</td>\n      <td>-1.168</td>\n      <td>0.572</td>\n      <td>1.156</td>\n      <td>0.566</td>\n      <td>-1.127</td>\n      <td>-0.054</td>\n    </tr>\n    <tr>\n      <th>11342</th>\n      <td>1.000</td>\n      <td>660.000</td>\n      <td>0.000</td>\n      <td>42.507</td>\n      <td>1.534</td>\n      <td>1418947200.000</td>\n      <td>0.589</td>\n      <td>-1.086</td>\n      <td>-2.400</td>\n      <td>0.490</td>\n      <td>...</td>\n      <td>0.644</td>\n      <td>-0.187</td>\n      <td>-0.706</td>\n      <td>-0.968</td>\n      <td>0.416</td>\n      <td>1.359</td>\n      <td>-1.266</td>\n      <td>-0.375</td>\n      <td>-0.831</td>\n      <td>0.492</td>\n    </tr>\n    <tr>\n      <th>11343</th>\n      <td>1.000</td>\n      <td>660.000</td>\n      <td>0.000</td>\n      <td>42.507</td>\n      <td>1.534</td>\n      <td>1418947200.000</td>\n      <td>-0.508</td>\n      <td>-0.340</td>\n      <td>-0.965</td>\n      <td>0.595</td>\n      <td>...</td>\n      <td>-1.081</td>\n      <td>0.005</td>\n      <td>0.245</td>\n      <td>1.532</td>\n      <td>1.838</td>\n      <td>-1.099</td>\n      <td>0.170</td>\n      <td>1.011</td>\n      <td>1.397</td>\n      <td>0.900</td>\n    </tr>\n  </tbody>\n</table>\n<p>11344 rows × 21 columns</p>\n</div>"
     },
     "execution_count": 100,
     "metadata": {},
     "output_type": "execute_result"
    }
   ],
   "source": [
    "d"
   ],
   "metadata": {
    "collapsed": false
   }
  },
  {
   "cell_type": "code",
   "execution_count": 101,
   "outputs": [
    {
     "data": {
      "text/plain": "0.9255994358251057"
     },
     "metadata": {},
     "output_type": "display_data"
    }
   ],
   "source": [
    "from sklearn.svm import SVC\n",
    "from sklearn.multiclass import OneVsRestClassifier\n",
    "from sklearn.preprocessing import LabelBinarizer\n",
    "\n",
    "column_names = ['QoS', 'station', 'code', 'latitude', 'longitude', 'revision', 'PAHs', 'PM10', 'CO', 'Pb', 'C2H3NO5', 'CFCs', 'H2CO', 'O3', 'TEMP', 'NOx', 'SO2', 'NH3', 'CH4', 'PRES', 'PM2.5']\n",
    "# X, y = d[column_names], d['warning']\n",
    "\n",
    "# X = d[column_names]\n",
    "# y = d['warning']\n",
    "\n",
    "# X_train, X_test, y_train, y_test\n",
    "# gamma=0.001, C=100., random_state=0\n",
    "classif = OneVsRestClassifier(estimator=LinearRegression())\n",
    "classif.fit(X_train, y_train) #.predict(X_train)\n",
    "\n",
    "# X_train, X_test, y_train, y_test\n",
    "# print(X_train)\n",
    "\n",
    "classif.fit(X_train, y_train)\n",
    "\n",
    "# display(classif.predict(X_test))\n",
    "display(classif.score(X_test, y_test))\n",
    "# display(X_train)\n",
    "# display(X_test)\n",
    "# display(y_train)\n",
    "# display(y_test)\n",
    "# d['warning'].value_counts()\n",
    "\n",
    "# 0.9245416078984485"
   ],
   "metadata": {
    "collapsed": false
   }
  },
  {
   "cell_type": "code",
   "execution_count": 102,
   "outputs": [
    {
     "ename": "NameError",
     "evalue": "name 'SimpleImputer' is not defined",
     "output_type": "error",
     "traceback": [
      "\u001B[0;31m---------------------------------------------------------------------------\u001B[0m",
      "\u001B[0;31mNameError\u001B[0m                                 Traceback (most recent call last)",
      "Cell \u001B[0;32mIn [102], line 1\u001B[0m\n\u001B[0;32m----> 1\u001B[0m imp \u001B[38;5;241m=\u001B[39m \u001B[43mSimpleImputer\u001B[49m(missing_values\u001B[38;5;241m=\u001B[39mnp\u001B[38;5;241m.\u001B[39mnan, strategy\u001B[38;5;241m=\u001B[39m\u001B[38;5;124m'\u001B[39m\u001B[38;5;124mmean\u001B[39m\u001B[38;5;124m'\u001B[39m)\n",
      "\u001B[0;31mNameError\u001B[0m: name 'SimpleImputer' is not defined"
     ]
    }
   ],
   "source": [
    "imp = SimpleImputer(missing_values=np.nan, strategy='mean')"
   ],
   "metadata": {
    "collapsed": false
   }
  },
  {
   "cell_type": "code",
   "execution_count": null,
   "outputs": [],
   "source": [],
   "metadata": {
    "collapsed": false
   }
  }
 ],
 "metadata": {
  "kernelspec": {
   "display_name": "Python 3",
   "language": "python",
   "name": "python3"
  },
  "language_info": {
   "codemirror_mode": {
    "name": "ipython",
    "version": 2
   },
   "file_extension": ".py",
   "mimetype": "text/x-python",
   "name": "python",
   "nbconvert_exporter": "python",
   "pygments_lexer": "ipython2",
   "version": "2.7.6"
  }
 },
 "nbformat": 4,
 "nbformat_minor": 0
}