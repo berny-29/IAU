{
 "cells": [
  {
   "cell_type": "code",
   "execution_count": 9,
   "outputs": [],
   "source": [
    "import matplotlib\n",
    "import matplotlib.pylab as pylab\n",
    "import matplotlib.pyplot as plt\n",
    "import seaborn as sns\n",
    "import pandas as pd\n",
    "import numpy as np\n",
    "import scipy.stats as stats"
   ],
   "metadata": {
    "collapsed": false
   }
  },
  {
   "cell_type": "code",
   "execution_count": 11,
   "outputs": [
    {
     "data": {
      "text/plain": "      PM10       CO        Pb  C2H3NO5      CFCs      H2CO        O3  \\\n0  6.33846  6.61796  44.89247  0.22646  37.51693  39.50358   6.93304   \n1  7.90785  8.15426  50.02976  0.40716  49.00037  41.15652  10.00080   \n2  6.78253  7.32578  50.42226  0.27588  53.51533  61.03352   6.41183   \n3  5.71508  9.26158  26.86094  0.18788  35.69230  57.17648   7.94233   \n4  9.16375  7.12481  48.82457  1.32986  32.22006  46.82387  11.63958   \n\n       TEMP      NOx      SO2  latitude  longitude      NH3      CH4  \\\n0  18.26344  7.24953  8.60015  53.95278   32.86389  5.35805  6.00130   \n1  18.84880  7.08920  8.16071   9.33370  122.86370  6.22960  7.40706   \n2  13.61953  8.25103  8.93315  58.63667   59.80222  5.16975  5.07507   \n3  16.76223  4.10062  4.44370  12.95629   78.27539  5.76106  7.01203   \n4  12.48813  6.26932  7.81736  32.54044  -82.90375  5.96896  8.44913   \n\n         PRES     PM2.5  warning     PAHs  \n0  1136.95323  10.59506      1.0  9.24391  \n1  1104.78569   7.82884      0.0      NaN  \n2  1148.76311  10.04912      1.0  8.73640  \n3  1089.36057  10.53430      1.0  8.67231  \n4  1099.39295   9.40919      0.0  4.80834  ",
      "text/html": "<div>\n<style scoped>\n    .dataframe tbody tr th:only-of-type {\n        vertical-align: middle;\n    }\n\n    .dataframe tbody tr th {\n        vertical-align: top;\n    }\n\n    .dataframe thead th {\n        text-align: right;\n    }\n</style>\n<table border=\"1\" class=\"dataframe\">\n  <thead>\n    <tr style=\"text-align: right;\">\n      <th></th>\n      <th>PM10</th>\n      <th>CO</th>\n      <th>Pb</th>\n      <th>C2H3NO5</th>\n      <th>CFCs</th>\n      <th>H2CO</th>\n      <th>O3</th>\n      <th>TEMP</th>\n      <th>NOx</th>\n      <th>SO2</th>\n      <th>latitude</th>\n      <th>longitude</th>\n      <th>NH3</th>\n      <th>CH4</th>\n      <th>PRES</th>\n      <th>PM2.5</th>\n      <th>warning</th>\n      <th>PAHs</th>\n    </tr>\n  </thead>\n  <tbody>\n    <tr>\n      <th>0</th>\n      <td>6.33846</td>\n      <td>6.61796</td>\n      <td>44.89247</td>\n      <td>0.22646</td>\n      <td>37.51693</td>\n      <td>39.50358</td>\n      <td>6.93304</td>\n      <td>18.26344</td>\n      <td>7.24953</td>\n      <td>8.60015</td>\n      <td>53.95278</td>\n      <td>32.86389</td>\n      <td>5.35805</td>\n      <td>6.00130</td>\n      <td>1136.95323</td>\n      <td>10.59506</td>\n      <td>1.0</td>\n      <td>9.24391</td>\n    </tr>\n    <tr>\n      <th>1</th>\n      <td>7.90785</td>\n      <td>8.15426</td>\n      <td>50.02976</td>\n      <td>0.40716</td>\n      <td>49.00037</td>\n      <td>41.15652</td>\n      <td>10.00080</td>\n      <td>18.84880</td>\n      <td>7.08920</td>\n      <td>8.16071</td>\n      <td>9.33370</td>\n      <td>122.86370</td>\n      <td>6.22960</td>\n      <td>7.40706</td>\n      <td>1104.78569</td>\n      <td>7.82884</td>\n      <td>0.0</td>\n      <td>NaN</td>\n    </tr>\n    <tr>\n      <th>2</th>\n      <td>6.78253</td>\n      <td>7.32578</td>\n      <td>50.42226</td>\n      <td>0.27588</td>\n      <td>53.51533</td>\n      <td>61.03352</td>\n      <td>6.41183</td>\n      <td>13.61953</td>\n      <td>8.25103</td>\n      <td>8.93315</td>\n      <td>58.63667</td>\n      <td>59.80222</td>\n      <td>5.16975</td>\n      <td>5.07507</td>\n      <td>1148.76311</td>\n      <td>10.04912</td>\n      <td>1.0</td>\n      <td>8.73640</td>\n    </tr>\n    <tr>\n      <th>3</th>\n      <td>5.71508</td>\n      <td>9.26158</td>\n      <td>26.86094</td>\n      <td>0.18788</td>\n      <td>35.69230</td>\n      <td>57.17648</td>\n      <td>7.94233</td>\n      <td>16.76223</td>\n      <td>4.10062</td>\n      <td>4.44370</td>\n      <td>12.95629</td>\n      <td>78.27539</td>\n      <td>5.76106</td>\n      <td>7.01203</td>\n      <td>1089.36057</td>\n      <td>10.53430</td>\n      <td>1.0</td>\n      <td>8.67231</td>\n    </tr>\n    <tr>\n      <th>4</th>\n      <td>9.16375</td>\n      <td>7.12481</td>\n      <td>48.82457</td>\n      <td>1.32986</td>\n      <td>32.22006</td>\n      <td>46.82387</td>\n      <td>11.63958</td>\n      <td>12.48813</td>\n      <td>6.26932</td>\n      <td>7.81736</td>\n      <td>32.54044</td>\n      <td>-82.90375</td>\n      <td>5.96896</td>\n      <td>8.44913</td>\n      <td>1099.39295</td>\n      <td>9.40919</td>\n      <td>0.0</td>\n      <td>4.80834</td>\n    </tr>\n  </tbody>\n</table>\n</div>"
     },
     "execution_count": 11,
     "metadata": {},
     "output_type": "execute_result"
    }
   ],
   "source": [
    "filename = \"db/measurements.csv\"\n",
    "data = pd.read_csv(filename,\n",
    "                   sep='\\t')\n",
    "data.head()"
   ],
   "metadata": {
    "collapsed": false
   }
  },
  {
   "cell_type": "code",
   "execution_count": null,
   "outputs": [],
   "source": [],
   "metadata": {
    "collapsed": false
   }
  },
  {
   "cell_type": "markdown",
   "source": [],
   "metadata": {
    "collapsed": false
   }
  }
 ],
 "metadata": {
  "kernelspec": {
   "display_name": "Python 3",
   "language": "python",
   "name": "python3"
  },
  "language_info": {
   "codemirror_mode": {
    "name": "ipython",
    "version": 2
   },
   "file_extension": ".py",
   "mimetype": "text/x-python",
   "name": "python",
   "nbconvert_exporter": "python",
   "pygments_lexer": "ipython2",
   "version": "2.7.6"
  }
 },
 "nbformat": 4,
 "nbformat_minor": 0
}
