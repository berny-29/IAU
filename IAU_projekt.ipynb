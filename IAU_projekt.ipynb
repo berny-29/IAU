{
 "cells": [
  {
   "cell_type": "code",
   "execution_count": 142,
   "outputs": [],
   "source": [
    "from datetime import datetime\n",
    "\n",
    "import dateparser as dateparser\n",
    "import matplotlib\n",
    "import matplotlib.pylab as pylab\n",
    "import matplotlib.pyplot as plt\n",
    "import seaborn as sns\n",
    "import pandas as pd\n",
    "import numpy as np\n",
    "import scipy.stats as stats"
   ],
   "metadata": {
    "collapsed": false
   }
  },
  {
   "cell_type": "code",
   "execution_count": 143,
   "outputs": [],
   "source": [
    "measurements_file = \"data/measurements.csv\"\n",
    "measurements_data = pd.read_csv(measurements_file, sep='\\t')\n",
    "stations_file = \"data/stations.csv\"\n",
    "stations_data = pd.read_csv(stations_file, sep='\\t')"
   ],
   "metadata": {
    "collapsed": false
   }
  },
  {
   "cell_type": "code",
   "execution_count": 144,
   "outputs": [
    {
     "data": {
      "text/plain": "      PM10       CO        Pb  C2H3NO5      CFCs      H2CO        O3  \\\n0  6.33846  6.61796  44.89247  0.22646  37.51693  39.50358   6.93304   \n1  7.90785  8.15426  50.02976  0.40716  49.00037  41.15652  10.00080   \n2  6.78253  7.32578  50.42226  0.27588  53.51533  61.03352   6.41183   \n3  5.71508  9.26158  26.86094  0.18788  35.69230  57.17648   7.94233   \n4  9.16375  7.12481  48.82457  1.32986  32.22006  46.82387  11.63958   \n5  7.04390  7.96828  56.56011  0.31311  56.18221  41.18541  10.42120   \n6  8.07997  6.40977  58.46766  0.67969  60.60543  34.99728   9.14442   \n7  7.29130  7.98165  51.66434  0.32651  58.74764  34.19093   8.08972   \n8  8.35517  6.93280  19.34860  0.81349  55.69528  41.58524   9.23259   \n9  8.13981  7.40637  61.53701  0.61849  47.76755  61.36477  10.36692   \n\n       TEMP      NOx      SO2  latitude  longitude      NH3      CH4  \\\n0  18.26344  7.24953  8.60015  53.95278   32.86389  5.35805  6.00130   \n1  18.84880  7.08920  8.16071   9.33370  122.86370  6.22960  7.40706   \n2  13.61953  8.25103  8.93315  58.63667   59.80222  5.16975  5.07507   \n3  16.76223  4.10062  4.44370  12.95629   78.27539  5.76106  7.01203   \n4  12.48813  6.26932  7.81736  32.54044  -82.90375  5.96896  8.44913   \n5  12.74538  8.75889  7.43447  37.73604 -120.93549  8.58263  6.89506   \n6  22.17319  6.75870  8.48118   3.51667   11.50000  7.64965  8.33486   \n7   2.44131  8.52918  7.19837  34.09668 -117.71978  9.57044  9.39463   \n8   2.99513  7.51361  5.92541  10.20898  123.75800  5.64815  8.15221   \n9  13.31374  7.97743  7.96606   4.02219  101.02083  9.85029  7.40917   \n\n         PRES     PM2.5  warning     PAHs  \n0  1136.95323  10.59506      1.0  9.24391  \n1  1104.78569   7.82884      0.0      NaN  \n2  1148.76311  10.04912      1.0  8.73640  \n3  1089.36057  10.53430      1.0  8.67231  \n4  1099.39295   9.40919      0.0  4.80834  \n5  1050.67737   7.20484      0.0  6.00215  \n6  1107.84036   8.70999      0.0  6.88903  \n7  1151.83879   6.68114      1.0  6.25543  \n8  1121.79391   8.18714      0.0  4.12422  \n9  1157.28796   8.65797      1.0  7.83400  ",
      "text/html": "<div>\n<style scoped>\n    .dataframe tbody tr th:only-of-type {\n        vertical-align: middle;\n    }\n\n    .dataframe tbody tr th {\n        vertical-align: top;\n    }\n\n    .dataframe thead th {\n        text-align: right;\n    }\n</style>\n<table border=\"1\" class=\"dataframe\">\n  <thead>\n    <tr style=\"text-align: right;\">\n      <th></th>\n      <th>PM10</th>\n      <th>CO</th>\n      <th>Pb</th>\n      <th>C2H3NO5</th>\n      <th>CFCs</th>\n      <th>H2CO</th>\n      <th>O3</th>\n      <th>TEMP</th>\n      <th>NOx</th>\n      <th>SO2</th>\n      <th>latitude</th>\n      <th>longitude</th>\n      <th>NH3</th>\n      <th>CH4</th>\n      <th>PRES</th>\n      <th>PM2.5</th>\n      <th>warning</th>\n      <th>PAHs</th>\n    </tr>\n  </thead>\n  <tbody>\n    <tr>\n      <th>0</th>\n      <td>6.33846</td>\n      <td>6.61796</td>\n      <td>44.89247</td>\n      <td>0.22646</td>\n      <td>37.51693</td>\n      <td>39.50358</td>\n      <td>6.93304</td>\n      <td>18.26344</td>\n      <td>7.24953</td>\n      <td>8.60015</td>\n      <td>53.95278</td>\n      <td>32.86389</td>\n      <td>5.35805</td>\n      <td>6.00130</td>\n      <td>1136.95323</td>\n      <td>10.59506</td>\n      <td>1.0</td>\n      <td>9.24391</td>\n    </tr>\n    <tr>\n      <th>1</th>\n      <td>7.90785</td>\n      <td>8.15426</td>\n      <td>50.02976</td>\n      <td>0.40716</td>\n      <td>49.00037</td>\n      <td>41.15652</td>\n      <td>10.00080</td>\n      <td>18.84880</td>\n      <td>7.08920</td>\n      <td>8.16071</td>\n      <td>9.33370</td>\n      <td>122.86370</td>\n      <td>6.22960</td>\n      <td>7.40706</td>\n      <td>1104.78569</td>\n      <td>7.82884</td>\n      <td>0.0</td>\n      <td>NaN</td>\n    </tr>\n    <tr>\n      <th>2</th>\n      <td>6.78253</td>\n      <td>7.32578</td>\n      <td>50.42226</td>\n      <td>0.27588</td>\n      <td>53.51533</td>\n      <td>61.03352</td>\n      <td>6.41183</td>\n      <td>13.61953</td>\n      <td>8.25103</td>\n      <td>8.93315</td>\n      <td>58.63667</td>\n      <td>59.80222</td>\n      <td>5.16975</td>\n      <td>5.07507</td>\n      <td>1148.76311</td>\n      <td>10.04912</td>\n      <td>1.0</td>\n      <td>8.73640</td>\n    </tr>\n    <tr>\n      <th>3</th>\n      <td>5.71508</td>\n      <td>9.26158</td>\n      <td>26.86094</td>\n      <td>0.18788</td>\n      <td>35.69230</td>\n      <td>57.17648</td>\n      <td>7.94233</td>\n      <td>16.76223</td>\n      <td>4.10062</td>\n      <td>4.44370</td>\n      <td>12.95629</td>\n      <td>78.27539</td>\n      <td>5.76106</td>\n      <td>7.01203</td>\n      <td>1089.36057</td>\n      <td>10.53430</td>\n      <td>1.0</td>\n      <td>8.67231</td>\n    </tr>\n    <tr>\n      <th>4</th>\n      <td>9.16375</td>\n      <td>7.12481</td>\n      <td>48.82457</td>\n      <td>1.32986</td>\n      <td>32.22006</td>\n      <td>46.82387</td>\n      <td>11.63958</td>\n      <td>12.48813</td>\n      <td>6.26932</td>\n      <td>7.81736</td>\n      <td>32.54044</td>\n      <td>-82.90375</td>\n      <td>5.96896</td>\n      <td>8.44913</td>\n      <td>1099.39295</td>\n      <td>9.40919</td>\n      <td>0.0</td>\n      <td>4.80834</td>\n    </tr>\n    <tr>\n      <th>5</th>\n      <td>7.04390</td>\n      <td>7.96828</td>\n      <td>56.56011</td>\n      <td>0.31311</td>\n      <td>56.18221</td>\n      <td>41.18541</td>\n      <td>10.42120</td>\n      <td>12.74538</td>\n      <td>8.75889</td>\n      <td>7.43447</td>\n      <td>37.73604</td>\n      <td>-120.93549</td>\n      <td>8.58263</td>\n      <td>6.89506</td>\n      <td>1050.67737</td>\n      <td>7.20484</td>\n      <td>0.0</td>\n      <td>6.00215</td>\n    </tr>\n    <tr>\n      <th>6</th>\n      <td>8.07997</td>\n      <td>6.40977</td>\n      <td>58.46766</td>\n      <td>0.67969</td>\n      <td>60.60543</td>\n      <td>34.99728</td>\n      <td>9.14442</td>\n      <td>22.17319</td>\n      <td>6.75870</td>\n      <td>8.48118</td>\n      <td>3.51667</td>\n      <td>11.50000</td>\n      <td>7.64965</td>\n      <td>8.33486</td>\n      <td>1107.84036</td>\n      <td>8.70999</td>\n      <td>0.0</td>\n      <td>6.88903</td>\n    </tr>\n    <tr>\n      <th>7</th>\n      <td>7.29130</td>\n      <td>7.98165</td>\n      <td>51.66434</td>\n      <td>0.32651</td>\n      <td>58.74764</td>\n      <td>34.19093</td>\n      <td>8.08972</td>\n      <td>2.44131</td>\n      <td>8.52918</td>\n      <td>7.19837</td>\n      <td>34.09668</td>\n      <td>-117.71978</td>\n      <td>9.57044</td>\n      <td>9.39463</td>\n      <td>1151.83879</td>\n      <td>6.68114</td>\n      <td>1.0</td>\n      <td>6.25543</td>\n    </tr>\n    <tr>\n      <th>8</th>\n      <td>8.35517</td>\n      <td>6.93280</td>\n      <td>19.34860</td>\n      <td>0.81349</td>\n      <td>55.69528</td>\n      <td>41.58524</td>\n      <td>9.23259</td>\n      <td>2.99513</td>\n      <td>7.51361</td>\n      <td>5.92541</td>\n      <td>10.20898</td>\n      <td>123.75800</td>\n      <td>5.64815</td>\n      <td>8.15221</td>\n      <td>1121.79391</td>\n      <td>8.18714</td>\n      <td>0.0</td>\n      <td>4.12422</td>\n    </tr>\n    <tr>\n      <th>9</th>\n      <td>8.13981</td>\n      <td>7.40637</td>\n      <td>61.53701</td>\n      <td>0.61849</td>\n      <td>47.76755</td>\n      <td>61.36477</td>\n      <td>10.36692</td>\n      <td>13.31374</td>\n      <td>7.97743</td>\n      <td>7.96606</td>\n      <td>4.02219</td>\n      <td>101.02083</td>\n      <td>9.85029</td>\n      <td>7.40917</td>\n      <td>1157.28796</td>\n      <td>8.65797</td>\n      <td>1.0</td>\n      <td>7.83400</td>\n    </tr>\n  </tbody>\n</table>\n</div>"
     },
     "execution_count": 144,
     "metadata": {},
     "output_type": "execute_result"
    }
   ],
   "source": [
    "measurements_data.head(10)"
   ],
   "metadata": {
    "collapsed": false
   }
  },
  {
   "cell_type": "code",
   "execution_count": 145,
   "outputs": [
    {
     "data": {
      "text/plain": "           QoS                 station code  latitude  longitude  \\\n0         good             Casa Blanca   MX  19.04222  -98.11889   \n1     building             Mikhaylovka   RU  50.06000   43.23790   \n2     building  Shahre Jadide Andisheh   IR  35.68030   51.01930   \n3     building                 Aracaju   BR -10.91111  -37.07167   \n4  maintenance                  Parola   IN  20.88098   75.11937   \n5    excellent                   Kheda   IN  22.75218   72.68533   \n6  maintenance            Caldas Novas   BR -17.74431  -48.62789   \n7         good                Freetown   SL   8.48714  -13.23560   \n8    excellent         Frankston South   AU -38.16604  145.13643   \n9      average               Gorakhpur   IN  26.76628   83.36889   \n\n               revision  \n0            2019-11-27  \n1  07/26/2017, 00:00:00  \n2           01 Jun 2013  \n3            2012/12/29  \n4            2019/07/05  \n5  10/29/2014, 00:00:00  \n6            2022-08-02  \n7            2021/10/25  \n8            2022-02-27  \n9           12 Mar 2021  ",
      "text/html": "<div>\n<style scoped>\n    .dataframe tbody tr th:only-of-type {\n        vertical-align: middle;\n    }\n\n    .dataframe tbody tr th {\n        vertical-align: top;\n    }\n\n    .dataframe thead th {\n        text-align: right;\n    }\n</style>\n<table border=\"1\" class=\"dataframe\">\n  <thead>\n    <tr style=\"text-align: right;\">\n      <th></th>\n      <th>QoS</th>\n      <th>station</th>\n      <th>code</th>\n      <th>latitude</th>\n      <th>longitude</th>\n      <th>revision</th>\n    </tr>\n  </thead>\n  <tbody>\n    <tr>\n      <th>0</th>\n      <td>good</td>\n      <td>Casa Blanca</td>\n      <td>MX</td>\n      <td>19.04222</td>\n      <td>-98.11889</td>\n      <td>2019-11-27</td>\n    </tr>\n    <tr>\n      <th>1</th>\n      <td>building</td>\n      <td>Mikhaylovka</td>\n      <td>RU</td>\n      <td>50.06000</td>\n      <td>43.23790</td>\n      <td>07/26/2017, 00:00:00</td>\n    </tr>\n    <tr>\n      <th>2</th>\n      <td>building</td>\n      <td>Shahre Jadide Andisheh</td>\n      <td>IR</td>\n      <td>35.68030</td>\n      <td>51.01930</td>\n      <td>01 Jun 2013</td>\n    </tr>\n    <tr>\n      <th>3</th>\n      <td>building</td>\n      <td>Aracaju</td>\n      <td>BR</td>\n      <td>-10.91111</td>\n      <td>-37.07167</td>\n      <td>2012/12/29</td>\n    </tr>\n    <tr>\n      <th>4</th>\n      <td>maintenance</td>\n      <td>Parola</td>\n      <td>IN</td>\n      <td>20.88098</td>\n      <td>75.11937</td>\n      <td>2019/07/05</td>\n    </tr>\n    <tr>\n      <th>5</th>\n      <td>excellent</td>\n      <td>Kheda</td>\n      <td>IN</td>\n      <td>22.75218</td>\n      <td>72.68533</td>\n      <td>10/29/2014, 00:00:00</td>\n    </tr>\n    <tr>\n      <th>6</th>\n      <td>maintenance</td>\n      <td>Caldas Novas</td>\n      <td>BR</td>\n      <td>-17.74431</td>\n      <td>-48.62789</td>\n      <td>2022-08-02</td>\n    </tr>\n    <tr>\n      <th>7</th>\n      <td>good</td>\n      <td>Freetown</td>\n      <td>SL</td>\n      <td>8.48714</td>\n      <td>-13.23560</td>\n      <td>2021/10/25</td>\n    </tr>\n    <tr>\n      <th>8</th>\n      <td>excellent</td>\n      <td>Frankston South</td>\n      <td>AU</td>\n      <td>-38.16604</td>\n      <td>145.13643</td>\n      <td>2022-02-27</td>\n    </tr>\n    <tr>\n      <th>9</th>\n      <td>average</td>\n      <td>Gorakhpur</td>\n      <td>IN</td>\n      <td>26.76628</td>\n      <td>83.36889</td>\n      <td>12 Mar 2021</td>\n    </tr>\n  </tbody>\n</table>\n</div>"
     },
     "execution_count": 145,
     "metadata": {},
     "output_type": "execute_result"
    }
   ],
   "source": [
    "stations_data.head(10)"
   ],
   "metadata": {
    "collapsed": false
   }
  },
  {
   "cell_type": "markdown",
   "source": [],
   "metadata": {
    "collapsed": false
   }
  },
  {
   "cell_type": "markdown",
   "source": [],
   "metadata": {
    "collapsed": false
   }
  },
  {
   "cell_type": "code",
   "execution_count": 152,
   "outputs": [
    {
     "data": {
      "text/plain": "              QoS                 station code  latitude  longitude  \\\n0            good             Casa Blanca   MX  19.04222  -98.11889   \n1        building             Mikhaylovka   RU  50.06000   43.23790   \n2        building  Shahre Jadide Andisheh   IR  35.68030   51.01930   \n3        building                 Aracaju   BR -10.91111  -37.07167   \n4     maintenance                  Parola   IN  20.88098   75.11937   \n...           ...                     ...  ...       ...        ...   \n1105     building                  Tadmur   SY  34.56240   38.28402   \n1106      average                  Jizzax   UZ  40.11583   67.84222   \n1107        accep            West Chester   US  39.96097  -75.60804   \n1108        accep          Oktyabr‚Äôskiy   RU  54.48147   53.47103   \n1109    excellent                 Yakuplu   TR  40.98894   28.67582   \n\n                  revision       date  \n0               2019-11-27 2019-11-27  \n1     07/26/2017, 00:00:00 2017-07-26  \n2              01 Jun 2013 2013-06-01  \n3               2012/12/29 2012-12-29  \n4               2019/07/05 2019-07-05  \n...                    ...        ...  \n1105            2013/07/10 2013-07-10  \n1106           30 May 2013 2013-05-30  \n1107  11/04/2012, 00:00:00 2012-11-04  \n1108           18 Apr 2015 2015-04-18  \n1109            2012-11-10 2012-11-10  \n\n[1110 rows x 7 columns]",
      "text/html": "<div>\n<style scoped>\n    .dataframe tbody tr th:only-of-type {\n        vertical-align: middle;\n    }\n\n    .dataframe tbody tr th {\n        vertical-align: top;\n    }\n\n    .dataframe thead th {\n        text-align: right;\n    }\n</style>\n<table border=\"1\" class=\"dataframe\">\n  <thead>\n    <tr style=\"text-align: right;\">\n      <th></th>\n      <th>QoS</th>\n      <th>station</th>\n      <th>code</th>\n      <th>latitude</th>\n      <th>longitude</th>\n      <th>revision</th>\n      <th>date</th>\n    </tr>\n  </thead>\n  <tbody>\n    <tr>\n      <th>0</th>\n      <td>good</td>\n      <td>Casa Blanca</td>\n      <td>MX</td>\n      <td>19.04222</td>\n      <td>-98.11889</td>\n      <td>2019-11-27</td>\n      <td>2019-11-27</td>\n    </tr>\n    <tr>\n      <th>1</th>\n      <td>building</td>\n      <td>Mikhaylovka</td>\n      <td>RU</td>\n      <td>50.06000</td>\n      <td>43.23790</td>\n      <td>07/26/2017, 00:00:00</td>\n      <td>2017-07-26</td>\n    </tr>\n    <tr>\n      <th>2</th>\n      <td>building</td>\n      <td>Shahre Jadide Andisheh</td>\n      <td>IR</td>\n      <td>35.68030</td>\n      <td>51.01930</td>\n      <td>01 Jun 2013</td>\n      <td>2013-06-01</td>\n    </tr>\n    <tr>\n      <th>3</th>\n      <td>building</td>\n      <td>Aracaju</td>\n      <td>BR</td>\n      <td>-10.91111</td>\n      <td>-37.07167</td>\n      <td>2012/12/29</td>\n      <td>2012-12-29</td>\n    </tr>\n    <tr>\n      <th>4</th>\n      <td>maintenance</td>\n      <td>Parola</td>\n      <td>IN</td>\n      <td>20.88098</td>\n      <td>75.11937</td>\n      <td>2019/07/05</td>\n      <td>2019-07-05</td>\n    </tr>\n    <tr>\n      <th>...</th>\n      <td>...</td>\n      <td>...</td>\n      <td>...</td>\n      <td>...</td>\n      <td>...</td>\n      <td>...</td>\n      <td>...</td>\n    </tr>\n    <tr>\n      <th>1105</th>\n      <td>building</td>\n      <td>Tadmur</td>\n      <td>SY</td>\n      <td>34.56240</td>\n      <td>38.28402</td>\n      <td>2013/07/10</td>\n      <td>2013-07-10</td>\n    </tr>\n    <tr>\n      <th>1106</th>\n      <td>average</td>\n      <td>Jizzax</td>\n      <td>UZ</td>\n      <td>40.11583</td>\n      <td>67.84222</td>\n      <td>30 May 2013</td>\n      <td>2013-05-30</td>\n    </tr>\n    <tr>\n      <th>1107</th>\n      <td>accep</td>\n      <td>West Chester</td>\n      <td>US</td>\n      <td>39.96097</td>\n      <td>-75.60804</td>\n      <td>11/04/2012, 00:00:00</td>\n      <td>2012-11-04</td>\n    </tr>\n    <tr>\n      <th>1108</th>\n      <td>accep</td>\n      <td>Oktyabr‚Äôskiy</td>\n      <td>RU</td>\n      <td>54.48147</td>\n      <td>53.47103</td>\n      <td>18 Apr 2015</td>\n      <td>2015-04-18</td>\n    </tr>\n    <tr>\n      <th>1109</th>\n      <td>excellent</td>\n      <td>Yakuplu</td>\n      <td>TR</td>\n      <td>40.98894</td>\n      <td>28.67582</td>\n      <td>2012-11-10</td>\n      <td>2012-11-10</td>\n    </tr>\n  </tbody>\n</table>\n<p>1110 rows × 7 columns</p>\n</div>"
     },
     "execution_count": 152,
     "metadata": {},
     "output_type": "execute_result"
    }
   ],
   "source": [
    "stations_data['date'] = stations_data.apply(lambda row: dateparser.parse(row.revision, settings={'TIMEZONE': 'CEST'}), axis = 1)\n",
    "\n",
    "stations_data"
   ],
   "metadata": {
    "collapsed": false
   }
  },
  {
   "cell_type": "code",
   "execution_count": 146,
   "outputs": [],
   "source": [],
   "metadata": {
    "collapsed": false
   }
  }
 ],
 "metadata": {
  "kernelspec": {
   "display_name": "Python 3",
   "language": "python",
   "name": "python3"
  },
  "language_info": {
   "codemirror_mode": {
    "name": "ipython",
    "version": 2
   },
   "file_extension": ".py",
   "mimetype": "text/x-python",
   "name": "python",
   "nbconvert_exporter": "python",
   "pygments_lexer": "ipython2",
   "version": "2.7.6"
  }
 },
 "nbformat": 4,
 "nbformat_minor": 0
}
