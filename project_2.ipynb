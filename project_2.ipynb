{
 "cells": [
  {
   "cell_type": "markdown",
   "source": [
    "# Fáza 2 - Predspracovanie údajov\n",
    "\n",
    "__Autori:__ Dávid Penťa, Samuel Bernát\n",
    "__Percentuálny podiel práce:__ 50% / 50%\n",
    "\n",
    "V tejto fáze sa od Vás očakáva že realizujte predspracovanie údajov pre strojové učenie. Výsledkom bude upravená dátová sada (csv alebo tsv), kde jedno pozorovanie je opísané jedným riadkom.\n",
    "- scikit-learn vie len numerické dáta, takže treba niečo spraviť s nenumerickými dátami.\n",
    "- Replikovateľnosť predspracovania na trénovacej a testovacej množine dát, aby ste mohli\n",
    "zopakovať predspracovanie viackrát podľa Vašej potreby (iteratívne).\n",
    "\n",
    "Keď sa predspracovaním mohol zmeniť tvar a charakteristiky dát, je možné že treba realizovať EDA opakovane podľa Vašej potreby. Bodovanie znovu (EDA) nebudeme, zmeny ale dokumentujte. Problém s dátami môžete riešiť iteratívne v každej fáze aj vo všetkých fázach podľa potreby."
   ],
   "metadata": {
    "collapsed": false
   }
  },
  {
   "cell_type": "code",
   "execution_count": 455,
   "outputs": [],
   "source": [
    "import statsmodels.api as sm\n",
    "import dateparser as dateparser\n",
    "import matplotlib\n",
    "import matplotlib.pylab as pylab\n",
    "import matplotlib.pyplot as plt\n",
    "import seaborn as sns\n",
    "import pandas as pd\n",
    "import numpy as np\n",
    "import scipy.stats as stats\n",
    "import pylab as py\n",
    "import statsmodels.stats.api as sms\n",
    "from scipy.stats import skew\n",
    "from scipy.stats import kurtosis\n",
    "from scipy.stats import pearsonr\n",
    "import math\n",
    "from matplotlib import pyplot\n",
    "from numpy import exp\n",
    "from numpy.random import randn\n",
    "from sklearn.preprocessing import PowerTransformer\n",
    "from operator import itemgetter\n",
    "from sklearn.impute import KNNImputer\n",
    "import copy"
   ],
   "metadata": {
    "collapsed": false
   }
  },
  {
   "cell_type": "code",
   "execution_count": 456,
   "outputs": [],
   "source": [
    "measurements_file = \"data/measurements.csv\"\n",
    "measurements_data = pd.read_csv(measurements_file, sep='\\t')\n",
    "measurements_data_med = pd.read_csv(measurements_file, sep='\\t')\n",
    "measurements_data_avg = pd.read_csv(measurements_file, sep='\\t')\n",
    "measurements_data_knn = pd.read_csv(measurements_file, sep='\\t')\n",
    "measurements_data_out = pd.read_csv(measurements_file, sep='\\t')\n",
    "\n",
    "stations_file = \"data/stations.csv\"\n",
    "stations_data = pd.read_csv(stations_file, sep='\\t')"
   ],
   "metadata": {
    "collapsed": false
   }
  },
  {
   "cell_type": "code",
   "execution_count": 461,
   "outputs": [
    {
     "data": {
      "text/plain": "['PM10',\n 'CO',\n 'Pb',\n 'C2H3NO5',\n 'CFCs',\n 'H2CO',\n 'O3',\n 'TEMP',\n 'NOx',\n 'SO2',\n 'NH3',\n 'CH4',\n 'PRES',\n 'PM2.5',\n 'PAHs']"
     },
     "execution_count": 461,
     "metadata": {},
     "output_type": "execute_result"
    }
   ],
   "source": [
    "column_names_measurements = []\n",
    "column_names_stations = []\n",
    "column_names = []\n",
    "\n",
    "for column_name in list(stations_data.columns.values):\n",
    "    column_names_stations.append(column_name)\n",
    "    column_names.append(column_name)\n",
    "\n",
    "for column_name in list(measurements_data.columns.values):\n",
    "    column_names_measurements.append(column_name)\n",
    "    column_names.append(column_name)\n",
    "\n",
    "chemicals = copy.deepcopy(column_names_measurements)\n",
    "\n",
    "for i in ['warning', 'latitude', 'longitude']:\n",
    "    chemicals.remove(i)\n",
    "\n",
    "chemicals"
   ],
   "metadata": {
    "collapsed": false
   }
  },
  {
   "cell_type": "markdown",
   "source": [
    "## Integrácia a čistenie dát\n",
    "Transformujte dáta na vhodný formát pre strojové učenie t.j. jedno pozorovanie musí byť opísané jedným riadkom a každý atribút musí byť v numerickom formáte.\n",
    "- Pri riešení chýbajúcich hodnôt (missing values) vyskúšajte rôzne stratégie ako napr.\n",
    "    - odstránenie pozorovaní s chýbajúcimi údajmi\n",
    "    - nahradenie chýbajúcej hodnoty mediánom, priemerom, pomerom (ku korelovanému atribútu), alebo pomocou lineárnej regresie resp. kNN\n",
    "- Podobne postupujte aj pri riešení vychýlených hodnôt (outlier detection):\n",
    "    - odstránenie vychýlených (odľahlých) pozorovaní\n",
    "    - nahradenie vychýlenej hodnoty hraničnými hodnotami rozdelenia (5% resp. 95%)"
   ],
   "metadata": {
    "collapsed": false
   }
  },
  {
   "cell_type": "markdown",
   "source": [
    "### 1. Chýbajúce hodnoty\n",
    "Prvou použitou technikou odstránim pozorovania s chýbajúcimi údajmi (v tvare Nan)."
   ],
   "metadata": {
    "collapsed": false,
    "pycharm": {
     "name": "#%% md\n"
    }
   }
  },
  {
   "cell_type": "code",
   "execution_count": 462,
   "outputs": [
    {
     "name": "stdout",
     "output_type": "stream",
     "text": [
      "<class 'pandas.core.frame.DataFrame'>\n",
      "RangeIndex: 12068 entries, 0 to 12067\n",
      "Data columns (total 18 columns):\n",
      " #   Column     Non-Null Count  Dtype  \n",
      "---  ------     --------------  -----  \n",
      " 0   PM10       12019 non-null  float64\n",
      " 1   CO         12019 non-null  float64\n",
      " 2   Pb         12019 non-null  float64\n",
      " 3   C2H3NO5    12019 non-null  float64\n",
      " 4   CFCs       12019 non-null  float64\n",
      " 5   H2CO       12018 non-null  float64\n",
      " 6   O3         12020 non-null  float64\n",
      " 7   TEMP       12020 non-null  float64\n",
      " 8   NOx        12018 non-null  float64\n",
      " 9   SO2        12020 non-null  float64\n",
      " 10  latitude   12068 non-null  float64\n",
      " 11  longitude  12068 non-null  float64\n",
      " 12  NH3        12018 non-null  float64\n",
      " 13  CH4        12018 non-null  float64\n",
      " 14  PRES       12068 non-null  float64\n",
      " 15  PM2.5      12020 non-null  float64\n",
      " 16  warning    12018 non-null  float64\n",
      " 17  PAHs       12020 non-null  float64\n",
      "dtypes: float64(18)\n",
      "memory usage: 1.7 MB\n"
     ]
    }
   ],
   "source": [
    "# measurements_data.dropna(inplace=True)\n",
    "# stations_data.dropna(inplace=True)\n",
    "\n",
    "stations_data[\"QoS\"] = np.where(stations_data[\"QoS\"] == \"accep\", \"acceptable\", stations_data[\"QoS\"])\n",
    "stations_data[\"QoS\"] = np.where(stations_data[\"QoS\"] == \"maitennce\", \"maintenance\", stations_data[\"QoS\"])\n",
    "\n",
    "stations_data['revision'] = stations_data['revision'].apply(lambda x: pd.Timestamp(x).timestamp())\n",
    "\n",
    "stations_data['latitude'] = stations_data['latitude'].round(5)\n",
    "stations_data['longitude'] = stations_data['longitude'].round(5)\n",
    "\n",
    "stations_data[\"station\"] = np.where(stations_data[\"station\"] == \"T‚Äôaebaek\", \"Taebaek\", stations_data[\"station\"])\n",
    "stations_data[\"station\"] = np.where(stations_data[\"station\"] == \"'Ali Sabieh\", \"Ali Sabieh\", stations_data[\"station\"])\n",
    "stations_data[\"station\"] = np.where(stations_data[\"station\"] == \"Oktyabr‚Äôskiy\", \"Oktyabrsk\", stations_data[\"station\"])\n",
    "stations_data[\"station\"] = np.where(stations_data[\"station\"] == \"Roslavl‚Äô\", \"Roslavl\", stations_data[\"station\"])\n",
    "stations_data[\"station\"] = np.where(stations_data[\"station\"] == \"Dyat‚Äôkovo\", \"Dyatkovo\", stations_data[\"station\"])\n",
    "\n",
    "measurements_data.info()"
   ],
   "metadata": {
    "collapsed": false
   }
  },
  {
   "cell_type": "markdown",
   "source": [
    "Druhou technikou nahradím v datasete chýbajúce hodnoty mediánom daného stĺpca."
   ],
   "metadata": {
    "collapsed": false,
    "pycharm": {
     "name": "#%% md\n"
    }
   }
  },
  {
   "cell_type": "code",
   "execution_count": 463,
   "outputs": [],
   "source": [
    "for col in measurements_data_med:\n",
    "    measurements_data_med[col].fillna((measurements_data[col].median()), inplace=True)"
   ],
   "metadata": {
    "collapsed": false
   }
  },
  {
   "cell_type": "markdown",
   "source": [
    "Treťou technikou nahradím v datasete chýbajúce hodnoty priemerom daného stĺpca."
   ],
   "metadata": {
    "collapsed": false,
    "pycharm": {
     "name": "#%% md\n"
    }
   }
  },
  {
   "cell_type": "code",
   "execution_count": 464,
   "outputs": [],
   "source": [
    "for col in measurements_data_avg:\n",
    "    measurements_data_avg[col].fillna((measurements_data[col].mean()), inplace=True)"
   ],
   "metadata": {
    "collapsed": false,
    "pycharm": {
     "name": "#%%\n"
    }
   }
  },
  {
   "cell_type": "markdown",
   "source": [
    "Poslenou technikou nahradím v datasete chýbajúce hodnoty hodnotou vypočítanou metódou kNN, s nastavením na 5 susedov."
   ],
   "metadata": {
    "collapsed": false,
    "pycharm": {
     "name": "#%% md\n"
    }
   }
  },
  {
   "cell_type": "code",
   "execution_count": 465,
   "outputs": [],
   "source": [
    "imputer = KNNImputer(n_neighbors=5, weights='uniform', metric='nan_euclidean')\n",
    "imputer.fit(measurements_data_knn)\n",
    "\n",
    "measurements_data_knn = pd.DataFrame(imputer.transform(measurements_data_knn), columns=column_names_measurements).copy()"
   ],
   "metadata": {
    "collapsed": false
   }
  },
  {
   "cell_type": "code",
   "execution_count": 466,
   "outputs": [],
   "source": [
    "# display(measurements_data_med.describe())\n",
    "# display(measurements_data_avg.describe())\n",
    "# display(measurements_data_knn.describe())\n",
    "# measurements_data_med.shape"
   ],
   "metadata": {
    "collapsed": false
   }
  },
  {
   "cell_type": "markdown",
   "source": [
    "### 1. Outlier detection\n",
    "Použitím prvej techniky odstránim vychýlené pozorovania z datasetu."
   ],
   "metadata": {
    "collapsed": false,
    "pycharm": {
     "name": "#%% md\n"
    }
   }
  },
  {
   "cell_type": "code",
   "execution_count": 468,
   "outputs": [
    {
     "name": "stdout",
     "output_type": "stream",
     "text": [
      "Old:  (12068, 18)\n"
     ]
    },
    {
     "data": {
      "text/plain": "           PM10       CO        Pb  C2H3NO5      CFCs      H2CO        O3  \\\n0       6.33846  6.61796  44.89247  0.22646  37.51693  39.50358   6.93304   \n1       7.90785  8.15426  50.02976  0.40716  49.00037  41.15652  10.00080   \n2       6.78253  7.32578  50.42226  0.27588  53.51533  61.03352   6.41183   \n4       9.16375  7.12481  48.82457  1.32986  32.22006  46.82387  11.63958   \n5       7.04390  7.96828  56.56011  0.31311  56.18221  41.18541  10.42120   \n...         ...      ...       ...      ...       ...       ...       ...   \n12063   9.19695  7.92486  59.23293  1.40122  45.11566  62.02799  10.79559   \n12064  10.27894  6.99879  48.01565  3.83467  44.55588  31.89886   9.42860   \n12065   7.03277  7.83287  35.07280  0.30955  35.87540  55.96849   7.07224   \n12066   8.21318  7.03138  50.31096  0.54791  44.57737  38.07472   9.37725   \n12067   7.28314  8.72130  46.04753  0.34239  48.87665  42.34593   3.26112   \n\n           TEMP      NOx      SO2  latitude  longitude      NH3      CH4  \\\n0      18.26344  7.24953  8.60015  53.95278   32.86389  5.35805  6.00130   \n1      18.84880  7.08920  8.16071   9.33370  122.86370  6.22960  7.40706   \n2      13.61953  8.25103  8.93315  58.63667   59.80222  5.16975  5.07507   \n4      12.48813  6.26932  7.81736  32.54044  -82.90375  5.96896  8.44913   \n5      12.74538  8.75889  7.43447  37.73604 -120.93549  8.58263  6.89506   \n...         ...      ...      ...       ...        ...      ...      ...   \n12063  13.34113  6.78988  8.45646  45.53069    9.40531  9.75596  6.93416   \n12064   5.17211  8.98672  7.14161  34.14251 -118.25508  8.29618  4.34404   \n12065  12.89596  6.43694  9.15356  46.75451   33.34864  6.44011  7.08258   \n12066   0.68008  7.38683  7.91926  33.43443   -5.22126  9.26976  6.81885   \n12067  11.87352  9.22928  7.88581  38.37255   34.02537  5.46613  3.85166   \n\n             PRES     PM2.5  warning       PAHs  \n0      1136.95323  10.59506      1.0   9.243910  \n1      1104.78569   7.82884      0.0   6.673818  \n2      1148.76311  10.04912      1.0   8.736400  \n4      1099.39295   9.40919      0.0   4.808340  \n5      1050.67737   7.20484      0.0   6.002150  \n...           ...       ...      ...        ...  \n12063  1149.48262   9.42584      1.0   9.227870  \n12064  1106.63191  11.02506      1.0  11.227980  \n12065  1194.68756  10.35400      1.0   5.763930  \n12066  1095.25573   8.53529      1.0   8.199650  \n12067  1162.41600   7.55910      1.0   9.925620  \n\n[10240 rows x 18 columns]",
      "text/html": "<div>\n<style scoped>\n    .dataframe tbody tr th:only-of-type {\n        vertical-align: middle;\n    }\n\n    .dataframe tbody tr th {\n        vertical-align: top;\n    }\n\n    .dataframe thead th {\n        text-align: right;\n    }\n</style>\n<table border=\"1\" class=\"dataframe\">\n  <thead>\n    <tr style=\"text-align: right;\">\n      <th></th>\n      <th>PM10</th>\n      <th>CO</th>\n      <th>Pb</th>\n      <th>C2H3NO5</th>\n      <th>CFCs</th>\n      <th>H2CO</th>\n      <th>O3</th>\n      <th>TEMP</th>\n      <th>NOx</th>\n      <th>SO2</th>\n      <th>latitude</th>\n      <th>longitude</th>\n      <th>NH3</th>\n      <th>CH4</th>\n      <th>PRES</th>\n      <th>PM2.5</th>\n      <th>warning</th>\n      <th>PAHs</th>\n    </tr>\n  </thead>\n  <tbody>\n    <tr>\n      <th>0</th>\n      <td>6.33846</td>\n      <td>6.61796</td>\n      <td>44.89247</td>\n      <td>0.22646</td>\n      <td>37.51693</td>\n      <td>39.50358</td>\n      <td>6.93304</td>\n      <td>18.26344</td>\n      <td>7.24953</td>\n      <td>8.60015</td>\n      <td>53.95278</td>\n      <td>32.86389</td>\n      <td>5.35805</td>\n      <td>6.00130</td>\n      <td>1136.95323</td>\n      <td>10.59506</td>\n      <td>1.0</td>\n      <td>9.243910</td>\n    </tr>\n    <tr>\n      <th>1</th>\n      <td>7.90785</td>\n      <td>8.15426</td>\n      <td>50.02976</td>\n      <td>0.40716</td>\n      <td>49.00037</td>\n      <td>41.15652</td>\n      <td>10.00080</td>\n      <td>18.84880</td>\n      <td>7.08920</td>\n      <td>8.16071</td>\n      <td>9.33370</td>\n      <td>122.86370</td>\n      <td>6.22960</td>\n      <td>7.40706</td>\n      <td>1104.78569</td>\n      <td>7.82884</td>\n      <td>0.0</td>\n      <td>6.673818</td>\n    </tr>\n    <tr>\n      <th>2</th>\n      <td>6.78253</td>\n      <td>7.32578</td>\n      <td>50.42226</td>\n      <td>0.27588</td>\n      <td>53.51533</td>\n      <td>61.03352</td>\n      <td>6.41183</td>\n      <td>13.61953</td>\n      <td>8.25103</td>\n      <td>8.93315</td>\n      <td>58.63667</td>\n      <td>59.80222</td>\n      <td>5.16975</td>\n      <td>5.07507</td>\n      <td>1148.76311</td>\n      <td>10.04912</td>\n      <td>1.0</td>\n      <td>8.736400</td>\n    </tr>\n    <tr>\n      <th>4</th>\n      <td>9.16375</td>\n      <td>7.12481</td>\n      <td>48.82457</td>\n      <td>1.32986</td>\n      <td>32.22006</td>\n      <td>46.82387</td>\n      <td>11.63958</td>\n      <td>12.48813</td>\n      <td>6.26932</td>\n      <td>7.81736</td>\n      <td>32.54044</td>\n      <td>-82.90375</td>\n      <td>5.96896</td>\n      <td>8.44913</td>\n      <td>1099.39295</td>\n      <td>9.40919</td>\n      <td>0.0</td>\n      <td>4.808340</td>\n    </tr>\n    <tr>\n      <th>5</th>\n      <td>7.04390</td>\n      <td>7.96828</td>\n      <td>56.56011</td>\n      <td>0.31311</td>\n      <td>56.18221</td>\n      <td>41.18541</td>\n      <td>10.42120</td>\n      <td>12.74538</td>\n      <td>8.75889</td>\n      <td>7.43447</td>\n      <td>37.73604</td>\n      <td>-120.93549</td>\n      <td>8.58263</td>\n      <td>6.89506</td>\n      <td>1050.67737</td>\n      <td>7.20484</td>\n      <td>0.0</td>\n      <td>6.002150</td>\n    </tr>\n    <tr>\n      <th>...</th>\n      <td>...</td>\n      <td>...</td>\n      <td>...</td>\n      <td>...</td>\n      <td>...</td>\n      <td>...</td>\n      <td>...</td>\n      <td>...</td>\n      <td>...</td>\n      <td>...</td>\n      <td>...</td>\n      <td>...</td>\n      <td>...</td>\n      <td>...</td>\n      <td>...</td>\n      <td>...</td>\n      <td>...</td>\n      <td>...</td>\n    </tr>\n    <tr>\n      <th>12063</th>\n      <td>9.19695</td>\n      <td>7.92486</td>\n      <td>59.23293</td>\n      <td>1.40122</td>\n      <td>45.11566</td>\n      <td>62.02799</td>\n      <td>10.79559</td>\n      <td>13.34113</td>\n      <td>6.78988</td>\n      <td>8.45646</td>\n      <td>45.53069</td>\n      <td>9.40531</td>\n      <td>9.75596</td>\n      <td>6.93416</td>\n      <td>1149.48262</td>\n      <td>9.42584</td>\n      <td>1.0</td>\n      <td>9.227870</td>\n    </tr>\n    <tr>\n      <th>12064</th>\n      <td>10.27894</td>\n      <td>6.99879</td>\n      <td>48.01565</td>\n      <td>3.83467</td>\n      <td>44.55588</td>\n      <td>31.89886</td>\n      <td>9.42860</td>\n      <td>5.17211</td>\n      <td>8.98672</td>\n      <td>7.14161</td>\n      <td>34.14251</td>\n      <td>-118.25508</td>\n      <td>8.29618</td>\n      <td>4.34404</td>\n      <td>1106.63191</td>\n      <td>11.02506</td>\n      <td>1.0</td>\n      <td>11.227980</td>\n    </tr>\n    <tr>\n      <th>12065</th>\n      <td>7.03277</td>\n      <td>7.83287</td>\n      <td>35.07280</td>\n      <td>0.30955</td>\n      <td>35.87540</td>\n      <td>55.96849</td>\n      <td>7.07224</td>\n      <td>12.89596</td>\n      <td>6.43694</td>\n      <td>9.15356</td>\n      <td>46.75451</td>\n      <td>33.34864</td>\n      <td>6.44011</td>\n      <td>7.08258</td>\n      <td>1194.68756</td>\n      <td>10.35400</td>\n      <td>1.0</td>\n      <td>5.763930</td>\n    </tr>\n    <tr>\n      <th>12066</th>\n      <td>8.21318</td>\n      <td>7.03138</td>\n      <td>50.31096</td>\n      <td>0.54791</td>\n      <td>44.57737</td>\n      <td>38.07472</td>\n      <td>9.37725</td>\n      <td>0.68008</td>\n      <td>7.38683</td>\n      <td>7.91926</td>\n      <td>33.43443</td>\n      <td>-5.22126</td>\n      <td>9.26976</td>\n      <td>6.81885</td>\n      <td>1095.25573</td>\n      <td>8.53529</td>\n      <td>1.0</td>\n      <td>8.199650</td>\n    </tr>\n    <tr>\n      <th>12067</th>\n      <td>7.28314</td>\n      <td>8.72130</td>\n      <td>46.04753</td>\n      <td>0.34239</td>\n      <td>48.87665</td>\n      <td>42.34593</td>\n      <td>3.26112</td>\n      <td>11.87352</td>\n      <td>9.22928</td>\n      <td>7.88581</td>\n      <td>38.37255</td>\n      <td>34.02537</td>\n      <td>5.46613</td>\n      <td>3.85166</td>\n      <td>1162.41600</td>\n      <td>7.55910</td>\n      <td>1.0</td>\n      <td>9.925620</td>\n    </tr>\n  </tbody>\n</table>\n<p>10240 rows × 18 columns</p>\n</div>"
     },
     "metadata": {},
     "output_type": "display_data"
    },
    {
     "data": {
      "text/plain": "           PM10       CO        Pb  C2H3NO5      CFCs      H2CO        O3  \\\n0       6.33846  6.61796  44.89247  0.22646  37.51693  39.50358   6.93304   \n1       7.90785  8.15426  50.02976  0.40716  49.00037  41.15652  10.00080   \n2       6.78253  7.32578  50.42226  0.27588  53.51533  61.03352   6.41183   \n3       5.71508  9.26158  26.86094  0.18788  35.69230  57.17648   7.94233   \n4       9.16375  7.12481  48.82457  1.32986  32.22006  46.82387  11.63958   \n...         ...      ...       ...      ...       ...       ...       ...   \n12063   9.19695  7.92486  59.23293  1.40122  45.11566  62.02799  10.79559   \n12064  10.27894  6.99879  48.01565  3.83467  44.55588  31.89886   9.42860   \n12065   7.03277  7.83287  35.07280  0.30955  35.87540  55.96849   7.07224   \n12066   8.21318  7.03138  50.31096  0.54791  44.57737  38.07472   9.37725   \n12067   7.28314  8.72130  46.04753  0.34239  48.87665  42.34593   3.26112   \n\n           TEMP      NOx      SO2  latitude  longitude      NH3      CH4  \\\n0      18.26344  7.24953  8.60015  53.95278   32.86389  5.35805  6.00130   \n1      18.84880  7.08920  8.16071   9.33370  122.86370  6.22960  7.40706   \n2      13.61953  8.25103  8.93315  58.63667   59.80222  5.16975  5.07507   \n3      16.76223  4.10062  4.44370  12.95629   78.27539  5.76106  7.01203   \n4      12.48813  6.26932  7.81736  32.54044  -82.90375  5.96896  8.44913   \n...         ...      ...      ...       ...        ...      ...      ...   \n12063  13.34113  6.78988  8.45646  45.53069    9.40531  9.75596  6.93416   \n12064   5.17211  8.98672  7.14161  34.14251 -118.25508  8.29618  4.34404   \n12065  12.89596  6.43694  9.15356  46.75451   33.34864  6.44011  7.08258   \n12066   0.68008  7.38683  7.91926  33.43443   -5.22126  9.26976  6.81885   \n12067  11.87352  9.22928  7.88581  38.37255   34.02537  5.46613  3.85166   \n\n             PRES     PM2.5  warning       PAHs  \n0      1136.95323  10.59506      1.0   9.243910  \n1      1104.78569   7.82884      0.0   6.673818  \n2      1148.76311  10.04912      1.0   8.736400  \n3      1089.36057  10.53430      1.0   8.672310  \n4      1099.39295   9.40919      0.0   4.808340  \n...           ...       ...      ...        ...  \n12063  1149.48262   9.42584      1.0   9.227870  \n12064  1106.63191  11.02506      1.0  11.227980  \n12065  1194.68756  10.35400      1.0   5.763930  \n12066  1095.25573   8.53529      1.0   8.199650  \n12067  1162.41600   7.55910      1.0   9.925620  \n\n[12068 rows x 18 columns]",
      "text/html": "<div>\n<style scoped>\n    .dataframe tbody tr th:only-of-type {\n        vertical-align: middle;\n    }\n\n    .dataframe tbody tr th {\n        vertical-align: top;\n    }\n\n    .dataframe thead th {\n        text-align: right;\n    }\n</style>\n<table border=\"1\" class=\"dataframe\">\n  <thead>\n    <tr style=\"text-align: right;\">\n      <th></th>\n      <th>PM10</th>\n      <th>CO</th>\n      <th>Pb</th>\n      <th>C2H3NO5</th>\n      <th>CFCs</th>\n      <th>H2CO</th>\n      <th>O3</th>\n      <th>TEMP</th>\n      <th>NOx</th>\n      <th>SO2</th>\n      <th>latitude</th>\n      <th>longitude</th>\n      <th>NH3</th>\n      <th>CH4</th>\n      <th>PRES</th>\n      <th>PM2.5</th>\n      <th>warning</th>\n      <th>PAHs</th>\n    </tr>\n  </thead>\n  <tbody>\n    <tr>\n      <th>0</th>\n      <td>6.33846</td>\n      <td>6.61796</td>\n      <td>44.89247</td>\n      <td>0.22646</td>\n      <td>37.51693</td>\n      <td>39.50358</td>\n      <td>6.93304</td>\n      <td>18.26344</td>\n      <td>7.24953</td>\n      <td>8.60015</td>\n      <td>53.95278</td>\n      <td>32.86389</td>\n      <td>5.35805</td>\n      <td>6.00130</td>\n      <td>1136.95323</td>\n      <td>10.59506</td>\n      <td>1.0</td>\n      <td>9.243910</td>\n    </tr>\n    <tr>\n      <th>1</th>\n      <td>7.90785</td>\n      <td>8.15426</td>\n      <td>50.02976</td>\n      <td>0.40716</td>\n      <td>49.00037</td>\n      <td>41.15652</td>\n      <td>10.00080</td>\n      <td>18.84880</td>\n      <td>7.08920</td>\n      <td>8.16071</td>\n      <td>9.33370</td>\n      <td>122.86370</td>\n      <td>6.22960</td>\n      <td>7.40706</td>\n      <td>1104.78569</td>\n      <td>7.82884</td>\n      <td>0.0</td>\n      <td>6.673818</td>\n    </tr>\n    <tr>\n      <th>2</th>\n      <td>6.78253</td>\n      <td>7.32578</td>\n      <td>50.42226</td>\n      <td>0.27588</td>\n      <td>53.51533</td>\n      <td>61.03352</td>\n      <td>6.41183</td>\n      <td>13.61953</td>\n      <td>8.25103</td>\n      <td>8.93315</td>\n      <td>58.63667</td>\n      <td>59.80222</td>\n      <td>5.16975</td>\n      <td>5.07507</td>\n      <td>1148.76311</td>\n      <td>10.04912</td>\n      <td>1.0</td>\n      <td>8.736400</td>\n    </tr>\n    <tr>\n      <th>3</th>\n      <td>5.71508</td>\n      <td>9.26158</td>\n      <td>26.86094</td>\n      <td>0.18788</td>\n      <td>35.69230</td>\n      <td>57.17648</td>\n      <td>7.94233</td>\n      <td>16.76223</td>\n      <td>4.10062</td>\n      <td>4.44370</td>\n      <td>12.95629</td>\n      <td>78.27539</td>\n      <td>5.76106</td>\n      <td>7.01203</td>\n      <td>1089.36057</td>\n      <td>10.53430</td>\n      <td>1.0</td>\n      <td>8.672310</td>\n    </tr>\n    <tr>\n      <th>4</th>\n      <td>9.16375</td>\n      <td>7.12481</td>\n      <td>48.82457</td>\n      <td>1.32986</td>\n      <td>32.22006</td>\n      <td>46.82387</td>\n      <td>11.63958</td>\n      <td>12.48813</td>\n      <td>6.26932</td>\n      <td>7.81736</td>\n      <td>32.54044</td>\n      <td>-82.90375</td>\n      <td>5.96896</td>\n      <td>8.44913</td>\n      <td>1099.39295</td>\n      <td>9.40919</td>\n      <td>0.0</td>\n      <td>4.808340</td>\n    </tr>\n    <tr>\n      <th>...</th>\n      <td>...</td>\n      <td>...</td>\n      <td>...</td>\n      <td>...</td>\n      <td>...</td>\n      <td>...</td>\n      <td>...</td>\n      <td>...</td>\n      <td>...</td>\n      <td>...</td>\n      <td>...</td>\n      <td>...</td>\n      <td>...</td>\n      <td>...</td>\n      <td>...</td>\n      <td>...</td>\n      <td>...</td>\n      <td>...</td>\n    </tr>\n    <tr>\n      <th>12063</th>\n      <td>9.19695</td>\n      <td>7.92486</td>\n      <td>59.23293</td>\n      <td>1.40122</td>\n      <td>45.11566</td>\n      <td>62.02799</td>\n      <td>10.79559</td>\n      <td>13.34113</td>\n      <td>6.78988</td>\n      <td>8.45646</td>\n      <td>45.53069</td>\n      <td>9.40531</td>\n      <td>9.75596</td>\n      <td>6.93416</td>\n      <td>1149.48262</td>\n      <td>9.42584</td>\n      <td>1.0</td>\n      <td>9.227870</td>\n    </tr>\n    <tr>\n      <th>12064</th>\n      <td>10.27894</td>\n      <td>6.99879</td>\n      <td>48.01565</td>\n      <td>3.83467</td>\n      <td>44.55588</td>\n      <td>31.89886</td>\n      <td>9.42860</td>\n      <td>5.17211</td>\n      <td>8.98672</td>\n      <td>7.14161</td>\n      <td>34.14251</td>\n      <td>-118.25508</td>\n      <td>8.29618</td>\n      <td>4.34404</td>\n      <td>1106.63191</td>\n      <td>11.02506</td>\n      <td>1.0</td>\n      <td>11.227980</td>\n    </tr>\n    <tr>\n      <th>12065</th>\n      <td>7.03277</td>\n      <td>7.83287</td>\n      <td>35.07280</td>\n      <td>0.30955</td>\n      <td>35.87540</td>\n      <td>55.96849</td>\n      <td>7.07224</td>\n      <td>12.89596</td>\n      <td>6.43694</td>\n      <td>9.15356</td>\n      <td>46.75451</td>\n      <td>33.34864</td>\n      <td>6.44011</td>\n      <td>7.08258</td>\n      <td>1194.68756</td>\n      <td>10.35400</td>\n      <td>1.0</td>\n      <td>5.763930</td>\n    </tr>\n    <tr>\n      <th>12066</th>\n      <td>8.21318</td>\n      <td>7.03138</td>\n      <td>50.31096</td>\n      <td>0.54791</td>\n      <td>44.57737</td>\n      <td>38.07472</td>\n      <td>9.37725</td>\n      <td>0.68008</td>\n      <td>7.38683</td>\n      <td>7.91926</td>\n      <td>33.43443</td>\n      <td>-5.22126</td>\n      <td>9.26976</td>\n      <td>6.81885</td>\n      <td>1095.25573</td>\n      <td>8.53529</td>\n      <td>1.0</td>\n      <td>8.199650</td>\n    </tr>\n    <tr>\n      <th>12067</th>\n      <td>7.28314</td>\n      <td>8.72130</td>\n      <td>46.04753</td>\n      <td>0.34239</td>\n      <td>48.87665</td>\n      <td>42.34593</td>\n      <td>3.26112</td>\n      <td>11.87352</td>\n      <td>9.22928</td>\n      <td>7.88581</td>\n      <td>38.37255</td>\n      <td>34.02537</td>\n      <td>5.46613</td>\n      <td>3.85166</td>\n      <td>1162.41600</td>\n      <td>7.55910</td>\n      <td>1.0</td>\n      <td>9.925620</td>\n    </tr>\n  </tbody>\n</table>\n<p>12068 rows × 18 columns</p>\n</div>"
     },
     "execution_count": 468,
     "metadata": {},
     "output_type": "execute_result"
    }
   ],
   "source": [
    "measurements_data_out = measurements_data_knn.copy(deep=True)\n",
    "measurements_data_out_drop = measurements_data_knn.copy(deep=True)\n",
    "\n",
    "print(\"Old: \", measurements_data_out.shape)\n",
    "\n",
    "def identify_outliers(a):\n",
    "    lower = a.quantile(0.25) - 1.5 * stats.iqr(a)\n",
    "    upper = a.quantile(0.75) + 1.5 * stats.iqr(a)\n",
    "\n",
    "    return a[(a > upper) | (a < lower)]\n",
    "\n",
    "def get5_95(a):\n",
    "    lower = a.quantile(0.25) - 1.5 * stats.iqr(a)\n",
    "    upper = a.quantile(0.75) + 1.5 * stats.iqr(a)\n",
    "\n",
    "    return [lower, upper]\n",
    "\n",
    "\n",
    "measurements_outliers = {}\n",
    "measurements_5_95 = {}\n",
    "\n",
    "for column in chemicals:\n",
    "    measurements_outliers[column] = identify_outliers(measurements_data_out[column])\n",
    "    measurements_5_95[column] = get5_95(measurements_data_out[column])\n",
    "\n",
    "outliers = pd.DataFrame(data=measurements_outliers)\n",
    "\n",
    "# drop\n",
    "measurements_data_out_drop = measurements_data_out_drop.drop(outliers.index)\n",
    "display(measurements_data_out_drop)\n",
    "\n",
    "# nahradenie hraničnými hodnotami (5% / 95%)?\n",
    "for column in chemicals:\n",
    "    for u in outliers[column].loc[~outliers[column].isnull()]:\n",
    "        if u <= measurements_5_95[column][0]:\n",
    "            u = measurements_5_95[column][0]\n",
    "        else:\n",
    "            u = measurements_5_95[column][1]\n",
    "\n",
    "new_column_names=['latitude', 'longitude', 'warning']\n",
    "outliers = pd.DataFrame(outliers, columns=column_names_measurements)\n",
    "\n",
    "outliers = outliers.fillna(measurements_data_out)\n",
    "\n",
    "\n",
    "measurements_data_out.loc[outliers.index] = np.nan\n",
    "measurements_data_out = measurements_data_out.combine_first(outliers)\n",
    "\n",
    "measurements_data_out"
   ],
   "metadata": {
    "collapsed": false
   }
  },
  {
   "cell_type": "code",
   "execution_count": 425,
   "outputs": [],
   "source": [],
   "metadata": {
    "collapsed": false
   }
  },
  {
   "cell_type": "code",
   "execution_count": 426,
   "outputs": [],
   "source": [
    "stations_data = stations_data.groupby(by='station').apply(lambda x: x.loc[x['revision']==x['revision'].max()])"
   ],
   "metadata": {
    "collapsed": false
   }
  },
  {
   "cell_type": "markdown",
   "source": [
    "## Spojenie tabuliek"
   ],
   "metadata": {
    "collapsed": false
   }
  },
  {
   "cell_type": "code",
   "execution_count": 427,
   "outputs": [
    {
     "data": {
      "text/plain": "               QoS       station code  latitude  longitude      revision  \\\n0      maintenance      Aberdeen   GB  57.14369   -2.09814  1.545523e+09   \n1      maintenance      Aberdeen   GB  57.14369   -2.09814  1.545523e+09   \n2      maintenance      Aberdeen   GB  57.14369   -2.09814  1.545523e+09   \n3      maintenance      Aberdeen   GB  57.14369   -2.09814  1.545523e+09   \n4      maintenance      Aberdeen   GB  57.14369   -2.09814  1.545523e+09   \n...            ...           ...  ...       ...        ...           ...   \n12063    excellent  les Escaldes   AD  42.50729    1.53414  1.418947e+09   \n12064    excellent  les Escaldes   AD  42.50729    1.53414  1.418947e+09   \n12065    excellent  les Escaldes   AD  42.50729    1.53414  1.418947e+09   \n12066    excellent  les Escaldes   AD  42.50729    1.53414  1.418947e+09   \n12067    excellent  les Escaldes   AD  42.50729    1.53414  1.418947e+09   \n\n          PM10       CO        Pb  C2H3NO5  ...       O3      TEMP      NOx  \\\n0      8.94040  8.15390  51.70980  1.07014  ...  7.59161   6.60825  7.42432   \n1      9.92679  7.48092  50.20703  2.64911  ...  7.63081   6.16413  8.41506   \n2      7.70897  7.94669  30.48851  0.46590  ...  9.90479   7.45631  6.88163   \n3      8.79345  7.95665  41.96855  0.91801  ...  7.43302  11.97880  9.63301   \n4      8.19808  7.87163  25.72025  0.59423  ...  5.30181   2.99136  8.13061   \n...        ...      ...       ...      ...  ...      ...       ...      ...   \n12063  8.89369  7.75732  43.95104  1.05577  ...  7.89935  13.31804  7.97301   \n12064  7.15250  6.64782  56.67238  0.26810  ...  5.92714   2.83320  8.14658   \n12065  8.65674  5.70363  61.58862  0.78845  ...  9.56202   4.47710  6.67552   \n12066  6.27031  4.97595  49.20954  0.25750  ...  6.13673   3.79766  8.25153   \n12067  7.96289  7.16027  46.83897  0.40833  ...  8.07900  25.08938  8.93656   \n\n           SO2       NH3      CH4        PRES     PM2.5  warning     PAHs  \n0      8.52814  10.37150  8.04118  1113.51031   8.45419      0.0  7.47770  \n1      8.10514   8.64142  5.75635  1141.89103   8.98874      0.0  5.31318  \n2      8.67120   7.16353  8.02152  1141.32144   8.99272      0.0  5.60567  \n3      8.68320   8.31095  8.63908  1051.38525  10.07743      0.0  6.80804  \n4      9.95595   5.97990  6.37283  1153.65647   9.25494      0.0  7.14369  \n...        ...       ...      ...         ...       ...      ...      ...  \n12063  6.95242   9.15684  6.94692  1096.63218   7.71518      1.0  9.12317  \n12064  5.88350   4.17718  6.40035  1181.06702  10.33065      0.0  8.77173  \n12065  8.31503   9.23302  7.91515  1077.81115   9.00477      0.0  8.22518  \n12066  9.35591   4.62164  6.27290  1081.73222   9.73974      1.0  9.26331  \n12067  7.07399   7.46569  8.10584  1165.62124   9.74554      1.0  7.42399  \n\n[12068 rows x 22 columns]",
      "text/html": "<div>\n<style scoped>\n    .dataframe tbody tr th:only-of-type {\n        vertical-align: middle;\n    }\n\n    .dataframe tbody tr th {\n        vertical-align: top;\n    }\n\n    .dataframe thead th {\n        text-align: right;\n    }\n</style>\n<table border=\"1\" class=\"dataframe\">\n  <thead>\n    <tr style=\"text-align: right;\">\n      <th></th>\n      <th>QoS</th>\n      <th>station</th>\n      <th>code</th>\n      <th>latitude</th>\n      <th>longitude</th>\n      <th>revision</th>\n      <th>PM10</th>\n      <th>CO</th>\n      <th>Pb</th>\n      <th>C2H3NO5</th>\n      <th>...</th>\n      <th>O3</th>\n      <th>TEMP</th>\n      <th>NOx</th>\n      <th>SO2</th>\n      <th>NH3</th>\n      <th>CH4</th>\n      <th>PRES</th>\n      <th>PM2.5</th>\n      <th>warning</th>\n      <th>PAHs</th>\n    </tr>\n  </thead>\n  <tbody>\n    <tr>\n      <th>0</th>\n      <td>maintenance</td>\n      <td>Aberdeen</td>\n      <td>GB</td>\n      <td>57.14369</td>\n      <td>-2.09814</td>\n      <td>1.545523e+09</td>\n      <td>8.94040</td>\n      <td>8.15390</td>\n      <td>51.70980</td>\n      <td>1.07014</td>\n      <td>...</td>\n      <td>7.59161</td>\n      <td>6.60825</td>\n      <td>7.42432</td>\n      <td>8.52814</td>\n      <td>10.37150</td>\n      <td>8.04118</td>\n      <td>1113.51031</td>\n      <td>8.45419</td>\n      <td>0.0</td>\n      <td>7.47770</td>\n    </tr>\n    <tr>\n      <th>1</th>\n      <td>maintenance</td>\n      <td>Aberdeen</td>\n      <td>GB</td>\n      <td>57.14369</td>\n      <td>-2.09814</td>\n      <td>1.545523e+09</td>\n      <td>9.92679</td>\n      <td>7.48092</td>\n      <td>50.20703</td>\n      <td>2.64911</td>\n      <td>...</td>\n      <td>7.63081</td>\n      <td>6.16413</td>\n      <td>8.41506</td>\n      <td>8.10514</td>\n      <td>8.64142</td>\n      <td>5.75635</td>\n      <td>1141.89103</td>\n      <td>8.98874</td>\n      <td>0.0</td>\n      <td>5.31318</td>\n    </tr>\n    <tr>\n      <th>2</th>\n      <td>maintenance</td>\n      <td>Aberdeen</td>\n      <td>GB</td>\n      <td>57.14369</td>\n      <td>-2.09814</td>\n      <td>1.545523e+09</td>\n      <td>7.70897</td>\n      <td>7.94669</td>\n      <td>30.48851</td>\n      <td>0.46590</td>\n      <td>...</td>\n      <td>9.90479</td>\n      <td>7.45631</td>\n      <td>6.88163</td>\n      <td>8.67120</td>\n      <td>7.16353</td>\n      <td>8.02152</td>\n      <td>1141.32144</td>\n      <td>8.99272</td>\n      <td>0.0</td>\n      <td>5.60567</td>\n    </tr>\n    <tr>\n      <th>3</th>\n      <td>maintenance</td>\n      <td>Aberdeen</td>\n      <td>GB</td>\n      <td>57.14369</td>\n      <td>-2.09814</td>\n      <td>1.545523e+09</td>\n      <td>8.79345</td>\n      <td>7.95665</td>\n      <td>41.96855</td>\n      <td>0.91801</td>\n      <td>...</td>\n      <td>7.43302</td>\n      <td>11.97880</td>\n      <td>9.63301</td>\n      <td>8.68320</td>\n      <td>8.31095</td>\n      <td>8.63908</td>\n      <td>1051.38525</td>\n      <td>10.07743</td>\n      <td>0.0</td>\n      <td>6.80804</td>\n    </tr>\n    <tr>\n      <th>4</th>\n      <td>maintenance</td>\n      <td>Aberdeen</td>\n      <td>GB</td>\n      <td>57.14369</td>\n      <td>-2.09814</td>\n      <td>1.545523e+09</td>\n      <td>8.19808</td>\n      <td>7.87163</td>\n      <td>25.72025</td>\n      <td>0.59423</td>\n      <td>...</td>\n      <td>5.30181</td>\n      <td>2.99136</td>\n      <td>8.13061</td>\n      <td>9.95595</td>\n      <td>5.97990</td>\n      <td>6.37283</td>\n      <td>1153.65647</td>\n      <td>9.25494</td>\n      <td>0.0</td>\n      <td>7.14369</td>\n    </tr>\n    <tr>\n      <th>...</th>\n      <td>...</td>\n      <td>...</td>\n      <td>...</td>\n      <td>...</td>\n      <td>...</td>\n      <td>...</td>\n      <td>...</td>\n      <td>...</td>\n      <td>...</td>\n      <td>...</td>\n      <td>...</td>\n      <td>...</td>\n      <td>...</td>\n      <td>...</td>\n      <td>...</td>\n      <td>...</td>\n      <td>...</td>\n      <td>...</td>\n      <td>...</td>\n      <td>...</td>\n      <td>...</td>\n    </tr>\n    <tr>\n      <th>12063</th>\n      <td>excellent</td>\n      <td>les Escaldes</td>\n      <td>AD</td>\n      <td>42.50729</td>\n      <td>1.53414</td>\n      <td>1.418947e+09</td>\n      <td>8.89369</td>\n      <td>7.75732</td>\n      <td>43.95104</td>\n      <td>1.05577</td>\n      <td>...</td>\n      <td>7.89935</td>\n      <td>13.31804</td>\n      <td>7.97301</td>\n      <td>6.95242</td>\n      <td>9.15684</td>\n      <td>6.94692</td>\n      <td>1096.63218</td>\n      <td>7.71518</td>\n      <td>1.0</td>\n      <td>9.12317</td>\n    </tr>\n    <tr>\n      <th>12064</th>\n      <td>excellent</td>\n      <td>les Escaldes</td>\n      <td>AD</td>\n      <td>42.50729</td>\n      <td>1.53414</td>\n      <td>1.418947e+09</td>\n      <td>7.15250</td>\n      <td>6.64782</td>\n      <td>56.67238</td>\n      <td>0.26810</td>\n      <td>...</td>\n      <td>5.92714</td>\n      <td>2.83320</td>\n      <td>8.14658</td>\n      <td>5.88350</td>\n      <td>4.17718</td>\n      <td>6.40035</td>\n      <td>1181.06702</td>\n      <td>10.33065</td>\n      <td>0.0</td>\n      <td>8.77173</td>\n    </tr>\n    <tr>\n      <th>12065</th>\n      <td>excellent</td>\n      <td>les Escaldes</td>\n      <td>AD</td>\n      <td>42.50729</td>\n      <td>1.53414</td>\n      <td>1.418947e+09</td>\n      <td>8.65674</td>\n      <td>5.70363</td>\n      <td>61.58862</td>\n      <td>0.78845</td>\n      <td>...</td>\n      <td>9.56202</td>\n      <td>4.47710</td>\n      <td>6.67552</td>\n      <td>8.31503</td>\n      <td>9.23302</td>\n      <td>7.91515</td>\n      <td>1077.81115</td>\n      <td>9.00477</td>\n      <td>0.0</td>\n      <td>8.22518</td>\n    </tr>\n    <tr>\n      <th>12066</th>\n      <td>excellent</td>\n      <td>les Escaldes</td>\n      <td>AD</td>\n      <td>42.50729</td>\n      <td>1.53414</td>\n      <td>1.418947e+09</td>\n      <td>6.27031</td>\n      <td>4.97595</td>\n      <td>49.20954</td>\n      <td>0.25750</td>\n      <td>...</td>\n      <td>6.13673</td>\n      <td>3.79766</td>\n      <td>8.25153</td>\n      <td>9.35591</td>\n      <td>4.62164</td>\n      <td>6.27290</td>\n      <td>1081.73222</td>\n      <td>9.73974</td>\n      <td>1.0</td>\n      <td>9.26331</td>\n    </tr>\n    <tr>\n      <th>12067</th>\n      <td>excellent</td>\n      <td>les Escaldes</td>\n      <td>AD</td>\n      <td>42.50729</td>\n      <td>1.53414</td>\n      <td>1.418947e+09</td>\n      <td>7.96289</td>\n      <td>7.16027</td>\n      <td>46.83897</td>\n      <td>0.40833</td>\n      <td>...</td>\n      <td>8.07900</td>\n      <td>25.08938</td>\n      <td>8.93656</td>\n      <td>7.07399</td>\n      <td>7.46569</td>\n      <td>8.10584</td>\n      <td>1165.62124</td>\n      <td>9.74554</td>\n      <td>1.0</td>\n      <td>7.42399</td>\n    </tr>\n  </tbody>\n</table>\n<p>12068 rows × 22 columns</p>\n</div>"
     },
     "execution_count": 427,
     "metadata": {},
     "output_type": "execute_result"
    }
   ],
   "source": [
    "df=pd.merge(stations_data, measurements_data, on=['latitude', 'longitude'], how='inner')\n",
    "\n",
    "df"
   ],
   "metadata": {
    "collapsed": false
   }
  },
  {
   "cell_type": "markdown",
   "source": [
    "### Opis každého atribútu numerickým formátom"
   ],
   "metadata": {
    "collapsed": false
   }
  },
  {
   "cell_type": "code",
   "execution_count": 428,
   "outputs": [],
   "source": [
    "df['QoS_ID'] = -1\n",
    "\n",
    "df.loc[df.QoS == \"excellent\", \"QoS_ID\"] = \"1\"\n",
    "df.loc[df.QoS == \"good\", \"QoS_ID\"] = \"2\"\n",
    "df.loc[df.QoS == \"average\", \"QoS_ID\"] = \"3\"\n",
    "df.loc[df.QoS == \"acceptable\", \"QoS_ID\"] = \"4\"\n",
    "df.loc[df.QoS == \"building\", \"QoS_ID\"] = \"5\"\n",
    "df.loc[df.QoS == \"maintenance\", \"QoS_ID\"] = \"5\"\n",
    "\n",
    "df[['QoS_ID']] = df[['QoS_ID']].apply(pd.to_numeric)"
   ],
   "metadata": {
    "collapsed": false
   }
  },
  {
   "cell_type": "code",
   "execution_count": 429,
   "outputs": [
    {
     "data": {
      "text/plain": "               QoS       station code  latitude  longitude      revision  \\\n0      maintenance      Aberdeen   GB  57.14369   -2.09814  1.545523e+09   \n1      maintenance      Aberdeen   GB  57.14369   -2.09814  1.545523e+09   \n2      maintenance      Aberdeen   GB  57.14369   -2.09814  1.545523e+09   \n3      maintenance      Aberdeen   GB  57.14369   -2.09814  1.545523e+09   \n4      maintenance      Aberdeen   GB  57.14369   -2.09814  1.545523e+09   \n...            ...           ...  ...       ...        ...           ...   \n12063    excellent  les Escaldes   AD  42.50729    1.53414  1.418947e+09   \n12064    excellent  les Escaldes   AD  42.50729    1.53414  1.418947e+09   \n12065    excellent  les Escaldes   AD  42.50729    1.53414  1.418947e+09   \n12066    excellent  les Escaldes   AD  42.50729    1.53414  1.418947e+09   \n12067    excellent  les Escaldes   AD  42.50729    1.53414  1.418947e+09   \n\n          PM10       CO        Pb  C2H3NO5  ...      SO2       NH3      CH4  \\\n0      8.94040  8.15390  51.70980  1.07014  ...  8.52814  10.37150  8.04118   \n1      9.92679  7.48092  50.20703  2.64911  ...  8.10514   8.64142  5.75635   \n2      7.70897  7.94669  30.48851  0.46590  ...  8.67120   7.16353  8.02152   \n3      8.79345  7.95665  41.96855  0.91801  ...  8.68320   8.31095  8.63908   \n4      8.19808  7.87163  25.72025  0.59423  ...  9.95595   5.97990  6.37283   \n...        ...      ...       ...      ...  ...      ...       ...      ...   \n12063  8.89369  7.75732  43.95104  1.05577  ...  6.95242   9.15684  6.94692   \n12064  7.15250  6.64782  56.67238  0.26810  ...  5.88350   4.17718  6.40035   \n12065  8.65674  5.70363  61.58862  0.78845  ...  8.31503   9.23302  7.91515   \n12066  6.27031  4.97595  49.20954  0.25750  ...  9.35591   4.62164  6.27290   \n12067  7.96289  7.16027  46.83897  0.40833  ...  7.07399   7.46569  8.10584   \n\n             PRES     PM2.5  warning     PAHs  QoS_ID  station_ID  code_ID  \n0      1113.51031   8.45419      0.0  7.47770       5         1.0     38.0  \n1      1141.89103   8.98874      0.0  5.31318       5         1.0     38.0  \n2      1141.32144   8.99272      0.0  5.60567       5         1.0     38.0  \n3      1051.38525  10.07743      0.0  6.80804       5         1.0     38.0  \n4      1153.65647   9.25494      0.0  7.14369       5         1.0     38.0  \n...           ...       ...      ...      ...     ...         ...      ...  \n12063  1096.63218   7.71518      1.0  9.12317       1       662.0      1.0  \n12064  1181.06702  10.33065      0.0  8.77173       1       662.0      1.0  \n12065  1077.81115   9.00477      0.0  8.22518       1       662.0      1.0  \n12066  1081.73222   9.73974      1.0  9.26331       1       662.0      1.0  \n12067  1165.62124   9.74554      1.0  7.42399       1       662.0      1.0  \n\n[12068 rows x 25 columns]",
      "text/html": "<div>\n<style scoped>\n    .dataframe tbody tr th:only-of-type {\n        vertical-align: middle;\n    }\n\n    .dataframe tbody tr th {\n        vertical-align: top;\n    }\n\n    .dataframe thead th {\n        text-align: right;\n    }\n</style>\n<table border=\"1\" class=\"dataframe\">\n  <thead>\n    <tr style=\"text-align: right;\">\n      <th></th>\n      <th>QoS</th>\n      <th>station</th>\n      <th>code</th>\n      <th>latitude</th>\n      <th>longitude</th>\n      <th>revision</th>\n      <th>PM10</th>\n      <th>CO</th>\n      <th>Pb</th>\n      <th>C2H3NO5</th>\n      <th>...</th>\n      <th>SO2</th>\n      <th>NH3</th>\n      <th>CH4</th>\n      <th>PRES</th>\n      <th>PM2.5</th>\n      <th>warning</th>\n      <th>PAHs</th>\n      <th>QoS_ID</th>\n      <th>station_ID</th>\n      <th>code_ID</th>\n    </tr>\n  </thead>\n  <tbody>\n    <tr>\n      <th>0</th>\n      <td>maintenance</td>\n      <td>Aberdeen</td>\n      <td>GB</td>\n      <td>57.14369</td>\n      <td>-2.09814</td>\n      <td>1.545523e+09</td>\n      <td>8.94040</td>\n      <td>8.15390</td>\n      <td>51.70980</td>\n      <td>1.07014</td>\n      <td>...</td>\n      <td>8.52814</td>\n      <td>10.37150</td>\n      <td>8.04118</td>\n      <td>1113.51031</td>\n      <td>8.45419</td>\n      <td>0.0</td>\n      <td>7.47770</td>\n      <td>5</td>\n      <td>1.0</td>\n      <td>38.0</td>\n    </tr>\n    <tr>\n      <th>1</th>\n      <td>maintenance</td>\n      <td>Aberdeen</td>\n      <td>GB</td>\n      <td>57.14369</td>\n      <td>-2.09814</td>\n      <td>1.545523e+09</td>\n      <td>9.92679</td>\n      <td>7.48092</td>\n      <td>50.20703</td>\n      <td>2.64911</td>\n      <td>...</td>\n      <td>8.10514</td>\n      <td>8.64142</td>\n      <td>5.75635</td>\n      <td>1141.89103</td>\n      <td>8.98874</td>\n      <td>0.0</td>\n      <td>5.31318</td>\n      <td>5</td>\n      <td>1.0</td>\n      <td>38.0</td>\n    </tr>\n    <tr>\n      <th>2</th>\n      <td>maintenance</td>\n      <td>Aberdeen</td>\n      <td>GB</td>\n      <td>57.14369</td>\n      <td>-2.09814</td>\n      <td>1.545523e+09</td>\n      <td>7.70897</td>\n      <td>7.94669</td>\n      <td>30.48851</td>\n      <td>0.46590</td>\n      <td>...</td>\n      <td>8.67120</td>\n      <td>7.16353</td>\n      <td>8.02152</td>\n      <td>1141.32144</td>\n      <td>8.99272</td>\n      <td>0.0</td>\n      <td>5.60567</td>\n      <td>5</td>\n      <td>1.0</td>\n      <td>38.0</td>\n    </tr>\n    <tr>\n      <th>3</th>\n      <td>maintenance</td>\n      <td>Aberdeen</td>\n      <td>GB</td>\n      <td>57.14369</td>\n      <td>-2.09814</td>\n      <td>1.545523e+09</td>\n      <td>8.79345</td>\n      <td>7.95665</td>\n      <td>41.96855</td>\n      <td>0.91801</td>\n      <td>...</td>\n      <td>8.68320</td>\n      <td>8.31095</td>\n      <td>8.63908</td>\n      <td>1051.38525</td>\n      <td>10.07743</td>\n      <td>0.0</td>\n      <td>6.80804</td>\n      <td>5</td>\n      <td>1.0</td>\n      <td>38.0</td>\n    </tr>\n    <tr>\n      <th>4</th>\n      <td>maintenance</td>\n      <td>Aberdeen</td>\n      <td>GB</td>\n      <td>57.14369</td>\n      <td>-2.09814</td>\n      <td>1.545523e+09</td>\n      <td>8.19808</td>\n      <td>7.87163</td>\n      <td>25.72025</td>\n      <td>0.59423</td>\n      <td>...</td>\n      <td>9.95595</td>\n      <td>5.97990</td>\n      <td>6.37283</td>\n      <td>1153.65647</td>\n      <td>9.25494</td>\n      <td>0.0</td>\n      <td>7.14369</td>\n      <td>5</td>\n      <td>1.0</td>\n      <td>38.0</td>\n    </tr>\n    <tr>\n      <th>...</th>\n      <td>...</td>\n      <td>...</td>\n      <td>...</td>\n      <td>...</td>\n      <td>...</td>\n      <td>...</td>\n      <td>...</td>\n      <td>...</td>\n      <td>...</td>\n      <td>...</td>\n      <td>...</td>\n      <td>...</td>\n      <td>...</td>\n      <td>...</td>\n      <td>...</td>\n      <td>...</td>\n      <td>...</td>\n      <td>...</td>\n      <td>...</td>\n      <td>...</td>\n      <td>...</td>\n    </tr>\n    <tr>\n      <th>12063</th>\n      <td>excellent</td>\n      <td>les Escaldes</td>\n      <td>AD</td>\n      <td>42.50729</td>\n      <td>1.53414</td>\n      <td>1.418947e+09</td>\n      <td>8.89369</td>\n      <td>7.75732</td>\n      <td>43.95104</td>\n      <td>1.05577</td>\n      <td>...</td>\n      <td>6.95242</td>\n      <td>9.15684</td>\n      <td>6.94692</td>\n      <td>1096.63218</td>\n      <td>7.71518</td>\n      <td>1.0</td>\n      <td>9.12317</td>\n      <td>1</td>\n      <td>662.0</td>\n      <td>1.0</td>\n    </tr>\n    <tr>\n      <th>12064</th>\n      <td>excellent</td>\n      <td>les Escaldes</td>\n      <td>AD</td>\n      <td>42.50729</td>\n      <td>1.53414</td>\n      <td>1.418947e+09</td>\n      <td>7.15250</td>\n      <td>6.64782</td>\n      <td>56.67238</td>\n      <td>0.26810</td>\n      <td>...</td>\n      <td>5.88350</td>\n      <td>4.17718</td>\n      <td>6.40035</td>\n      <td>1181.06702</td>\n      <td>10.33065</td>\n      <td>0.0</td>\n      <td>8.77173</td>\n      <td>1</td>\n      <td>662.0</td>\n      <td>1.0</td>\n    </tr>\n    <tr>\n      <th>12065</th>\n      <td>excellent</td>\n      <td>les Escaldes</td>\n      <td>AD</td>\n      <td>42.50729</td>\n      <td>1.53414</td>\n      <td>1.418947e+09</td>\n      <td>8.65674</td>\n      <td>5.70363</td>\n      <td>61.58862</td>\n      <td>0.78845</td>\n      <td>...</td>\n      <td>8.31503</td>\n      <td>9.23302</td>\n      <td>7.91515</td>\n      <td>1077.81115</td>\n      <td>9.00477</td>\n      <td>0.0</td>\n      <td>8.22518</td>\n      <td>1</td>\n      <td>662.0</td>\n      <td>1.0</td>\n    </tr>\n    <tr>\n      <th>12066</th>\n      <td>excellent</td>\n      <td>les Escaldes</td>\n      <td>AD</td>\n      <td>42.50729</td>\n      <td>1.53414</td>\n      <td>1.418947e+09</td>\n      <td>6.27031</td>\n      <td>4.97595</td>\n      <td>49.20954</td>\n      <td>0.25750</td>\n      <td>...</td>\n      <td>9.35591</td>\n      <td>4.62164</td>\n      <td>6.27290</td>\n      <td>1081.73222</td>\n      <td>9.73974</td>\n      <td>1.0</td>\n      <td>9.26331</td>\n      <td>1</td>\n      <td>662.0</td>\n      <td>1.0</td>\n    </tr>\n    <tr>\n      <th>12067</th>\n      <td>excellent</td>\n      <td>les Escaldes</td>\n      <td>AD</td>\n      <td>42.50729</td>\n      <td>1.53414</td>\n      <td>1.418947e+09</td>\n      <td>7.96289</td>\n      <td>7.16027</td>\n      <td>46.83897</td>\n      <td>0.40833</td>\n      <td>...</td>\n      <td>7.07399</td>\n      <td>7.46569</td>\n      <td>8.10584</td>\n      <td>1165.62124</td>\n      <td>9.74554</td>\n      <td>1.0</td>\n      <td>7.42399</td>\n      <td>1</td>\n      <td>662.0</td>\n      <td>1.0</td>\n    </tr>\n  </tbody>\n</table>\n<p>12068 rows × 25 columns</p>\n</div>"
     },
     "execution_count": 429,
     "metadata": {},
     "output_type": "execute_result"
    }
   ],
   "source": [
    "df['station_ID'] = df['station'].rank(method='dense')\n",
    "df['code_ID'] = df['code'].rank(method='dense')\n",
    "\n",
    "df"
   ],
   "metadata": {
    "collapsed": false
   }
  },
  {
   "cell_type": "markdown",
   "source": [
    "### Uloženie upravenej dátovej sady do .csv súboru"
   ],
   "metadata": {
    "collapsed": false
   }
  },
  {
   "cell_type": "code",
   "execution_count": 430,
   "outputs": [],
   "source": [
    "output = df[['station_ID', 'code_ID', 'QoS_ID', 'warning', 'latitude', 'longitude', 'revision','PAHs', 'PM10', 'CO', 'Pb', 'C2H3NO5', 'CFCs', 'H2CO', 'O3', 'TEMP', 'NOx', 'SO2', 'NH3', 'CH4', 'PRES', 'PM2.5']]\n",
    "\n",
    "output.to_csv('output.csv', index=False)"
   ],
   "metadata": {
    "collapsed": false
   }
  },
  {
   "cell_type": "markdown",
   "source": [
    "### Power Transformer"
   ],
   "metadata": {
    "collapsed": false
   }
  },
  {
   "cell_type": "code",
   "execution_count": 431,
   "outputs": [],
   "source": [
    "def transform(column_name):\n",
    "\n",
    "    sns.histplot(data=df, hue='warning', x=column_name, fill=True, kde=True)\n",
    "    plt.show()\n",
    "\n",
    "    data = df[column_name].values\n",
    "    data = data.reshape((len(data),1))\n",
    "\n",
    "    power = PowerTransformer(\n",
    "                method='yeo-johnson',\n",
    "                standardize=True)\n",
    "    data_trans = power.fit_transform(data)\n",
    "    df[column_name] = data_trans\n",
    "\n",
    "    sns.histplot(data=df, hue='warning', x=column_name, fill=True, kde=True)\n",
    "    plt.show()"
   ],
   "metadata": {
    "collapsed": false
   }
  },
  {
   "cell_type": "code",
   "execution_count": 432,
   "outputs": [
    {
     "data": {
      "text/plain": "<Figure size 640x480 with 1 Axes>",
      "image/png": "[encoded data removed]"
     },
     "metadata": {},
     "output_type": "display_data"
    },
    {
     "data": {
      "text/plain": "<Figure size 640x480 with 1 Axes>",
      "image/png": "[encoded data removed]"
     },
     "metadata": {},
     "output_type": "display_data"
    }
   ],
   "source": [
    "transform('C2H3NO5')\n",
    "\n",
    "# arr_0 = ['PAHs', 'PM10', 'CO', 'Pb', 'C2H3NO5', 'CFCs', 'H2CO', 'O3', 'TEMP', 'NOx', 'SO2', 'NH3', 'CH4', 'PRES', 'PM2.5']\n",
    "# for i in arr_0:\n",
    "#     print(i)\n",
    "#     transform(i)"
   ],
   "metadata": {
    "collapsed": false
   }
  },
  {
   "cell_type": "markdown",
   "source": [
    "### Zoradenie podla p a zaroven r"
   ],
   "metadata": {
    "collapsed": false
   }
  },
  {
   "cell_type": "code",
   "execution_count": 433,
   "outputs": [
    {
     "ename": "ValueError",
     "evalue": "array must not contain infs or NaNs",
     "output_type": "error",
     "traceback": [
      "\u001B[0;31m---------------------------------------------------------------------------\u001B[0m",
      "\u001B[0;31mValueError\u001B[0m                                Traceback (most recent call last)",
      "Cell \u001B[0;32mIn [433], line 5\u001B[0m\n\u001B[1;32m      3\u001B[0m \u001B[38;5;28;01mfor\u001B[39;00m i \u001B[38;5;129;01min\u001B[39;00m \u001B[38;5;28mlist\u001B[39m(df\u001B[38;5;241m.\u001B[39mcolumns\u001B[38;5;241m.\u001B[39mvalues):\n\u001B[1;32m      4\u001B[0m     \u001B[38;5;28;01mif\u001B[39;00m i \u001B[38;5;241m!=\u001B[39m \u001B[38;5;124m'\u001B[39m\u001B[38;5;124mQoS\u001B[39m\u001B[38;5;124m'\u001B[39m \u001B[38;5;129;01mand\u001B[39;00m i \u001B[38;5;241m!=\u001B[39m \u001B[38;5;124m'\u001B[39m\u001B[38;5;124mstation\u001B[39m\u001B[38;5;124m'\u001B[39m \u001B[38;5;129;01mand\u001B[39;00m i \u001B[38;5;241m!=\u001B[39m \u001B[38;5;124m'\u001B[39m\u001B[38;5;124mcode\u001B[39m\u001B[38;5;124m'\u001B[39m:\n\u001B[0;32m----> 5\u001B[0m         (r, p) \u001B[38;5;241m=\u001B[39m \u001B[43mpearsonr\u001B[49m\u001B[43m(\u001B[49m\u001B[43mdf\u001B[49m\u001B[43m[\u001B[49m\u001B[38;5;124;43m'\u001B[39;49m\u001B[38;5;124;43mwarning\u001B[39;49m\u001B[38;5;124;43m'\u001B[39;49m\u001B[43m]\u001B[49m\u001B[43m,\u001B[49m\u001B[43m \u001B[49m\u001B[43mdf\u001B[49m\u001B[43m[\u001B[49m\u001B[43mi\u001B[49m\u001B[43m]\u001B[49m\u001B[43m)\u001B[49m\n\u001B[1;32m      6\u001B[0m         \u001B[38;5;28;01mif\u001B[39;00m p \u001B[38;5;241m<\u001B[39m \u001B[38;5;241m0.05\u001B[39m \u001B[38;5;129;01mand\u001B[39;00m i \u001B[38;5;241m!=\u001B[39m \u001B[38;5;124m'\u001B[39m\u001B[38;5;124mwarning\u001B[39m\u001B[38;5;124m'\u001B[39m:\n\u001B[1;32m      7\u001B[0m             arr\u001B[38;5;241m.\u001B[39mappend([i, \u001B[38;5;28mabs\u001B[39m(r), p])\n",
      "File \u001B[0;32m~/Documents/FIIT/IAU/iau_env/lib/python3.9/site-packages/scipy/stats/_stats_py.py:4451\u001B[0m, in \u001B[0;36mpearsonr\u001B[0;34m(x, y, alternative)\u001B[0m\n\u001B[1;32m   4446\u001B[0m ym \u001B[38;5;241m=\u001B[39m y\u001B[38;5;241m.\u001B[39mastype(dtype) \u001B[38;5;241m-\u001B[39m ymean\n\u001B[1;32m   4448\u001B[0m \u001B[38;5;66;03m# Unlike np.linalg.norm or the expression sqrt((xm*xm).sum()),\u001B[39;00m\n\u001B[1;32m   4449\u001B[0m \u001B[38;5;66;03m# scipy.linalg.norm(xm) does not overflow if xm is, for example,\u001B[39;00m\n\u001B[1;32m   4450\u001B[0m \u001B[38;5;66;03m# [-5e210, 5e210, 3e200, -3e200]\u001B[39;00m\n\u001B[0;32m-> 4451\u001B[0m normxm \u001B[38;5;241m=\u001B[39m \u001B[43mlinalg\u001B[49m\u001B[38;5;241;43m.\u001B[39;49m\u001B[43mnorm\u001B[49m\u001B[43m(\u001B[49m\u001B[43mxm\u001B[49m\u001B[43m)\u001B[49m\n\u001B[1;32m   4452\u001B[0m normym \u001B[38;5;241m=\u001B[39m linalg\u001B[38;5;241m.\u001B[39mnorm(ym)\n\u001B[1;32m   4454\u001B[0m threshold \u001B[38;5;241m=\u001B[39m \u001B[38;5;241m1e-13\u001B[39m\n",
      "File \u001B[0;32m~/Documents/FIIT/IAU/iau_env/lib/python3.9/site-packages/scipy/linalg/_misc.py:145\u001B[0m, in \u001B[0;36mnorm\u001B[0;34m(a, ord, axis, keepdims, check_finite)\u001B[0m\n\u001B[1;32m    143\u001B[0m \u001B[38;5;66;03m# Differs from numpy only in non-finite handling and the use of blas.\u001B[39;00m\n\u001B[1;32m    144\u001B[0m \u001B[38;5;28;01mif\u001B[39;00m check_finite:\n\u001B[0;32m--> 145\u001B[0m     a \u001B[38;5;241m=\u001B[39m \u001B[43mnp\u001B[49m\u001B[38;5;241;43m.\u001B[39;49m\u001B[43masarray_chkfinite\u001B[49m\u001B[43m(\u001B[49m\u001B[43ma\u001B[49m\u001B[43m)\u001B[49m\n\u001B[1;32m    146\u001B[0m \u001B[38;5;28;01melse\u001B[39;00m:\n\u001B[1;32m    147\u001B[0m     a \u001B[38;5;241m=\u001B[39m np\u001B[38;5;241m.\u001B[39masarray(a)\n",
      "File \u001B[0;32m~/Documents/FIIT/IAU/iau_env/lib/python3.9/site-packages/numpy/lib/function_base.py:627\u001B[0m, in \u001B[0;36masarray_chkfinite\u001B[0;34m(a, dtype, order)\u001B[0m\n\u001B[1;32m    625\u001B[0m a \u001B[38;5;241m=\u001B[39m asarray(a, dtype\u001B[38;5;241m=\u001B[39mdtype, order\u001B[38;5;241m=\u001B[39morder)\n\u001B[1;32m    626\u001B[0m \u001B[38;5;28;01mif\u001B[39;00m a\u001B[38;5;241m.\u001B[39mdtype\u001B[38;5;241m.\u001B[39mchar \u001B[38;5;129;01min\u001B[39;00m typecodes[\u001B[38;5;124m'\u001B[39m\u001B[38;5;124mAllFloat\u001B[39m\u001B[38;5;124m'\u001B[39m] \u001B[38;5;129;01mand\u001B[39;00m \u001B[38;5;129;01mnot\u001B[39;00m np\u001B[38;5;241m.\u001B[39misfinite(a)\u001B[38;5;241m.\u001B[39mall():\n\u001B[0;32m--> 627\u001B[0m     \u001B[38;5;28;01mraise\u001B[39;00m \u001B[38;5;167;01mValueError\u001B[39;00m(\n\u001B[1;32m    628\u001B[0m         \u001B[38;5;124m\"\u001B[39m\u001B[38;5;124marray must not contain infs or NaNs\u001B[39m\u001B[38;5;124m\"\u001B[39m)\n\u001B[1;32m    629\u001B[0m \u001B[38;5;28;01mreturn\u001B[39;00m a\n",
      "\u001B[0;31mValueError\u001B[0m: array must not contain infs or NaNs"
     ]
    }
   ],
   "source": [
    "arr = []\n",
    "#\n",
    "for i in list(df.columns.values):\n",
    "    if i != 'QoS' and i != 'station' and i != 'code':\n",
    "        (r, p) = pearsonr(df['warning'], df[i])\n",
    "        if p < 0.05 and i != 'warning':\n",
    "            arr.append([i, abs(r), p])\n",
    "\n",
    "arr = sorted(arr, key=itemgetter(1))\n",
    "a = []\n",
    "for i in range(len(arr)):\n",
    "    a.append([i + 1, arr[len(arr) - i - 1][0], arr[len(arr) - i - 1][1], arr[len(arr) - i - 1][2]])\n",
    "\n",
    "for row in a:\n",
    "    print(\"{: >0} {: >10} {:.5f} {:.5f}\".format(*row))"
   ],
   "metadata": {
    "collapsed": false
   }
  },
  {
   "cell_type": "code",
   "execution_count": null,
   "outputs": [],
   "source": [],
   "metadata": {
    "collapsed": false
   }
  }
 ],
 "metadata": {
  "kernelspec": {
   "display_name": "Python 3",
   "language": "python",
   "name": "python3"
  },
  "language_info": {
   "codemirror_mode": {
    "name": "ipython",
    "version": 2
   },
   "file_extension": ".py",
   "mimetype": "text/x-python",
   "name": "python",
   "nbconvert_exporter": "python",
   "pygments_lexer": "ipython2",
   "version": "2.7.6"
  }
 },
 "nbformat": 4,
 "nbformat_minor": 0
}
