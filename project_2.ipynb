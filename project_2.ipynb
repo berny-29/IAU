{
 "cells": [
  {
   "cell_type": "markdown",
   "source": [
    "# Fáza 2 - Predspracovanie údajov\n",
    "\n",
    "__Autori:__ Dávid Penťa, Samuel Bernát\n",
    "__Percentuálny podiel práce:__ 50% / 50%\n",
    "\n",
    "V tejto fáze sa od Vás očakáva že realizujte predspracovanie údajov pre strojové učenie. Výsledkom bude upravená dátová sada (csv alebo tsv), kde jedno pozorovanie je opísané jedným riadkom.\n",
    "- scikit-learn vie len numerické dáta, takže treba niečo spraviť s nenumerickými dátami.\n",
    "- Replikovateľnosť predspracovania na trénovacej a testovacej množine dát, aby ste mohli\n",
    "zopakovať predspracovanie viackrát podľa Vašej potreby (iteratívne).\n",
    "\n",
    "Keď sa predspracovaním mohol zmeniť tvar a charakteristiky dát, je možné že treba realizovať EDA opakovane podľa Vašej potreby. Bodovanie znovu (EDA) nebudeme, zmeny ale dokumentujte. Problém s dátami môžete riešiť iteratívne v každej fáze aj vo všetkých fázach podľa potreby."
   ],
   "metadata": {
    "collapsed": false
   }
  },
  {
   "cell_type": "code",
   "execution_count": 226,
   "outputs": [],
   "source": [
    "import statsmodels.api as sm\n",
    "import dateparser as dateparser\n",
    "import matplotlib\n",
    "import matplotlib.pylab as pylab\n",
    "import matplotlib.pyplot as plt\n",
    "import seaborn as sns\n",
    "import pandas as pd\n",
    "import numpy as np\n",
    "import scipy.stats as stats\n",
    "import pylab as py\n",
    "import statsmodels.stats.api as sms\n",
    "from scipy.stats import skew\n",
    "from scipy.stats import kurtosis\n",
    "from scipy.stats import pearsonr\n",
    "import math"
   ],
   "metadata": {
    "collapsed": false
   }
  },
  {
   "cell_type": "code",
   "execution_count": 227,
   "outputs": [],
   "source": [
    "measurements_file = \"data/measurements.csv\"\n",
    "measurements_data = pd.read_csv(measurements_file, sep='\\t')\n",
    "\n",
    "stations_file = \"data/stations.csv\"\n",
    "stations_data = pd.read_csv(stations_file, sep='\\t')"
   ],
   "metadata": {
    "collapsed": false
   }
  },
  {
   "cell_type": "markdown",
   "source": [
    "## Integrácia a čistenie dát\n",
    "Transformujte dáta na vhodný formát pre strojové učenie t.j. jedno pozorovanie musí byť opísané jedným riadkom a každý atribút musí byť v numerickom formáte.\n",
    "- Pri riešení chýbajúcich hodnôt (missing values) vyskúšajte rôzne stratégie ako napr.\n",
    "    - odstránenie pozorovaní s chýbajúcimi údajmi\n",
    "    - nahradenie chýbajúcej hodnoty mediánom, priemerom, pomerom (ku korelovanému atribútu), alebo pomocou lineárnej regresie resp. kNN\n",
    "- Podobne postupujte aj pri riešení vychýlených hodnôt (outlier detection):\n",
    "    - odstránenie vychýlených (odľahlých) pozorovaní\n",
    "    - nahradenie vychýlenej hodnoty hraničnými hodnotami rozdelenia (5% resp. 95%)"
   ],
   "metadata": {
    "collapsed": false
   }
  },
  {
   "cell_type": "code",
   "execution_count": 228,
   "outputs": [
    {
     "data": {
      "text/plain": "              QoS                 station code  latitude  longitude  \\\n0            good             Casa Blanca   MX  19.04222  -98.11889   \n1        building             Mikhaylovka   RU  50.06000   43.23790   \n2        building  Shahre Jadide Andisheh   IR  35.68030   51.01930   \n3        building                 Aracaju   BR -10.91111  -37.07167   \n4     maintenance                  Parola   IN  20.88098   75.11937   \n...           ...                     ...  ...       ...        ...   \n1105     building                  Tadmur   SY  34.56240   38.28402   \n1106      average                  Jizzax   UZ  40.11583   67.84222   \n1107   acceptable            West Chester   US  39.96097  -75.60804   \n1108   acceptable               Oktyabrsk   RU  54.48147   53.47103   \n1109    excellent                 Yakuplu   TR  40.98894   28.67582   \n\n          revision  \n0     1.574813e+09  \n1     1.501027e+09  \n2     1.370045e+09  \n3     1.356739e+09  \n4     1.562285e+09  \n...            ...  \n1105  1.373414e+09  \n1106  1.369872e+09  \n1107  1.351987e+09  \n1108  1.429315e+09  \n1109  1.352506e+09  \n\n[1109 rows x 6 columns]",
      "text/html": "<div>\n<style scoped>\n    .dataframe tbody tr th:only-of-type {\n        vertical-align: middle;\n    }\n\n    .dataframe tbody tr th {\n        vertical-align: top;\n    }\n\n    .dataframe thead th {\n        text-align: right;\n    }\n</style>\n<table border=\"1\" class=\"dataframe\">\n  <thead>\n    <tr style=\"text-align: right;\">\n      <th></th>\n      <th>QoS</th>\n      <th>station</th>\n      <th>code</th>\n      <th>latitude</th>\n      <th>longitude</th>\n      <th>revision</th>\n    </tr>\n  </thead>\n  <tbody>\n    <tr>\n      <th>0</th>\n      <td>good</td>\n      <td>Casa Blanca</td>\n      <td>MX</td>\n      <td>19.04222</td>\n      <td>-98.11889</td>\n      <td>1.574813e+09</td>\n    </tr>\n    <tr>\n      <th>1</th>\n      <td>building</td>\n      <td>Mikhaylovka</td>\n      <td>RU</td>\n      <td>50.06000</td>\n      <td>43.23790</td>\n      <td>1.501027e+09</td>\n    </tr>\n    <tr>\n      <th>2</th>\n      <td>building</td>\n      <td>Shahre Jadide Andisheh</td>\n      <td>IR</td>\n      <td>35.68030</td>\n      <td>51.01930</td>\n      <td>1.370045e+09</td>\n    </tr>\n    <tr>\n      <th>3</th>\n      <td>building</td>\n      <td>Aracaju</td>\n      <td>BR</td>\n      <td>-10.91111</td>\n      <td>-37.07167</td>\n      <td>1.356739e+09</td>\n    </tr>\n    <tr>\n      <th>4</th>\n      <td>maintenance</td>\n      <td>Parola</td>\n      <td>IN</td>\n      <td>20.88098</td>\n      <td>75.11937</td>\n      <td>1.562285e+09</td>\n    </tr>\n    <tr>\n      <th>...</th>\n      <td>...</td>\n      <td>...</td>\n      <td>...</td>\n      <td>...</td>\n      <td>...</td>\n      <td>...</td>\n    </tr>\n    <tr>\n      <th>1105</th>\n      <td>building</td>\n      <td>Tadmur</td>\n      <td>SY</td>\n      <td>34.56240</td>\n      <td>38.28402</td>\n      <td>1.373414e+09</td>\n    </tr>\n    <tr>\n      <th>1106</th>\n      <td>average</td>\n      <td>Jizzax</td>\n      <td>UZ</td>\n      <td>40.11583</td>\n      <td>67.84222</td>\n      <td>1.369872e+09</td>\n    </tr>\n    <tr>\n      <th>1107</th>\n      <td>acceptable</td>\n      <td>West Chester</td>\n      <td>US</td>\n      <td>39.96097</td>\n      <td>-75.60804</td>\n      <td>1.351987e+09</td>\n    </tr>\n    <tr>\n      <th>1108</th>\n      <td>acceptable</td>\n      <td>Oktyabrsk</td>\n      <td>RU</td>\n      <td>54.48147</td>\n      <td>53.47103</td>\n      <td>1.429315e+09</td>\n    </tr>\n    <tr>\n      <th>1109</th>\n      <td>excellent</td>\n      <td>Yakuplu</td>\n      <td>TR</td>\n      <td>40.98894</td>\n      <td>28.67582</td>\n      <td>1.352506e+09</td>\n    </tr>\n  </tbody>\n</table>\n<p>1109 rows × 6 columns</p>\n</div>"
     },
     "execution_count": 228,
     "metadata": {},
     "output_type": "execute_result"
    }
   ],
   "source": [
    "measurements_data.dropna(inplace=True)\n",
    "stations_data.dropna(inplace=True)\n",
    "\n",
    "stations_data[\"QoS\"] = np.where(stations_data[\"QoS\"] == \"accep\", \"acceptable\", stations_data[\"QoS\"])\n",
    "stations_data[\"QoS\"] = np.where(stations_data[\"QoS\"] == \"maitennce\", \"maintenance\", stations_data[\"QoS\"])\n",
    "\n",
    "# stations_data['revision'] = stations_data['revision'].apply(lambda x: pd.Timestamp(x).strftime('%B-%d-%Y'))\n",
    "# stations_data['revision_timestamp'] = stations_data['revision'].apply(lambda x: pd.Timestamp(x).timestamp())\n",
    "stations_data['revision'] = stations_data['revision'].apply(lambda x: pd.Timestamp(x).timestamp())\n",
    "\n",
    "stations_data['latitude'] = stations_data['latitude'].round(5)\n",
    "stations_data['longitude'] = stations_data['longitude'].round(5)\n",
    "\n",
    "stations_data[\"station\"] = np.where(stations_data[\"station\"] == \"T‚Äôaebaek\", \"Taebaek\", stations_data[\"station\"])\n",
    "stations_data[\"station\"] = np.where(stations_data[\"station\"] == \"'Ali Sabieh\", \"Ali Sabieh\", stations_data[\"station\"])\n",
    "stations_data[\"station\"] = np.where(stations_data[\"station\"] == \"Oktyabr‚Äôskiy\", \"Oktyabrsk\", stations_data[\"station\"])\n",
    "stations_data[\"station\"] = np.where(stations_data[\"station\"] == \"Roslavl‚Äô\", \"Roslavl\", stations_data[\"station\"])\n",
    "stations_data[\"station\"] = np.where(stations_data[\"station\"] == \"Dyat‚Äôkovo\", \"Dyatkovo\", stations_data[\"station\"])\n",
    "\n",
    "stations_data"
   ],
   "metadata": {
    "collapsed": false
   }
  },
  {
   "cell_type": "code",
   "execution_count": 229,
   "outputs": [],
   "source": [
    "stations_data = stations_data.groupby(by='station').apply(lambda x: x.loc[x['revision']==x['revision'].max()])"
   ],
   "metadata": {
    "collapsed": false
   }
  },
  {
   "cell_type": "markdown",
   "source": [
    "## Spojenie tabuliek"
   ],
   "metadata": {
    "collapsed": false
   }
  },
  {
   "cell_type": "code",
   "execution_count": 230,
   "outputs": [
    {
     "data": {
      "text/plain": "               QoS   station code  latitude  longitude      revision     PM10  \\\n0      maintenance  Aberdeen   GB  57.14369   -2.09814  1.545523e+09  8.94040   \n1      maintenance  Aberdeen   GB  57.14369   -2.09814  1.545523e+09  9.92679   \n2      maintenance  Aberdeen   GB  57.14369   -2.09814  1.545523e+09  7.70897   \n3      maintenance  Aberdeen   GB  57.14369   -2.09814  1.545523e+09  8.79345   \n4      maintenance  Aberdeen   GB  57.14369   -2.09814  1.545523e+09  8.19808   \n...            ...       ...  ...       ...        ...           ...      ...   \n11349          NaN       NaN  NaN -21.98333   16.91667           NaN  6.41131   \n11350          NaN       NaN  NaN -21.98333   16.91667           NaN  8.18884   \n11351          NaN       NaN  NaN -21.98333   16.91667           NaN  7.12199   \n11352          NaN       NaN  NaN -21.98333   16.91667           NaN  7.28461   \n11353          NaN       NaN  NaN -21.98333   16.91667           NaN  9.11237   \n\n            CO        Pb  C2H3NO5  ...        O3      TEMP      NOx      SO2  \\\n0      8.15390  51.70980  1.07014  ...   7.59161   6.60825  7.42432  8.52814   \n1      7.48092  50.20703  2.64911  ...   7.63081   6.16413  8.41506  8.10514   \n2      7.94669  30.48851  0.46590  ...   9.90479   7.45631  6.88163  8.67120   \n3      7.95665  41.96855  0.91801  ...   7.43302  11.97880  9.63301  8.68320   \n4      7.87163  25.72025  0.59423  ...   5.30181   2.99136  8.13061  9.95595   \n...        ...       ...      ...  ...       ...       ...      ...      ...   \n11349  9.07535  47.70567  0.12499  ...   8.58258   7.08411  8.29453  8.80690   \n11350  7.50654  47.30981  0.55261  ...  10.25785   2.47872  9.02017  6.69832   \n11351  7.28879  35.91866  0.38149  ...   5.69174  24.94675  8.63516  8.07599   \n11352  9.27219  36.39219  0.39654  ...   4.81725  26.58845  9.33447  7.66379   \n11353  7.46869  40.65063  1.24047  ...   8.72940  13.73532  6.74910  9.77423   \n\n            NH3      CH4        PRES     PM2.5  warning     PAHs  \n0      10.37150  8.04118  1113.51031   8.45419      0.0  7.47770  \n1       8.64142  5.75635  1141.89103   8.98874      0.0  5.31318  \n2       7.16353  8.02152  1141.32144   8.99272      0.0  5.60567  \n3       8.31095  8.63908  1051.38525  10.07743      0.0  6.80804  \n4       5.97990  6.37283  1153.65647   9.25494      0.0  7.14369  \n...         ...      ...         ...       ...      ...      ...  \n11349   9.12335  6.29809  1121.92686   7.88076      0.0  4.36186  \n11350   8.54238  7.32523  1117.36876  10.47664      1.0  7.76151  \n11351   5.86493  5.76701  1126.98373   9.05705      1.0  9.44614  \n11352   4.88803  6.04203  1181.85027   7.79083      1.0  7.77353  \n11353   7.12674  6.51482  1090.40332  10.50155      0.0  7.03942  \n\n[11354 rows x 22 columns]",
      "text/html": "<div>\n<style scoped>\n    .dataframe tbody tr th:only-of-type {\n        vertical-align: middle;\n    }\n\n    .dataframe tbody tr th {\n        vertical-align: top;\n    }\n\n    .dataframe thead th {\n        text-align: right;\n    }\n</style>\n<table border=\"1\" class=\"dataframe\">\n  <thead>\n    <tr style=\"text-align: right;\">\n      <th></th>\n      <th>QoS</th>\n      <th>station</th>\n      <th>code</th>\n      <th>latitude</th>\n      <th>longitude</th>\n      <th>revision</th>\n      <th>PM10</th>\n      <th>CO</th>\n      <th>Pb</th>\n      <th>C2H3NO5</th>\n      <th>...</th>\n      <th>O3</th>\n      <th>TEMP</th>\n      <th>NOx</th>\n      <th>SO2</th>\n      <th>NH3</th>\n      <th>CH4</th>\n      <th>PRES</th>\n      <th>PM2.5</th>\n      <th>warning</th>\n      <th>PAHs</th>\n    </tr>\n  </thead>\n  <tbody>\n    <tr>\n      <th>0</th>\n      <td>maintenance</td>\n      <td>Aberdeen</td>\n      <td>GB</td>\n      <td>57.14369</td>\n      <td>-2.09814</td>\n      <td>1.545523e+09</td>\n      <td>8.94040</td>\n      <td>8.15390</td>\n      <td>51.70980</td>\n      <td>1.07014</td>\n      <td>...</td>\n      <td>7.59161</td>\n      <td>6.60825</td>\n      <td>7.42432</td>\n      <td>8.52814</td>\n      <td>10.37150</td>\n      <td>8.04118</td>\n      <td>1113.51031</td>\n      <td>8.45419</td>\n      <td>0.0</td>\n      <td>7.47770</td>\n    </tr>\n    <tr>\n      <th>1</th>\n      <td>maintenance</td>\n      <td>Aberdeen</td>\n      <td>GB</td>\n      <td>57.14369</td>\n      <td>-2.09814</td>\n      <td>1.545523e+09</td>\n      <td>9.92679</td>\n      <td>7.48092</td>\n      <td>50.20703</td>\n      <td>2.64911</td>\n      <td>...</td>\n      <td>7.63081</td>\n      <td>6.16413</td>\n      <td>8.41506</td>\n      <td>8.10514</td>\n      <td>8.64142</td>\n      <td>5.75635</td>\n      <td>1141.89103</td>\n      <td>8.98874</td>\n      <td>0.0</td>\n      <td>5.31318</td>\n    </tr>\n    <tr>\n      <th>2</th>\n      <td>maintenance</td>\n      <td>Aberdeen</td>\n      <td>GB</td>\n      <td>57.14369</td>\n      <td>-2.09814</td>\n      <td>1.545523e+09</td>\n      <td>7.70897</td>\n      <td>7.94669</td>\n      <td>30.48851</td>\n      <td>0.46590</td>\n      <td>...</td>\n      <td>9.90479</td>\n      <td>7.45631</td>\n      <td>6.88163</td>\n      <td>8.67120</td>\n      <td>7.16353</td>\n      <td>8.02152</td>\n      <td>1141.32144</td>\n      <td>8.99272</td>\n      <td>0.0</td>\n      <td>5.60567</td>\n    </tr>\n    <tr>\n      <th>3</th>\n      <td>maintenance</td>\n      <td>Aberdeen</td>\n      <td>GB</td>\n      <td>57.14369</td>\n      <td>-2.09814</td>\n      <td>1.545523e+09</td>\n      <td>8.79345</td>\n      <td>7.95665</td>\n      <td>41.96855</td>\n      <td>0.91801</td>\n      <td>...</td>\n      <td>7.43302</td>\n      <td>11.97880</td>\n      <td>9.63301</td>\n      <td>8.68320</td>\n      <td>8.31095</td>\n      <td>8.63908</td>\n      <td>1051.38525</td>\n      <td>10.07743</td>\n      <td>0.0</td>\n      <td>6.80804</td>\n    </tr>\n    <tr>\n      <th>4</th>\n      <td>maintenance</td>\n      <td>Aberdeen</td>\n      <td>GB</td>\n      <td>57.14369</td>\n      <td>-2.09814</td>\n      <td>1.545523e+09</td>\n      <td>8.19808</td>\n      <td>7.87163</td>\n      <td>25.72025</td>\n      <td>0.59423</td>\n      <td>...</td>\n      <td>5.30181</td>\n      <td>2.99136</td>\n      <td>8.13061</td>\n      <td>9.95595</td>\n      <td>5.97990</td>\n      <td>6.37283</td>\n      <td>1153.65647</td>\n      <td>9.25494</td>\n      <td>0.0</td>\n      <td>7.14369</td>\n    </tr>\n    <tr>\n      <th>...</th>\n      <td>...</td>\n      <td>...</td>\n      <td>...</td>\n      <td>...</td>\n      <td>...</td>\n      <td>...</td>\n      <td>...</td>\n      <td>...</td>\n      <td>...</td>\n      <td>...</td>\n      <td>...</td>\n      <td>...</td>\n      <td>...</td>\n      <td>...</td>\n      <td>...</td>\n      <td>...</td>\n      <td>...</td>\n      <td>...</td>\n      <td>...</td>\n      <td>...</td>\n      <td>...</td>\n    </tr>\n    <tr>\n      <th>11349</th>\n      <td>NaN</td>\n      <td>NaN</td>\n      <td>NaN</td>\n      <td>-21.98333</td>\n      <td>16.91667</td>\n      <td>NaN</td>\n      <td>6.41131</td>\n      <td>9.07535</td>\n      <td>47.70567</td>\n      <td>0.12499</td>\n      <td>...</td>\n      <td>8.58258</td>\n      <td>7.08411</td>\n      <td>8.29453</td>\n      <td>8.80690</td>\n      <td>9.12335</td>\n      <td>6.29809</td>\n      <td>1121.92686</td>\n      <td>7.88076</td>\n      <td>0.0</td>\n      <td>4.36186</td>\n    </tr>\n    <tr>\n      <th>11350</th>\n      <td>NaN</td>\n      <td>NaN</td>\n      <td>NaN</td>\n      <td>-21.98333</td>\n      <td>16.91667</td>\n      <td>NaN</td>\n      <td>8.18884</td>\n      <td>7.50654</td>\n      <td>47.30981</td>\n      <td>0.55261</td>\n      <td>...</td>\n      <td>10.25785</td>\n      <td>2.47872</td>\n      <td>9.02017</td>\n      <td>6.69832</td>\n      <td>8.54238</td>\n      <td>7.32523</td>\n      <td>1117.36876</td>\n      <td>10.47664</td>\n      <td>1.0</td>\n      <td>7.76151</td>\n    </tr>\n    <tr>\n      <th>11351</th>\n      <td>NaN</td>\n      <td>NaN</td>\n      <td>NaN</td>\n      <td>-21.98333</td>\n      <td>16.91667</td>\n      <td>NaN</td>\n      <td>7.12199</td>\n      <td>7.28879</td>\n      <td>35.91866</td>\n      <td>0.38149</td>\n      <td>...</td>\n      <td>5.69174</td>\n      <td>24.94675</td>\n      <td>8.63516</td>\n      <td>8.07599</td>\n      <td>5.86493</td>\n      <td>5.76701</td>\n      <td>1126.98373</td>\n      <td>9.05705</td>\n      <td>1.0</td>\n      <td>9.44614</td>\n    </tr>\n    <tr>\n      <th>11352</th>\n      <td>NaN</td>\n      <td>NaN</td>\n      <td>NaN</td>\n      <td>-21.98333</td>\n      <td>16.91667</td>\n      <td>NaN</td>\n      <td>7.28461</td>\n      <td>9.27219</td>\n      <td>36.39219</td>\n      <td>0.39654</td>\n      <td>...</td>\n      <td>4.81725</td>\n      <td>26.58845</td>\n      <td>9.33447</td>\n      <td>7.66379</td>\n      <td>4.88803</td>\n      <td>6.04203</td>\n      <td>1181.85027</td>\n      <td>7.79083</td>\n      <td>1.0</td>\n      <td>7.77353</td>\n    </tr>\n    <tr>\n      <th>11353</th>\n      <td>NaN</td>\n      <td>NaN</td>\n      <td>NaN</td>\n      <td>-21.98333</td>\n      <td>16.91667</td>\n      <td>NaN</td>\n      <td>9.11237</td>\n      <td>7.46869</td>\n      <td>40.65063</td>\n      <td>1.24047</td>\n      <td>...</td>\n      <td>8.72940</td>\n      <td>13.73532</td>\n      <td>6.74910</td>\n      <td>9.77423</td>\n      <td>7.12674</td>\n      <td>6.51482</td>\n      <td>1090.40332</td>\n      <td>10.50155</td>\n      <td>0.0</td>\n      <td>7.03942</td>\n    </tr>\n  </tbody>\n</table>\n<p>11354 rows × 22 columns</p>\n</div>"
     },
     "execution_count": 230,
     "metadata": {},
     "output_type": "execute_result"
    }
   ],
   "source": [
    "df=pd.merge(stations_data, measurements_data, on=['latitude', 'longitude'], how='outer')\n",
    "\n",
    "df"
   ],
   "metadata": {
    "collapsed": false
   }
  },
  {
   "cell_type": "markdown",
   "source": [
    "### Opis každého atribútu numerickým formátom"
   ],
   "metadata": {
    "collapsed": false
   }
  },
  {
   "cell_type": "code",
   "execution_count": 231,
   "outputs": [],
   "source": [
    "df['QoS_ID'] = -1\n",
    "\n",
    "df.loc[df.QoS == \"excellent\", \"QoS_ID\"] = \"1\"\n",
    "df.loc[df.QoS == \"good\", \"QoS_ID\"] = \"2\"\n",
    "df.loc[df.QoS == \"average\", \"QoS_ID\"] = \"3\"\n",
    "df.loc[df.QoS == \"acceptable\", \"QoS_ID\"] = \"4\"\n",
    "df.loc[df.QoS == \"building\", \"QoS_ID\"] = \"5\"\n",
    "df.loc[df.QoS == \"maintenance\", \"QoS_ID\"] = \"5\"\n",
    "\n",
    "df[['QoS_ID']] = df[['QoS_ID']].apply(pd.to_numeric)"
   ],
   "metadata": {
    "collapsed": false
   }
  },
  {
   "cell_type": "code",
   "execution_count": 232,
   "outputs": [
    {
     "data": {
      "text/plain": "               QoS   station code  latitude  longitude      revision     PM10  \\\n0      maintenance  Aberdeen   GB  57.14369   -2.09814  1.545523e+09  8.94040   \n1      maintenance  Aberdeen   GB  57.14369   -2.09814  1.545523e+09  9.92679   \n2      maintenance  Aberdeen   GB  57.14369   -2.09814  1.545523e+09  7.70897   \n3      maintenance  Aberdeen   GB  57.14369   -2.09814  1.545523e+09  8.79345   \n4      maintenance  Aberdeen   GB  57.14369   -2.09814  1.545523e+09  8.19808   \n...            ...       ...  ...       ...        ...           ...      ...   \n11349          NaN       NaN  NaN -21.98333   16.91667           NaN  6.41131   \n11350          NaN       NaN  NaN -21.98333   16.91667           NaN  8.18884   \n11351          NaN       NaN  NaN -21.98333   16.91667           NaN  7.12199   \n11352          NaN       NaN  NaN -21.98333   16.91667           NaN  7.28461   \n11353          NaN       NaN  NaN -21.98333   16.91667           NaN  9.11237   \n\n            CO        Pb  C2H3NO5  ...      SO2       NH3      CH4  \\\n0      8.15390  51.70980  1.07014  ...  8.52814  10.37150  8.04118   \n1      7.48092  50.20703  2.64911  ...  8.10514   8.64142  5.75635   \n2      7.94669  30.48851  0.46590  ...  8.67120   7.16353  8.02152   \n3      7.95665  41.96855  0.91801  ...  8.68320   8.31095  8.63908   \n4      7.87163  25.72025  0.59423  ...  9.95595   5.97990  6.37283   \n...        ...       ...      ...  ...      ...       ...      ...   \n11349  9.07535  47.70567  0.12499  ...  8.80690   9.12335  6.29809   \n11350  7.50654  47.30981  0.55261  ...  6.69832   8.54238  7.32523   \n11351  7.28879  35.91866  0.38149  ...  8.07599   5.86493  5.76701   \n11352  9.27219  36.39219  0.39654  ...  7.66379   4.88803  6.04203   \n11353  7.46869  40.65063  1.24047  ...  9.77423   7.12674  6.51482   \n\n             PRES     PM2.5  warning     PAHs  QoS_ID  station_ID  code_ID  \n0      1113.51031   8.45419      0.0  7.47770       5         1.0     38.0  \n1      1141.89103   8.98874      0.0  5.31318       5         1.0     38.0  \n2      1141.32144   8.99272      0.0  5.60567       5         1.0     38.0  \n3      1051.38525  10.07743      0.0  6.80804       5         1.0     38.0  \n4      1153.65647   9.25494      0.0  7.14369       5         1.0     38.0  \n...           ...       ...      ...      ...     ...         ...      ...  \n11349  1121.92686   7.88076      0.0  4.36186      -1         NaN      NaN  \n11350  1117.36876  10.47664      1.0  7.76151      -1         NaN      NaN  \n11351  1126.98373   9.05705      1.0  9.44614      -1         NaN      NaN  \n11352  1181.85027   7.79083      1.0  7.77353      -1         NaN      NaN  \n11353  1090.40332  10.50155      0.0  7.03942      -1         NaN      NaN  \n\n[11354 rows x 25 columns]",
      "text/html": "<div>\n<style scoped>\n    .dataframe tbody tr th:only-of-type {\n        vertical-align: middle;\n    }\n\n    .dataframe tbody tr th {\n        vertical-align: top;\n    }\n\n    .dataframe thead th {\n        text-align: right;\n    }\n</style>\n<table border=\"1\" class=\"dataframe\">\n  <thead>\n    <tr style=\"text-align: right;\">\n      <th></th>\n      <th>QoS</th>\n      <th>station</th>\n      <th>code</th>\n      <th>latitude</th>\n      <th>longitude</th>\n      <th>revision</th>\n      <th>PM10</th>\n      <th>CO</th>\n      <th>Pb</th>\n      <th>C2H3NO5</th>\n      <th>...</th>\n      <th>SO2</th>\n      <th>NH3</th>\n      <th>CH4</th>\n      <th>PRES</th>\n      <th>PM2.5</th>\n      <th>warning</th>\n      <th>PAHs</th>\n      <th>QoS_ID</th>\n      <th>station_ID</th>\n      <th>code_ID</th>\n    </tr>\n  </thead>\n  <tbody>\n    <tr>\n      <th>0</th>\n      <td>maintenance</td>\n      <td>Aberdeen</td>\n      <td>GB</td>\n      <td>57.14369</td>\n      <td>-2.09814</td>\n      <td>1.545523e+09</td>\n      <td>8.94040</td>\n      <td>8.15390</td>\n      <td>51.70980</td>\n      <td>1.07014</td>\n      <td>...</td>\n      <td>8.52814</td>\n      <td>10.37150</td>\n      <td>8.04118</td>\n      <td>1113.51031</td>\n      <td>8.45419</td>\n      <td>0.0</td>\n      <td>7.47770</td>\n      <td>5</td>\n      <td>1.0</td>\n      <td>38.0</td>\n    </tr>\n    <tr>\n      <th>1</th>\n      <td>maintenance</td>\n      <td>Aberdeen</td>\n      <td>GB</td>\n      <td>57.14369</td>\n      <td>-2.09814</td>\n      <td>1.545523e+09</td>\n      <td>9.92679</td>\n      <td>7.48092</td>\n      <td>50.20703</td>\n      <td>2.64911</td>\n      <td>...</td>\n      <td>8.10514</td>\n      <td>8.64142</td>\n      <td>5.75635</td>\n      <td>1141.89103</td>\n      <td>8.98874</td>\n      <td>0.0</td>\n      <td>5.31318</td>\n      <td>5</td>\n      <td>1.0</td>\n      <td>38.0</td>\n    </tr>\n    <tr>\n      <th>2</th>\n      <td>maintenance</td>\n      <td>Aberdeen</td>\n      <td>GB</td>\n      <td>57.14369</td>\n      <td>-2.09814</td>\n      <td>1.545523e+09</td>\n      <td>7.70897</td>\n      <td>7.94669</td>\n      <td>30.48851</td>\n      <td>0.46590</td>\n      <td>...</td>\n      <td>8.67120</td>\n      <td>7.16353</td>\n      <td>8.02152</td>\n      <td>1141.32144</td>\n      <td>8.99272</td>\n      <td>0.0</td>\n      <td>5.60567</td>\n      <td>5</td>\n      <td>1.0</td>\n      <td>38.0</td>\n    </tr>\n    <tr>\n      <th>3</th>\n      <td>maintenance</td>\n      <td>Aberdeen</td>\n      <td>GB</td>\n      <td>57.14369</td>\n      <td>-2.09814</td>\n      <td>1.545523e+09</td>\n      <td>8.79345</td>\n      <td>7.95665</td>\n      <td>41.96855</td>\n      <td>0.91801</td>\n      <td>...</td>\n      <td>8.68320</td>\n      <td>8.31095</td>\n      <td>8.63908</td>\n      <td>1051.38525</td>\n      <td>10.07743</td>\n      <td>0.0</td>\n      <td>6.80804</td>\n      <td>5</td>\n      <td>1.0</td>\n      <td>38.0</td>\n    </tr>\n    <tr>\n      <th>4</th>\n      <td>maintenance</td>\n      <td>Aberdeen</td>\n      <td>GB</td>\n      <td>57.14369</td>\n      <td>-2.09814</td>\n      <td>1.545523e+09</td>\n      <td>8.19808</td>\n      <td>7.87163</td>\n      <td>25.72025</td>\n      <td>0.59423</td>\n      <td>...</td>\n      <td>9.95595</td>\n      <td>5.97990</td>\n      <td>6.37283</td>\n      <td>1153.65647</td>\n      <td>9.25494</td>\n      <td>0.0</td>\n      <td>7.14369</td>\n      <td>5</td>\n      <td>1.0</td>\n      <td>38.0</td>\n    </tr>\n    <tr>\n      <th>...</th>\n      <td>...</td>\n      <td>...</td>\n      <td>...</td>\n      <td>...</td>\n      <td>...</td>\n      <td>...</td>\n      <td>...</td>\n      <td>...</td>\n      <td>...</td>\n      <td>...</td>\n      <td>...</td>\n      <td>...</td>\n      <td>...</td>\n      <td>...</td>\n      <td>...</td>\n      <td>...</td>\n      <td>...</td>\n      <td>...</td>\n      <td>...</td>\n      <td>...</td>\n      <td>...</td>\n    </tr>\n    <tr>\n      <th>11349</th>\n      <td>NaN</td>\n      <td>NaN</td>\n      <td>NaN</td>\n      <td>-21.98333</td>\n      <td>16.91667</td>\n      <td>NaN</td>\n      <td>6.41131</td>\n      <td>9.07535</td>\n      <td>47.70567</td>\n      <td>0.12499</td>\n      <td>...</td>\n      <td>8.80690</td>\n      <td>9.12335</td>\n      <td>6.29809</td>\n      <td>1121.92686</td>\n      <td>7.88076</td>\n      <td>0.0</td>\n      <td>4.36186</td>\n      <td>-1</td>\n      <td>NaN</td>\n      <td>NaN</td>\n    </tr>\n    <tr>\n      <th>11350</th>\n      <td>NaN</td>\n      <td>NaN</td>\n      <td>NaN</td>\n      <td>-21.98333</td>\n      <td>16.91667</td>\n      <td>NaN</td>\n      <td>8.18884</td>\n      <td>7.50654</td>\n      <td>47.30981</td>\n      <td>0.55261</td>\n      <td>...</td>\n      <td>6.69832</td>\n      <td>8.54238</td>\n      <td>7.32523</td>\n      <td>1117.36876</td>\n      <td>10.47664</td>\n      <td>1.0</td>\n      <td>7.76151</td>\n      <td>-1</td>\n      <td>NaN</td>\n      <td>NaN</td>\n    </tr>\n    <tr>\n      <th>11351</th>\n      <td>NaN</td>\n      <td>NaN</td>\n      <td>NaN</td>\n      <td>-21.98333</td>\n      <td>16.91667</td>\n      <td>NaN</td>\n      <td>7.12199</td>\n      <td>7.28879</td>\n      <td>35.91866</td>\n      <td>0.38149</td>\n      <td>...</td>\n      <td>8.07599</td>\n      <td>5.86493</td>\n      <td>5.76701</td>\n      <td>1126.98373</td>\n      <td>9.05705</td>\n      <td>1.0</td>\n      <td>9.44614</td>\n      <td>-1</td>\n      <td>NaN</td>\n      <td>NaN</td>\n    </tr>\n    <tr>\n      <th>11352</th>\n      <td>NaN</td>\n      <td>NaN</td>\n      <td>NaN</td>\n      <td>-21.98333</td>\n      <td>16.91667</td>\n      <td>NaN</td>\n      <td>7.28461</td>\n      <td>9.27219</td>\n      <td>36.39219</td>\n      <td>0.39654</td>\n      <td>...</td>\n      <td>7.66379</td>\n      <td>4.88803</td>\n      <td>6.04203</td>\n      <td>1181.85027</td>\n      <td>7.79083</td>\n      <td>1.0</td>\n      <td>7.77353</td>\n      <td>-1</td>\n      <td>NaN</td>\n      <td>NaN</td>\n    </tr>\n    <tr>\n      <th>11353</th>\n      <td>NaN</td>\n      <td>NaN</td>\n      <td>NaN</td>\n      <td>-21.98333</td>\n      <td>16.91667</td>\n      <td>NaN</td>\n      <td>9.11237</td>\n      <td>7.46869</td>\n      <td>40.65063</td>\n      <td>1.24047</td>\n      <td>...</td>\n      <td>9.77423</td>\n      <td>7.12674</td>\n      <td>6.51482</td>\n      <td>1090.40332</td>\n      <td>10.50155</td>\n      <td>0.0</td>\n      <td>7.03942</td>\n      <td>-1</td>\n      <td>NaN</td>\n      <td>NaN</td>\n    </tr>\n  </tbody>\n</table>\n<p>11354 rows × 25 columns</p>\n</div>"
     },
     "execution_count": 232,
     "metadata": {},
     "output_type": "execute_result"
    }
   ],
   "source": [
    "df['station_ID'] = df['station'].rank(method='dense')\n",
    "df['code_ID'] = df['code'].rank(method='dense')\n",
    "\n",
    "df"
   ],
   "metadata": {
    "collapsed": false
   }
  },
  {
   "cell_type": "markdown",
   "source": [
    "### Uloženie upravenej dátovej sady do .csv súboru"
   ],
   "metadata": {
    "collapsed": false
   }
  },
  {
   "cell_type": "code",
   "execution_count": 233,
   "outputs": [],
   "source": [
    "df[['station_ID', 'code_ID', 'QoS_ID', 'warning', 'latitude', 'longitude', 'revision','PAHs', 'PM10', 'CO', 'Pb', 'C2H3NO5', 'CFCs', 'H2CO', 'O3', 'TEMP', 'NOx', 'SO2', 'NH3', 'CH4', 'PRES', 'PM2.5']].to_csv('output.csv', index=False)"
   ],
   "metadata": {
    "collapsed": false
   }
  },
  {
   "cell_type": "code",
   "execution_count": 233,
   "outputs": [],
   "source": [],
   "metadata": {
    "collapsed": false
   }
  }
 ],
 "metadata": {
  "kernelspec": {
   "display_name": "Python 3",
   "language": "python",
   "name": "python3"
  },
  "language_info": {
   "codemirror_mode": {
    "name": "ipython",
    "version": 2
   },
   "file_extension": ".py",
   "mimetype": "text/x-python",
   "name": "python",
   "nbconvert_exporter": "python",
   "pygments_lexer": "ipython2",
   "version": "2.7.6"
  }
 },
 "nbformat": 4,
 "nbformat_minor": 0
}
