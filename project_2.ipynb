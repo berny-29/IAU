{
 "cells": [
  {
   "cell_type": "markdown",
   "source": [
    "# Fáza 2 - Predspracovanie údajov\n",
    "\n",
    "__Autori:__ Dávid Penťa, Samuel Bernát\n",
    "__Percentuálny podiel práce:__ 50% / 50%\n",
    "\n",
    "V tejto fáze sa od Vás očakáva že realizujte predspracovanie údajov pre strojové učenie. Výsledkom bude upravená dátová sada (csv alebo tsv), kde jedno pozorovanie je opísané jedným riadkom.\n",
    "- scikit-learn vie len numerické dáta, takže treba niečo spraviť s nenumerickými dátami.\n",
    "- Replikovateľnosť predspracovania na trénovacej a testovacej množine dát, aby ste mohli\n",
    "zopakovať predspracovanie viackrát podľa Vašej potreby (iteratívne).\n",
    "\n",
    "Keď sa predspracovaním mohol zmeniť tvar a charakteristiky dát, je možné že treba realizovať EDA opakovane podľa Vašej potreby. Bodovanie znovu (EDA) nebudeme, zmeny ale dokumentujte. Problém s dátami môžete riešiť iteratívne v každej fáze aj vo všetkých fázach podľa potreby."
   ],
   "metadata": {
    "collapsed": false
   }
  },
  {
   "cell_type": "code",
   "execution_count": 128,
   "outputs": [],
   "source": [
    "import statsmodels.api as sm\n",
    "import dateparser as dateparser\n",
    "import matplotlib\n",
    "import matplotlib.pylab as pylab\n",
    "import matplotlib.pyplot as plt\n",
    "import seaborn as sns\n",
    "import pandas as pd\n",
    "import numpy as np\n",
    "import scipy.stats as stats\n",
    "import pylab as py\n",
    "import statsmodels.stats.api as sms\n",
    "from scipy.stats import skew\n",
    "from scipy.stats import kurtosis\n",
    "from scipy.stats import pearsonr"
   ],
   "metadata": {
    "collapsed": false
   }
  },
  {
   "cell_type": "code",
   "execution_count": 129,
   "outputs": [],
   "source": [
    "measurements_file = \"data/measurements.csv\"\n",
    "measurements_data = pd.read_csv(measurements_file, sep='\\t')\n",
    "\n",
    "stations_file = \"data/stations.csv\"\n",
    "stations_data = pd.read_csv(stations_file, sep='\\t')"
   ],
   "metadata": {
    "collapsed": false
   }
  },
  {
   "cell_type": "markdown",
   "source": [
    "## Integrácia a čistenie dát\n",
    "Transformujte dáta na vhodný formát pre strojové učenie t.j. jedno pozorovanie musí byť opísané jedným riadkom a každý atribút musí byť v numerickom formáte.\n",
    "- Pri riešení chýbajúcich hodnôt (missing values) vyskúšajte rôzne stratégie ako napr.\n",
    "    - odstránenie pozorovaní s chýbajúcimi údajmi\n",
    "    - nahradenie chýbajúcej hodnoty mediánom, priemerom, pomerom (ku korelovanému atribútu), alebo pomocou lineárnej regresie resp. kNN\n",
    "- Podobne postupujte aj pri riešení vychýlených hodnôt (outlier detection):\n",
    "    - odstránenie vychýlených (odľahlých) pozorovaní\n",
    "    - nahradenie vychýlenej hodnoty hraničnými hodnotami rozdelenia (5% resp. 95%)"
   ],
   "metadata": {
    "collapsed": false
   }
  },
  {
   "cell_type": "code",
   "execution_count": 130,
   "outputs": [
    {
     "data": {
      "text/plain": "              QoS                 station code  latitude  longitude  \\\n0            good             Casa Blanca   MX  19.04222  -98.11889   \n1        building             Mikhaylovka   RU  50.06000   43.23790   \n2        building  Shahre Jadide Andisheh   IR  35.68030   51.01930   \n3        building                 Aracaju   BR -10.91111  -37.07167   \n4     maintenance                  Parola   IN  20.88098   75.11937   \n...           ...                     ...  ...       ...        ...   \n1105     building                  Tadmur   SY  34.56240   38.28402   \n1106      average                  Jizzax   UZ  40.11583   67.84222   \n1107   acceptable            West Chester   US  39.96097  -75.60804   \n1108   acceptable               Oktyabrsk   RU  54.48147   53.47103   \n1109    excellent                 Yakuplu   TR  40.98894   28.67582   \n\n          revision  \n0     1.574813e+09  \n1     1.501027e+09  \n2     1.370045e+09  \n3     1.356739e+09  \n4     1.562285e+09  \n...            ...  \n1105  1.373414e+09  \n1106  1.369872e+09  \n1107  1.351987e+09  \n1108  1.429315e+09  \n1109  1.352506e+09  \n\n[1109 rows x 6 columns]",
      "text/html": "<div>\n<style scoped>\n    .dataframe tbody tr th:only-of-type {\n        vertical-align: middle;\n    }\n\n    .dataframe tbody tr th {\n        vertical-align: top;\n    }\n\n    .dataframe thead th {\n        text-align: right;\n    }\n</style>\n<table border=\"1\" class=\"dataframe\">\n  <thead>\n    <tr style=\"text-align: right;\">\n      <th></th>\n      <th>QoS</th>\n      <th>station</th>\n      <th>code</th>\n      <th>latitude</th>\n      <th>longitude</th>\n      <th>revision</th>\n    </tr>\n  </thead>\n  <tbody>\n    <tr>\n      <th>0</th>\n      <td>good</td>\n      <td>Casa Blanca</td>\n      <td>MX</td>\n      <td>19.04222</td>\n      <td>-98.11889</td>\n      <td>1.574813e+09</td>\n    </tr>\n    <tr>\n      <th>1</th>\n      <td>building</td>\n      <td>Mikhaylovka</td>\n      <td>RU</td>\n      <td>50.06000</td>\n      <td>43.23790</td>\n      <td>1.501027e+09</td>\n    </tr>\n    <tr>\n      <th>2</th>\n      <td>building</td>\n      <td>Shahre Jadide Andisheh</td>\n      <td>IR</td>\n      <td>35.68030</td>\n      <td>51.01930</td>\n      <td>1.370045e+09</td>\n    </tr>\n    <tr>\n      <th>3</th>\n      <td>building</td>\n      <td>Aracaju</td>\n      <td>BR</td>\n      <td>-10.91111</td>\n      <td>-37.07167</td>\n      <td>1.356739e+09</td>\n    </tr>\n    <tr>\n      <th>4</th>\n      <td>maintenance</td>\n      <td>Parola</td>\n      <td>IN</td>\n      <td>20.88098</td>\n      <td>75.11937</td>\n      <td>1.562285e+09</td>\n    </tr>\n    <tr>\n      <th>...</th>\n      <td>...</td>\n      <td>...</td>\n      <td>...</td>\n      <td>...</td>\n      <td>...</td>\n      <td>...</td>\n    </tr>\n    <tr>\n      <th>1105</th>\n      <td>building</td>\n      <td>Tadmur</td>\n      <td>SY</td>\n      <td>34.56240</td>\n      <td>38.28402</td>\n      <td>1.373414e+09</td>\n    </tr>\n    <tr>\n      <th>1106</th>\n      <td>average</td>\n      <td>Jizzax</td>\n      <td>UZ</td>\n      <td>40.11583</td>\n      <td>67.84222</td>\n      <td>1.369872e+09</td>\n    </tr>\n    <tr>\n      <th>1107</th>\n      <td>acceptable</td>\n      <td>West Chester</td>\n      <td>US</td>\n      <td>39.96097</td>\n      <td>-75.60804</td>\n      <td>1.351987e+09</td>\n    </tr>\n    <tr>\n      <th>1108</th>\n      <td>acceptable</td>\n      <td>Oktyabrsk</td>\n      <td>RU</td>\n      <td>54.48147</td>\n      <td>53.47103</td>\n      <td>1.429315e+09</td>\n    </tr>\n    <tr>\n      <th>1109</th>\n      <td>excellent</td>\n      <td>Yakuplu</td>\n      <td>TR</td>\n      <td>40.98894</td>\n      <td>28.67582</td>\n      <td>1.352506e+09</td>\n    </tr>\n  </tbody>\n</table>\n<p>1109 rows × 6 columns</p>\n</div>"
     },
     "execution_count": 130,
     "metadata": {},
     "output_type": "execute_result"
    }
   ],
   "source": [
    "measurements_data.dropna(inplace=True)\n",
    "stations_data.dropna(inplace=True)\n",
    "\n",
    "stations_data[\"QoS\"] = np.where(stations_data[\"QoS\"] == \"accep\", \"acceptable\", stations_data[\"QoS\"])\n",
    "stations_data[\"QoS\"] = np.where(stations_data[\"QoS\"] == \"maitennce\", \"maintenance\", stations_data[\"QoS\"])\n",
    "\n",
    "# stations_data['revision'] = stations_data['revision'].apply(lambda x: pd.Timestamp(x).strftime('%B-%d-%Y'))\n",
    "# stations_data['revision_timestamp'] = stations_data['revision'].apply(lambda x: pd.Timestamp(x).timestamp())\n",
    "stations_data['revision'] = stations_data['revision'].apply(lambda x: pd.Timestamp(x).timestamp())\n",
    "\n",
    "stations_data['latitude'] = stations_data['latitude'].round(5)\n",
    "stations_data['longitude'] = stations_data['longitude'].round(5)\n",
    "\n",
    "stations_data[\"station\"] = np.where(stations_data[\"station\"] == \"T‚Äôaebaek\", \"Taebaek\", stations_data[\"station\"])\n",
    "stations_data[\"station\"] = np.where(stations_data[\"station\"] == \"'Ali Sabieh\", \"Ali Sabieh\", stations_data[\"station\"])\n",
    "stations_data[\"station\"] = np.where(stations_data[\"station\"] == \"Oktyabr‚Äôskiy\", \"Oktyabrsk\", stations_data[\"station\"])\n",
    "stations_data[\"station\"] = np.where(stations_data[\"station\"] == \"Roslavl‚Äô\", \"Roslavl\", stations_data[\"station\"])\n",
    "stations_data[\"station\"] = np.where(stations_data[\"station\"] == \"Dyat‚Äôkovo\", \"Dyatkovo\", stations_data[\"station\"])\n",
    "\n",
    "stations_data"
   ],
   "metadata": {
    "collapsed": false
   }
  },
  {
   "cell_type": "code",
   "execution_count": 131,
   "outputs": [],
   "source": [
    "stations_data = stations_data.groupby(by='station').apply(lambda x: x.loc[x['revision']==x['revision'].max()])"
   ],
   "metadata": {
    "collapsed": false
   }
  },
  {
   "cell_type": "code",
   "execution_count": 132,
   "outputs": [
    {
     "data": {
      "text/plain": "               QoS       station code  latitude  longitude      revision  \\\n0      maintenance       Roslavl   RU  53.95278   32.86389  1.505174e+09   \n1       acceptable        Lesnoy   RU  58.63667   59.80222  1.444694e+09   \n2      maintenance  Robertsonpet   IN  12.95629   78.27539  1.382573e+09   \n3             good        Dublin   US  32.54044  -82.90375  1.620864e+09   \n4       acceptable     Riverbank   US  37.73604 -120.93549  1.614211e+09   \n...            ...           ...  ...       ...        ...           ...   \n11349    excellent        Recife   BR  -8.05389  -34.88111  1.654733e+09   \n11350   acceptable    Gorgonzola   IT  45.53069    9.40531  1.548202e+09   \n11351      average      Glendale   US  34.14251 -118.25508  1.511827e+09   \n11352      average         Azrou   MA  33.43443   -5.22126  1.420157e+09   \n11353  maintenance       Aksaray   TR  38.37255   34.02537  1.628381e+09   \n\n           PM10       CO        Pb  C2H3NO5  ...        O3      TEMP      NOx  \\\n0       6.33846  6.61796  44.89247  0.22646  ...   6.93304  18.26344  7.24953   \n1       6.78253  7.32578  50.42226  0.27588  ...   6.41183  13.61953  8.25103   \n2       5.71508  9.26158  26.86094  0.18788  ...   7.94233  16.76223  4.10062   \n3       9.16375  7.12481  48.82457  1.32986  ...  11.63958  12.48813  6.26932   \n4       7.04390  7.96828  56.56011  0.31311  ...  10.42120  12.74538  8.75889   \n...         ...      ...       ...      ...  ...       ...       ...      ...   \n11349   9.56528  8.54654  40.70338  1.89160  ...   7.55099  25.45745  7.64682   \n11350   9.19695  7.92486  59.23293  1.40122  ...  10.79559  13.34113  6.78988   \n11351  10.27894  6.99879  48.01565  3.83467  ...   9.42860   5.17211  8.98672   \n11352   8.21318  7.03138  50.31096  0.54791  ...   9.37725   0.68008  7.38683   \n11353   7.28314  8.72130  46.04753  0.34239  ...   3.26112  11.87352  9.22928   \n\n           SO2      NH3      CH4        PRES     PM2.5  warning      PAHs  \n0      8.60015  5.35805  6.00130  1136.95323  10.59506      1.0   9.24391  \n1      8.93315  5.16975  5.07507  1148.76311  10.04912      1.0   8.73640  \n2      4.44370  5.76106  7.01203  1089.36057  10.53430      1.0   8.67231  \n3      7.81736  5.96896  8.44913  1099.39295   9.40919      0.0   4.80834  \n4      7.43447  8.58263  6.89506  1050.67737   7.20484      0.0   6.00215  \n...        ...      ...      ...         ...       ...      ...       ...  \n11349  8.18163  5.81816  8.36536  1107.16252   9.30018      0.0   3.88821  \n11350  8.45646  9.75596  6.93416  1149.48262   9.42584      1.0   9.22787  \n11351  7.14161  8.29618  4.34404  1106.63191  11.02506      1.0  11.22798  \n11352  7.91926  9.26976  6.81885  1095.25573   8.53529      1.0   8.19965  \n11353  7.88581  5.46613  3.85166  1162.41600   7.55910      1.0   9.92562  \n\n[11354 rows x 22 columns]",
      "text/html": "<div>\n<style scoped>\n    .dataframe tbody tr th:only-of-type {\n        vertical-align: middle;\n    }\n\n    .dataframe tbody tr th {\n        vertical-align: top;\n    }\n\n    .dataframe thead th {\n        text-align: right;\n    }\n</style>\n<table border=\"1\" class=\"dataframe\">\n  <thead>\n    <tr style=\"text-align: right;\">\n      <th></th>\n      <th>QoS</th>\n      <th>station</th>\n      <th>code</th>\n      <th>latitude</th>\n      <th>longitude</th>\n      <th>revision</th>\n      <th>PM10</th>\n      <th>CO</th>\n      <th>Pb</th>\n      <th>C2H3NO5</th>\n      <th>...</th>\n      <th>O3</th>\n      <th>TEMP</th>\n      <th>NOx</th>\n      <th>SO2</th>\n      <th>NH3</th>\n      <th>CH4</th>\n      <th>PRES</th>\n      <th>PM2.5</th>\n      <th>warning</th>\n      <th>PAHs</th>\n    </tr>\n  </thead>\n  <tbody>\n    <tr>\n      <th>0</th>\n      <td>maintenance</td>\n      <td>Roslavl</td>\n      <td>RU</td>\n      <td>53.95278</td>\n      <td>32.86389</td>\n      <td>1.505174e+09</td>\n      <td>6.33846</td>\n      <td>6.61796</td>\n      <td>44.89247</td>\n      <td>0.22646</td>\n      <td>...</td>\n      <td>6.93304</td>\n      <td>18.26344</td>\n      <td>7.24953</td>\n      <td>8.60015</td>\n      <td>5.35805</td>\n      <td>6.00130</td>\n      <td>1136.95323</td>\n      <td>10.59506</td>\n      <td>1.0</td>\n      <td>9.24391</td>\n    </tr>\n    <tr>\n      <th>1</th>\n      <td>acceptable</td>\n      <td>Lesnoy</td>\n      <td>RU</td>\n      <td>58.63667</td>\n      <td>59.80222</td>\n      <td>1.444694e+09</td>\n      <td>6.78253</td>\n      <td>7.32578</td>\n      <td>50.42226</td>\n      <td>0.27588</td>\n      <td>...</td>\n      <td>6.41183</td>\n      <td>13.61953</td>\n      <td>8.25103</td>\n      <td>8.93315</td>\n      <td>5.16975</td>\n      <td>5.07507</td>\n      <td>1148.76311</td>\n      <td>10.04912</td>\n      <td>1.0</td>\n      <td>8.73640</td>\n    </tr>\n    <tr>\n      <th>2</th>\n      <td>maintenance</td>\n      <td>Robertsonpet</td>\n      <td>IN</td>\n      <td>12.95629</td>\n      <td>78.27539</td>\n      <td>1.382573e+09</td>\n      <td>5.71508</td>\n      <td>9.26158</td>\n      <td>26.86094</td>\n      <td>0.18788</td>\n      <td>...</td>\n      <td>7.94233</td>\n      <td>16.76223</td>\n      <td>4.10062</td>\n      <td>4.44370</td>\n      <td>5.76106</td>\n      <td>7.01203</td>\n      <td>1089.36057</td>\n      <td>10.53430</td>\n      <td>1.0</td>\n      <td>8.67231</td>\n    </tr>\n    <tr>\n      <th>3</th>\n      <td>good</td>\n      <td>Dublin</td>\n      <td>US</td>\n      <td>32.54044</td>\n      <td>-82.90375</td>\n      <td>1.620864e+09</td>\n      <td>9.16375</td>\n      <td>7.12481</td>\n      <td>48.82457</td>\n      <td>1.32986</td>\n      <td>...</td>\n      <td>11.63958</td>\n      <td>12.48813</td>\n      <td>6.26932</td>\n      <td>7.81736</td>\n      <td>5.96896</td>\n      <td>8.44913</td>\n      <td>1099.39295</td>\n      <td>9.40919</td>\n      <td>0.0</td>\n      <td>4.80834</td>\n    </tr>\n    <tr>\n      <th>4</th>\n      <td>acceptable</td>\n      <td>Riverbank</td>\n      <td>US</td>\n      <td>37.73604</td>\n      <td>-120.93549</td>\n      <td>1.614211e+09</td>\n      <td>7.04390</td>\n      <td>7.96828</td>\n      <td>56.56011</td>\n      <td>0.31311</td>\n      <td>...</td>\n      <td>10.42120</td>\n      <td>12.74538</td>\n      <td>8.75889</td>\n      <td>7.43447</td>\n      <td>8.58263</td>\n      <td>6.89506</td>\n      <td>1050.67737</td>\n      <td>7.20484</td>\n      <td>0.0</td>\n      <td>6.00215</td>\n    </tr>\n    <tr>\n      <th>...</th>\n      <td>...</td>\n      <td>...</td>\n      <td>...</td>\n      <td>...</td>\n      <td>...</td>\n      <td>...</td>\n      <td>...</td>\n      <td>...</td>\n      <td>...</td>\n      <td>...</td>\n      <td>...</td>\n      <td>...</td>\n      <td>...</td>\n      <td>...</td>\n      <td>...</td>\n      <td>...</td>\n      <td>...</td>\n      <td>...</td>\n      <td>...</td>\n      <td>...</td>\n      <td>...</td>\n    </tr>\n    <tr>\n      <th>11349</th>\n      <td>excellent</td>\n      <td>Recife</td>\n      <td>BR</td>\n      <td>-8.05389</td>\n      <td>-34.88111</td>\n      <td>1.654733e+09</td>\n      <td>9.56528</td>\n      <td>8.54654</td>\n      <td>40.70338</td>\n      <td>1.89160</td>\n      <td>...</td>\n      <td>7.55099</td>\n      <td>25.45745</td>\n      <td>7.64682</td>\n      <td>8.18163</td>\n      <td>5.81816</td>\n      <td>8.36536</td>\n      <td>1107.16252</td>\n      <td>9.30018</td>\n      <td>0.0</td>\n      <td>3.88821</td>\n    </tr>\n    <tr>\n      <th>11350</th>\n      <td>acceptable</td>\n      <td>Gorgonzola</td>\n      <td>IT</td>\n      <td>45.53069</td>\n      <td>9.40531</td>\n      <td>1.548202e+09</td>\n      <td>9.19695</td>\n      <td>7.92486</td>\n      <td>59.23293</td>\n      <td>1.40122</td>\n      <td>...</td>\n      <td>10.79559</td>\n      <td>13.34113</td>\n      <td>6.78988</td>\n      <td>8.45646</td>\n      <td>9.75596</td>\n      <td>6.93416</td>\n      <td>1149.48262</td>\n      <td>9.42584</td>\n      <td>1.0</td>\n      <td>9.22787</td>\n    </tr>\n    <tr>\n      <th>11351</th>\n      <td>average</td>\n      <td>Glendale</td>\n      <td>US</td>\n      <td>34.14251</td>\n      <td>-118.25508</td>\n      <td>1.511827e+09</td>\n      <td>10.27894</td>\n      <td>6.99879</td>\n      <td>48.01565</td>\n      <td>3.83467</td>\n      <td>...</td>\n      <td>9.42860</td>\n      <td>5.17211</td>\n      <td>8.98672</td>\n      <td>7.14161</td>\n      <td>8.29618</td>\n      <td>4.34404</td>\n      <td>1106.63191</td>\n      <td>11.02506</td>\n      <td>1.0</td>\n      <td>11.22798</td>\n    </tr>\n    <tr>\n      <th>11352</th>\n      <td>average</td>\n      <td>Azrou</td>\n      <td>MA</td>\n      <td>33.43443</td>\n      <td>-5.22126</td>\n      <td>1.420157e+09</td>\n      <td>8.21318</td>\n      <td>7.03138</td>\n      <td>50.31096</td>\n      <td>0.54791</td>\n      <td>...</td>\n      <td>9.37725</td>\n      <td>0.68008</td>\n      <td>7.38683</td>\n      <td>7.91926</td>\n      <td>9.26976</td>\n      <td>6.81885</td>\n      <td>1095.25573</td>\n      <td>8.53529</td>\n      <td>1.0</td>\n      <td>8.19965</td>\n    </tr>\n    <tr>\n      <th>11353</th>\n      <td>maintenance</td>\n      <td>Aksaray</td>\n      <td>TR</td>\n      <td>38.37255</td>\n      <td>34.02537</td>\n      <td>1.628381e+09</td>\n      <td>7.28314</td>\n      <td>8.72130</td>\n      <td>46.04753</td>\n      <td>0.34239</td>\n      <td>...</td>\n      <td>3.26112</td>\n      <td>11.87352</td>\n      <td>9.22928</td>\n      <td>7.88581</td>\n      <td>5.46613</td>\n      <td>3.85166</td>\n      <td>1162.41600</td>\n      <td>7.55910</td>\n      <td>1.0</td>\n      <td>9.92562</td>\n    </tr>\n  </tbody>\n</table>\n<p>11354 rows × 22 columns</p>\n</div>"
     },
     "execution_count": 132,
     "metadata": {},
     "output_type": "execute_result"
    }
   ],
   "source": [
    "df=pd.merge(stations_data, measurements_data, on=['latitude', 'longitude'], how='right')\n",
    "\n",
    "df"
   ],
   "metadata": {
    "collapsed": false
   }
  },
  {
   "cell_type": "code",
   "execution_count": 133,
   "outputs": [],
   "source": [
    "# df.drop(['revision_timestamp'], axis=1)"
   ],
   "metadata": {
    "collapsed": false
   }
  },
  {
   "cell_type": "code",
   "execution_count": 134,
   "outputs": [],
   "source": [
    "df['QoS_num'] = -1\n",
    "\n",
    "df.loc[df.QoS == \"excellent\", \"QoS_num\"] = \"1\"\n",
    "df.loc[df.QoS == \"good\", \"QoS_num\"] = \"2\"\n",
    "df.loc[df.QoS == \"average\", \"QoS_num\"] = \"3\"\n",
    "df.loc[df.QoS == \"acceptable\", \"QoS_num\"] = \"4\"\n",
    "df.loc[df.QoS == \"building\", \"QoS_num\"] = \"5\"\n",
    "df.loc[df.QoS == \"maintenance\", \"QoS_num\"] = \"5\"\n",
    "\n",
    "df[['QoS_ID']] = df[['QoS_num']].apply(pd.to_numeric)"
   ],
   "metadata": {
    "collapsed": false
   }
  },
  {
   "cell_type": "markdown",
   "source": [],
   "metadata": {
    "collapsed": false
   }
  },
  {
   "cell_type": "code",
   "execution_count": 138,
   "outputs": [],
   "source": [
    "df['station_ID'] = df['station'].rank(method='dense')\n",
    "df['code_ID'] = df['code'].rank(method='dense')"
   ],
   "metadata": {
    "collapsed": false
   }
  },
  {
   "cell_type": "code",
   "execution_count": 139,
   "outputs": [
    {
     "data": {
      "text/plain": "               QoS       station code  latitude  longitude      revision  \\\n0      maintenance       Roslavl   RU  53.95278   32.86389  1.505174e+09   \n1       acceptable        Lesnoy   RU  58.63667   59.80222  1.444694e+09   \n2      maintenance  Robertsonpet   IN  12.95629   78.27539  1.382573e+09   \n3             good        Dublin   US  32.54044  -82.90375  1.620864e+09   \n4       acceptable     Riverbank   US  37.73604 -120.93549  1.614211e+09   \n...            ...           ...  ...       ...        ...           ...   \n11349    excellent        Recife   BR  -8.05389  -34.88111  1.654733e+09   \n11350   acceptable    Gorgonzola   IT  45.53069    9.40531  1.548202e+09   \n11351      average      Glendale   US  34.14251 -118.25508  1.511827e+09   \n11352      average         Azrou   MA  33.43443   -5.22126  1.420157e+09   \n11353  maintenance       Aksaray   TR  38.37255   34.02537  1.628381e+09   \n\n           PM10       CO        Pb  C2H3NO5  ...      NH3      CH4  \\\n0       6.33846  6.61796  44.89247  0.22646  ...  5.35805  6.00130   \n1       6.78253  7.32578  50.42226  0.27588  ...  5.16975  5.07507   \n2       5.71508  9.26158  26.86094  0.18788  ...  5.76106  7.01203   \n3       9.16375  7.12481  48.82457  1.32986  ...  5.96896  8.44913   \n4       7.04390  7.96828  56.56011  0.31311  ...  8.58263  6.89506   \n...         ...      ...       ...      ...  ...      ...      ...   \n11349   9.56528  8.54654  40.70338  1.89160  ...  5.81816  8.36536   \n11350   9.19695  7.92486  59.23293  1.40122  ...  9.75596  6.93416   \n11351  10.27894  6.99879  48.01565  3.83467  ...  8.29618  4.34404   \n11352   8.21318  7.03138  50.31096  0.54791  ...  9.26976  6.81885   \n11353   7.28314  8.72130  46.04753  0.34239  ...  5.46613  3.85166   \n\n             PRES     PM2.5  warning      PAHs  QoS_num  QoS_ID  station_ID  \\\n0      1136.95323  10.59506      1.0   9.24391        5       5       487.0   \n1      1148.76311  10.04912      1.0   8.73640        4       4       320.0   \n2      1089.36057  10.53430      1.0   8.67231        5       5       483.0   \n3      1099.39295   9.40919      0.0   4.80834        2       2       156.0   \n4      1050.67737   7.20484      0.0   6.00215        4       4       481.0   \n...           ...       ...      ...       ...      ...     ...         ...   \n11349  1107.16252   9.30018      0.0   3.88821        1       1       474.0   \n11350  1149.48262   9.42584      1.0   9.22787        4       4       209.0   \n11351  1106.63191  11.02506      1.0  11.22798        3       3       205.0   \n11352  1095.25573   8.53529      1.0   8.19965        3       3        38.0   \n11353  1162.41600   7.55910      1.0   9.92562        5       5         9.0   \n\n       code_ID  \n0         91.0  \n1         91.0  \n2         51.0  \n3        110.0  \n4        110.0  \n...        ...  \n11349     13.0  \n11350     53.0  \n11351    110.0  \n11352     63.0  \n11353    105.0  \n\n[11354 rows x 26 columns]",
      "text/html": "<div>\n<style scoped>\n    .dataframe tbody tr th:only-of-type {\n        vertical-align: middle;\n    }\n\n    .dataframe tbody tr th {\n        vertical-align: top;\n    }\n\n    .dataframe thead th {\n        text-align: right;\n    }\n</style>\n<table border=\"1\" class=\"dataframe\">\n  <thead>\n    <tr style=\"text-align: right;\">\n      <th></th>\n      <th>QoS</th>\n      <th>station</th>\n      <th>code</th>\n      <th>latitude</th>\n      <th>longitude</th>\n      <th>revision</th>\n      <th>PM10</th>\n      <th>CO</th>\n      <th>Pb</th>\n      <th>C2H3NO5</th>\n      <th>...</th>\n      <th>NH3</th>\n      <th>CH4</th>\n      <th>PRES</th>\n      <th>PM2.5</th>\n      <th>warning</th>\n      <th>PAHs</th>\n      <th>QoS_num</th>\n      <th>QoS_ID</th>\n      <th>station_ID</th>\n      <th>code_ID</th>\n    </tr>\n  </thead>\n  <tbody>\n    <tr>\n      <th>0</th>\n      <td>maintenance</td>\n      <td>Roslavl</td>\n      <td>RU</td>\n      <td>53.95278</td>\n      <td>32.86389</td>\n      <td>1.505174e+09</td>\n      <td>6.33846</td>\n      <td>6.61796</td>\n      <td>44.89247</td>\n      <td>0.22646</td>\n      <td>...</td>\n      <td>5.35805</td>\n      <td>6.00130</td>\n      <td>1136.95323</td>\n      <td>10.59506</td>\n      <td>1.0</td>\n      <td>9.24391</td>\n      <td>5</td>\n      <td>5</td>\n      <td>487.0</td>\n      <td>91.0</td>\n    </tr>\n    <tr>\n      <th>1</th>\n      <td>acceptable</td>\n      <td>Lesnoy</td>\n      <td>RU</td>\n      <td>58.63667</td>\n      <td>59.80222</td>\n      <td>1.444694e+09</td>\n      <td>6.78253</td>\n      <td>7.32578</td>\n      <td>50.42226</td>\n      <td>0.27588</td>\n      <td>...</td>\n      <td>5.16975</td>\n      <td>5.07507</td>\n      <td>1148.76311</td>\n      <td>10.04912</td>\n      <td>1.0</td>\n      <td>8.73640</td>\n      <td>4</td>\n      <td>4</td>\n      <td>320.0</td>\n      <td>91.0</td>\n    </tr>\n    <tr>\n      <th>2</th>\n      <td>maintenance</td>\n      <td>Robertsonpet</td>\n      <td>IN</td>\n      <td>12.95629</td>\n      <td>78.27539</td>\n      <td>1.382573e+09</td>\n      <td>5.71508</td>\n      <td>9.26158</td>\n      <td>26.86094</td>\n      <td>0.18788</td>\n      <td>...</td>\n      <td>5.76106</td>\n      <td>7.01203</td>\n      <td>1089.36057</td>\n      <td>10.53430</td>\n      <td>1.0</td>\n      <td>8.67231</td>\n      <td>5</td>\n      <td>5</td>\n      <td>483.0</td>\n      <td>51.0</td>\n    </tr>\n    <tr>\n      <th>3</th>\n      <td>good</td>\n      <td>Dublin</td>\n      <td>US</td>\n      <td>32.54044</td>\n      <td>-82.90375</td>\n      <td>1.620864e+09</td>\n      <td>9.16375</td>\n      <td>7.12481</td>\n      <td>48.82457</td>\n      <td>1.32986</td>\n      <td>...</td>\n      <td>5.96896</td>\n      <td>8.44913</td>\n      <td>1099.39295</td>\n      <td>9.40919</td>\n      <td>0.0</td>\n      <td>4.80834</td>\n      <td>2</td>\n      <td>2</td>\n      <td>156.0</td>\n      <td>110.0</td>\n    </tr>\n    <tr>\n      <th>4</th>\n      <td>acceptable</td>\n      <td>Riverbank</td>\n      <td>US</td>\n      <td>37.73604</td>\n      <td>-120.93549</td>\n      <td>1.614211e+09</td>\n      <td>7.04390</td>\n      <td>7.96828</td>\n      <td>56.56011</td>\n      <td>0.31311</td>\n      <td>...</td>\n      <td>8.58263</td>\n      <td>6.89506</td>\n      <td>1050.67737</td>\n      <td>7.20484</td>\n      <td>0.0</td>\n      <td>6.00215</td>\n      <td>4</td>\n      <td>4</td>\n      <td>481.0</td>\n      <td>110.0</td>\n    </tr>\n    <tr>\n      <th>...</th>\n      <td>...</td>\n      <td>...</td>\n      <td>...</td>\n      <td>...</td>\n      <td>...</td>\n      <td>...</td>\n      <td>...</td>\n      <td>...</td>\n      <td>...</td>\n      <td>...</td>\n      <td>...</td>\n      <td>...</td>\n      <td>...</td>\n      <td>...</td>\n      <td>...</td>\n      <td>...</td>\n      <td>...</td>\n      <td>...</td>\n      <td>...</td>\n      <td>...</td>\n      <td>...</td>\n    </tr>\n    <tr>\n      <th>11349</th>\n      <td>excellent</td>\n      <td>Recife</td>\n      <td>BR</td>\n      <td>-8.05389</td>\n      <td>-34.88111</td>\n      <td>1.654733e+09</td>\n      <td>9.56528</td>\n      <td>8.54654</td>\n      <td>40.70338</td>\n      <td>1.89160</td>\n      <td>...</td>\n      <td>5.81816</td>\n      <td>8.36536</td>\n      <td>1107.16252</td>\n      <td>9.30018</td>\n      <td>0.0</td>\n      <td>3.88821</td>\n      <td>1</td>\n      <td>1</td>\n      <td>474.0</td>\n      <td>13.0</td>\n    </tr>\n    <tr>\n      <th>11350</th>\n      <td>acceptable</td>\n      <td>Gorgonzola</td>\n      <td>IT</td>\n      <td>45.53069</td>\n      <td>9.40531</td>\n      <td>1.548202e+09</td>\n      <td>9.19695</td>\n      <td>7.92486</td>\n      <td>59.23293</td>\n      <td>1.40122</td>\n      <td>...</td>\n      <td>9.75596</td>\n      <td>6.93416</td>\n      <td>1149.48262</td>\n      <td>9.42584</td>\n      <td>1.0</td>\n      <td>9.22787</td>\n      <td>4</td>\n      <td>4</td>\n      <td>209.0</td>\n      <td>53.0</td>\n    </tr>\n    <tr>\n      <th>11351</th>\n      <td>average</td>\n      <td>Glendale</td>\n      <td>US</td>\n      <td>34.14251</td>\n      <td>-118.25508</td>\n      <td>1.511827e+09</td>\n      <td>10.27894</td>\n      <td>6.99879</td>\n      <td>48.01565</td>\n      <td>3.83467</td>\n      <td>...</td>\n      <td>8.29618</td>\n      <td>4.34404</td>\n      <td>1106.63191</td>\n      <td>11.02506</td>\n      <td>1.0</td>\n      <td>11.22798</td>\n      <td>3</td>\n      <td>3</td>\n      <td>205.0</td>\n      <td>110.0</td>\n    </tr>\n    <tr>\n      <th>11352</th>\n      <td>average</td>\n      <td>Azrou</td>\n      <td>MA</td>\n      <td>33.43443</td>\n      <td>-5.22126</td>\n      <td>1.420157e+09</td>\n      <td>8.21318</td>\n      <td>7.03138</td>\n      <td>50.31096</td>\n      <td>0.54791</td>\n      <td>...</td>\n      <td>9.26976</td>\n      <td>6.81885</td>\n      <td>1095.25573</td>\n      <td>8.53529</td>\n      <td>1.0</td>\n      <td>8.19965</td>\n      <td>3</td>\n      <td>3</td>\n      <td>38.0</td>\n      <td>63.0</td>\n    </tr>\n    <tr>\n      <th>11353</th>\n      <td>maintenance</td>\n      <td>Aksaray</td>\n      <td>TR</td>\n      <td>38.37255</td>\n      <td>34.02537</td>\n      <td>1.628381e+09</td>\n      <td>7.28314</td>\n      <td>8.72130</td>\n      <td>46.04753</td>\n      <td>0.34239</td>\n      <td>...</td>\n      <td>5.46613</td>\n      <td>3.85166</td>\n      <td>1162.41600</td>\n      <td>7.55910</td>\n      <td>1.0</td>\n      <td>9.92562</td>\n      <td>5</td>\n      <td>5</td>\n      <td>9.0</td>\n      <td>105.0</td>\n    </tr>\n  </tbody>\n</table>\n<p>11354 rows × 26 columns</p>\n</div>"
     },
     "execution_count": 139,
     "metadata": {},
     "output_type": "execute_result"
    }
   ],
   "source": [
    "df"
   ],
   "metadata": {
    "collapsed": false
   }
  },
  {
   "cell_type": "code",
   "execution_count": 136,
   "outputs": [],
   "source": [],
   "metadata": {
    "collapsed": false
   }
  }
 ],
 "metadata": {
  "kernelspec": {
   "display_name": "Python 3",
   "language": "python",
   "name": "python3"
  },
  "language_info": {
   "codemirror_mode": {
    "name": "ipython",
    "version": 2
   },
   "file_extension": ".py",
   "mimetype": "text/x-python",
   "name": "python",
   "nbconvert_exporter": "python",
   "pygments_lexer": "ipython2",
   "version": "2.7.6"
  }
 },
 "nbformat": 4,
 "nbformat_minor": 0
}
