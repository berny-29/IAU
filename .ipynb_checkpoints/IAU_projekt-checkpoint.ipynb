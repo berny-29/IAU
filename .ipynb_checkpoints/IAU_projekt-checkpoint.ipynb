{
 "cells": [
  {
   "cell_type": "code",
   "execution_count": null,
   "metadata": {},
   "outputs": [],
   "source": [
    "from datetime import datetime\n",
    "\n",
    "import dateparser as dateparser\n",
    "import matplotlib\n",
    "import matplotlib.pylab as pylab\n",
    "import matplotlib.pyplot as plt\n",
    "import seaborn as sns\n",
    "import pandas as pd\n",
    "import numpy as np\n",
    "import scipy.stats as stats"
   ]
  },
  {
   "cell_type": "code",
   "execution_count": null,
   "metadata": {},
   "outputs": [],
   "source": [
    "measurements_file = \"data/measurements.csv\"\n",
    "measurements_data = pd.read_csv(measurements_file, sep='\\t')\n",
    "stations_file = \"data/stations.csv\"\n",
    "stations_data = pd.read_csv(stations_file, sep='\\t')"
   ]
  },
  {
   "cell_type": "code",
   "execution_count": null,
   "metadata": {},
   "outputs": [],
   "source": [
    "stations_data['date'] = stations_data.apply(lambda row: dateparser.parse(row.revision, settings={'TIMEZONE': 'CEST'}), axis = 1)\n",
    "df=pd.merge(stations_data, measurements_data, on=['latitude', 'longitude'], how='outer')\n",
    "df['warning'] = df['warning'].astype(bool)\n",
    "df.head(20)"
   ]
  },
  {
   "cell_type": "markdown",
   "metadata": {},
   "source": []
  },
  {
   "cell_type": "markdown",
   "metadata": {},
   "source": []
  },
  {
   "cell_type": "code",
   "execution_count": null,
   "metadata": {
    "pycharm": {
     "is_executing": true
    }
   },
   "outputs": [],
   "source": [
    "sns.displot(df['PM2.5'], bins=20, kde=True)\n",
    "sns.displot(df['PM10'], bins=20, kde=True)\n",
    "sns.displot(df['NOx'], bins=20, kde=True)\n",
    "sns.displot(df['SO2'], bins=20, kde=True)\n",
    "sns.displot(df['CO'], bins=20, kde=True)\n",
    "sns.displot(df['PAHs'], bins=20, kde=True)\n",
    "sns.displot(df['NH3'], bins=20, kde=True)\n",
    "sns.displot(df['Pb'], bins=20, kde=True)\n",
    "sns.displot(df['TEMP'], bins=20, kde=True)\n",
    "sns.displot(df['PRES'], bins=20, kde=True)\n",
    "sns.displot(df['CFCs'], bins=20, kde=True)\n",
    "sns.displot(df['C2H3NO5'], bins=20, kde=True)\n",
    "sns.displot(df['H2CO'], bins=20, kde=True)\n",
    "sns.displot(df['O3'], bins=20, kde=True)\n",
    "sns.displot(df['CH4'], bins=20, kde=True)"
   ]
  },
  {
   "cell_type": "code",
   "execution_count": null,
   "metadata": {
    "pycharm": {
     "is_executing": true
    }
   },
   "outputs": [],
   "source": [
    "# sns.scatterplot(data=df, y=\"PM10\", x=\"PM2.5\")\n",
    "# sns.regplot(data=df, x=\"size\", y=\"tip\", color=\".3\")\n",
    "sns.pairplot(df, hue=\"warning\")\n",
    "\n"
   ]
  },
  {
   "cell_type": "code",
   "execution_count": null,
   "metadata": {},
   "outputs": [],
   "source": []
  },
  {
   "cell_type": "code",
   "execution_count": null,
   "metadata": {},
   "outputs": [],
   "source": []
  }
 ],
 "metadata": {
  "kernelspec": {
   "display_name": "Python 3 (ipykernel)",
   "language": "python",
   "name": "python3"
  },
  "language_info": {
   "codemirror_mode": {
    "name": "ipython",
    "version": 2
   },
   "file_extension": ".py",
   "mimetype": "text/x-python",
   "name": "python",
   "nbconvert_exporter": "python",
   "pygments_lexer": "ipython2",
   "version": "2.7.6"
  }
 },
 "nbformat": 4,
 "nbformat_minor": 1
}
